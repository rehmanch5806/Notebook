{
 "cells": [
  {
   "cell_type": "markdown",
   "id": "5a46551f",
   "metadata": {},
   "source": [
    "# PYTHON WITH BABA AAMMAR"
   ]
  },
  {
   "cell_type": "markdown",
   "id": "33212c1e",
   "metadata": {},
   "source": [
    "# Participant\n",
    "\n",
    "Tittle= \"Private Notebook\"\n",
    "\n",
    "Name= \"Abdul Rahman\"\n",
    "\n",
    "Email= \"rehmanch5806@gmail.com\"\n",
    "\n",
    "Whatsapp No= \"+923056943171\n"
   ]
  },
  {
   "cell_type": "markdown",
   "id": "bed8688f",
   "metadata": {},
   "source": [
    "### OPERATORS"
   ]
  },
  {
   "cell_type": "code",
   "execution_count": null,
   "id": "2cd1da7d",
   "metadata": {},
   "outputs": [],
   "source": [
    "print(2+2)  #adddition\n",
    "print(3*4)  #multiplication operator\n",
    "print(6-4)  #Substraction Operator\n",
    "print(9/3)  #Devision Operator / if we need floating value\n",
    "print(9//3) #if we need complete whole value\n",
    "print(16%4) #Modulous Operator / if e need reminder\n",
    "print(3**2) #Exponents / if we want power of some value\n",
    "\n",
    "print(2+3*4-6/9**4)\n"
   ]
  },
  {
   "cell_type": "markdown",
   "id": "cd29444e",
   "metadata": {},
   "source": [
    "# PEMDAS\n",
    "- paranthesis\n",
    "-  Exponents \n",
    "-  Multiliplication \n",
    "-  Devision\n",
    "-  Addition \n",
    "-  Subsrtraction\n",
    "- Left to Right For Multiliplication Devision & Addition Subsrtraction"
   ]
  },
  {
   "cell_type": "markdown",
   "id": "cb384de3",
   "metadata": {},
   "source": [
    "# String"
   ]
  },
  {
   "cell_type": "code",
   "execution_count": null,
   "id": "0bff22a1",
   "metadata": {},
   "outputs": [],
   "source": [
    "print(\"hello world\")\n",
    "print('Hello world')\n",
    "print('''hey world''')\n"
   ]
  },
  {
   "cell_type": "markdown",
   "id": "5c99a36a",
   "metadata": {},
   "source": [
    "#Types of Strings"
   ]
  },
  {
   "cell_type": "markdown",
   "id": "3dce6065",
   "metadata": {},
   "source": [
    "#(' ')        single Quotes\n",
    "#(\" \")        Double Quotes\n",
    "#(''' ''')    Tripple Quotes\n"
   ]
  },
  {
   "cell_type": "markdown",
   "id": "c63a66d5",
   "metadata": {},
   "source": [
    "# VARIABLE"
   ]
  },
  {
   "cell_type": "code",
   "execution_count": null,
   "id": "5769fd94",
   "metadata": {},
   "outputs": [],
   "source": [
    "x=34                   #Integer Variable\n",
    "y=5.0                  #float Variable\n",
    "z=\"Ammar is my guru\"   #String Variable\n",
    "print(x)\n",
    "print(y)\n",
    "print(z)\n",
    " "
   ]
  },
  {
   "cell_type": "markdown",
   "id": "5b6cb2ac",
   "metadata": {},
   "source": [
    "# Rules to assign variable\n",
    "- The variable should contain Variables numbers or underscore\n",
    "- Donot start with numbers\n",
    "- Spaces are not allow\n",
    "- Donot use functional keywords of pyhon e.g dont use (break, dell , test etc)\n",
    "- Short and descriptive\n",
    "- Case Senstivity (lower case ,upper case should used)\n"
   ]
  },
  {
   "cell_type": "code",
   "execution_count": 1,
   "id": "a9601e9b",
   "metadata": {},
   "outputs": [
    {
     "name": "stdout",
     "output_type": "stream",
     "text": [
      "8 females & 4 males\n",
      "<class 'str'>\n"
     ]
    }
   ],
   "source": [
    "persons_in_meeting=4\n",
    "persons_in_meeting=\"8 females & 4 males\"\n",
    "print(persons_in_meeting)\n",
    "\n",
    "# type(persons_in_meeting)\n",
    "print(type(persons_in_meeting))"
   ]
  },
  {
   "cell_type": "markdown",
   "id": "2e1b20c0",
   "metadata": {},
   "source": [
    "# input_function"
   ]
  },
  {
   "cell_type": "code",
   "execution_count": null,
   "id": "e6c9054e",
   "metadata": {},
   "outputs": [],
   "source": [
    "persons=4\n",
    "print(persons)\n",
    "\n",
    "# #input function\n",
    "persons=input(\"how many persons in room  ?  \")     \n",
    "print( persons + \" peoples are in the room\")\n",
    "\n",
    "# #2nd way of input function\n",
    "persons=input(\"How many persons in room  ? \")\n",
    "greeting=\"ASSALAM U ALAKKIM all\"\n",
    "print( greeting , persons )\n",
    "\n",
    "# #an other stage of 2nd type\n",
    "persons=input(\"How many persons in room  ? \")\n",
    "print(\"Assalam u alaikum all \",persons ) \n",
    "\n",
    "#3rd srage input function \n",
    "persons=input(\"how many persons in room  ?  \")\n",
    "Age=input(\"Whats your all average age ?\")\n",
    "greeting=\"ASSALAM U ALAKKIM all \"\n",
    "print(greeting ,persons , \"you all are still young\" )"
   ]
  },
  {
   "cell_type": "markdown",
   "id": "70824eeb",
   "metadata": {},
   "source": [
    "# Logical Operators"
   ]
  },
  {
   "cell_type": "code",
   "execution_count": null,
   "id": "211f2474",
   "metadata": {},
   "outputs": [],
   "source": [
    " #either true OR False\n",
    "\n",
    "#less than                  <\n",
    "#less than equal to         <=\n",
    "#Greater than               >\n",
    "#Greater than equal to      >=  \n",
    "#Equal to                   ==\n",
    "#Not Equal To               !=\n",
    "#Assignment operator        =  #used in variables\n",
    "\n",
    "\n",
    "#is 5 equal to 5?\n",
    "print(5==5)\n",
    "print(5<6)\n",
    "print(5<=6)\n",
    "print(6>5)\n",
    "print(6>=5)\n",
    "print(5!=5)\n",
    "\n",
    "#EXAMPLE\n",
    "Mohsin_age=5\n",
    "School_age=5\n",
    "print(Mohsin_age==School_age)\n",
    "\n",
    "#anyother stage with input\n",
    "\n",
    "Mohsin_age=input(\"Whats your age? \")\n",
    "School_age=5       # false horha hay q ky type string hochki hay\n",
    "print(type(Mohsin_age))   #class Type String hue v hay\n",
    "Mohsin_age=int(Mohsin_age)\n",
    "print(type(Mohsin_age))    #class type changed to int\n",
    "print(Mohsin_age==School_age)\n",
    "\n",
    "\n",
    "\n"
   ]
  },
  {
   "cell_type": "markdown",
   "id": "2ef676f7",
   "metadata": {},
   "source": [
    "# FUNCTIONS"
   ]
  },
  {
   "cell_type": "code",
   "execution_count": null,
   "id": "6a036fda",
   "metadata": {},
   "outputs": [],
   "source": [
    "def school_calculator(Mohsin_age , text):\n",
    "    if Mohsin_age==5:\n",
    "         print(\"Mohsin is eligible for School\")\n",
    "    elif Mohsin_age>=5:\n",
    "         print(\"Mohsin is also eligible for School\")\n",
    "    elif Mohsin_age<=4:\n",
    "         print(\"You soul care abou your child\")\n",
    "    else:\n",
    "     print(\"Mohsin is not eligible for School\") \n",
    "school_calculator(3,\"mohsin\")\n",
    "\n"
   ]
  },
  {
   "cell_type": "markdown",
   "id": "91d09bc2",
   "metadata": {},
   "source": [
    "# Type connversion"
   ]
  },
  {
   "cell_type": "code",
   "execution_count": null,
   "id": "8976aff5",
   "metadata": {},
   "outputs": [],
   "source": [
    "Mohsin_age=input(\"Whats your age? \") \n",
    "print(Mohsin_age ,type(float(Mohsin_age)))  \n"
   ]
  },
  {
   "cell_type": "markdown",
   "id": "03e8619d",
   "metadata": {},
   "source": [
    "# while for"
   ]
  },
  {
   "cell_type": "code",
   "execution_count": null,
   "id": "d7744483",
   "metadata": {},
   "outputs": [],
   "source": [
    "a=24\n",
    "while a <=30:\n",
    "    print(a)\n",
    "    a=a+1\n",
    "\n",
    "\n",
    "x=11\n",
    "while x<=23:\n",
    "    print(x)\n",
    "    x=x+1\n",
    "\n",
    "\n",
    "for x in range(1,4):\n",
    "    print(x)"
   ]
  },
  {
   "cell_type": "markdown",
   "id": "c544e5a6",
   "metadata": {},
   "source": [
    "# if else Statement"
   ]
  },
  {
   "cell_type": "code",
   "execution_count": null,
   "id": "9a86a01f",
   "metadata": {},
   "outputs": [],
   "source": [
    "Mohsin_age=2\n",
    "required_age_for_school=5\n",
    "if Mohsin_age==required_age_for_school:\n",
    "    print(\"Mohsin is eligible for School\")\n",
    "elif Mohsin_age>=required_age_for_school:\n",
    "    print(\"Mohsin is also eligible for School\")\n",
    "elif Mohsin_age<=4:\n",
    "    print(\"You soul care abou your child\")\n",
    "else:\n",
    "    print(\"Mohsin is not eligible for School\") "
   ]
  },
  {
   "cell_type": "markdown",
   "id": "1e0f7620",
   "metadata": {},
   "source": [
    "# libraries import"
   ]
  },
  {
   "cell_type": "code",
   "execution_count": null,
   "id": "8c56d06e",
   "metadata": {
    "scrolled": true
   },
   "outputs": [],
   "source": [
    "import math\n",
    "print(math.pi)\n",
    "\n",
    "import statistics\n",
    "x=[23,54,7,767,87,5,6]\n",
    "print(statistics.mean(x))\n"
   ]
  },
  {
   "cell_type": "markdown",
   "id": "17fa1e32",
   "metadata": {},
   "source": [
    "# indexing"
   ]
  },
  {
   "cell_type": "code",
   "execution_count": null,
   "id": "39f0a734",
   "metadata": {},
   "outputs": [],
   "source": [
    "a=\"samosa pakora\"\n",
    "a"
   ]
  },
  {
   "cell_type": "code",
   "execution_count": null,
   "id": "38371459",
   "metadata": {},
   "outputs": [],
   "source": [
    "a[0]"
   ]
  },
  {
   "cell_type": "code",
   "execution_count": null,
   "id": "4c81055d",
   "metadata": {},
   "outputs": [],
   "source": [
    "a[1]"
   ]
  },
  {
   "cell_type": "code",
   "execution_count": null,
   "id": "0e79cce6",
   "metadata": {},
   "outputs": [],
   "source": [
    "a[3]"
   ]
  },
  {
   "cell_type": "markdown",
   "id": "0df217c6",
   "metadata": {},
   "source": [
    "## To find leght"
   ]
  },
  {
   "cell_type": "code",
   "execution_count": null,
   "id": "742fcf05",
   "metadata": {},
   "outputs": [],
   "source": [
    "len(a)"
   ]
  },
  {
   "cell_type": "markdown",
   "id": "092bef5c",
   "metadata": {},
   "source": [
    "# last character is exclusive"
   ]
  },
  {
   "cell_type": "code",
   "execution_count": null,
   "id": "89d66f72",
   "metadata": {
    "scrolled": true
   },
   "outputs": [],
   "source": [
    "a[13]"
   ]
  },
  {
   "cell_type": "code",
   "execution_count": null,
   "id": "a127a88c",
   "metadata": {},
   "outputs": [],
   "source": [
    "a[0:6]"
   ]
  },
  {
   "cell_type": "code",
   "execution_count": null,
   "id": "082b67bb",
   "metadata": {
    "scrolled": true
   },
   "outputs": [],
   "source": [
    "a[7:14]"
   ]
  },
  {
   "cell_type": "code",
   "execution_count": null,
   "id": "f676b16e",
   "metadata": {},
   "outputs": [],
   "source": [
    "len(a)"
   ]
  },
  {
   "cell_type": "code",
   "execution_count": null,
   "id": "117d8d17",
   "metadata": {},
   "outputs": [],
   "source": [
    "a[-1]"
   ]
  },
  {
   "cell_type": "code",
   "execution_count": null,
   "id": "7dae5b26",
   "metadata": {},
   "outputs": [],
   "source": [
    "a[-3]"
   ]
  },
  {
   "cell_type": "code",
   "execution_count": null,
   "id": "f91e7615",
   "metadata": {},
   "outputs": [],
   "source": [
    "a[-6:13]"
   ]
  },
  {
   "cell_type": "markdown",
   "id": "0712f52b",
   "metadata": {},
   "source": [
    "# String Methods"
   ]
  },
  {
   "cell_type": "code",
   "execution_count": null,
   "id": "f77935e5",
   "metadata": {},
   "outputs": [],
   "source": [
    "food=\"briyani\"\n",
    "food"
   ]
  },
  {
   "cell_type": "code",
   "execution_count": null,
   "id": "f2dedacc",
   "metadata": {},
   "outputs": [],
   "source": [
    "len(food)"
   ]
  },
  {
   "cell_type": "markdown",
   "id": "6c73d72e",
   "metadata": {},
   "source": [
    "- Ager main food kay bad dot likhnay kay bad tab dbnaonga to options show hngay "
   ]
  },
  {
   "cell_type": "code",
   "execution_count": null,
   "id": "0c0267e2",
   "metadata": {
    "scrolled": true
   },
   "outputs": [],
   "source": [
    "food.capitalize()       # capitalizer first letter "
   ]
  },
  {
   "cell_type": "code",
   "execution_count": null,
   "id": "591b10dc",
   "metadata": {},
   "outputs": [],
   "source": [
    "food.upper()            # capitalize every letter "
   ]
  },
  {
   "cell_type": "code",
   "execution_count": null,
   "id": "b3aa1522",
   "metadata": {},
   "outputs": [],
   "source": [
    "food.lower()            # lower letter "
   ]
  },
  {
   "cell_type": "code",
   "execution_count": null,
   "id": "5e4659b4",
   "metadata": {},
   "outputs": [],
   "source": [
    "food.replace(\"b\",\"sh\")  # Replace letter "
   ]
  },
  {
   "cell_type": "markdown",
   "id": "5eda02ed",
   "metadata": {},
   "source": [
    "# counting a specific letter "
   ]
  },
  {
   "cell_type": "code",
   "execution_count": null,
   "id": "bae7f87c",
   "metadata": {},
   "outputs": [],
   "source": [
    "food.count(\"a\")"
   ]
  },
  {
   "cell_type": "code",
   "execution_count": null,
   "id": "3a6c5a4d",
   "metadata": {},
   "outputs": [],
   "source": [
    "food.count(\"i\")"
   ]
  },
  {
   "cell_type": "markdown",
   "id": "6741532b",
   "metadata": {},
   "source": [
    "# finding an index number in string "
   ]
  },
  {
   "cell_type": "code",
   "execution_count": null,
   "id": "175a5718",
   "metadata": {},
   "outputs": [],
   "source": [
    "food.find(\"a\")"
   ]
  },
  {
   "cell_type": "code",
   "execution_count": null,
   "id": "3d874379",
   "metadata": {},
   "outputs": [],
   "source": [
    "# spliting a String\n",
    "Menue=\"samosa & pakora , briyan & karahi , fibo & fish\"\n",
    "Menue"
   ]
  },
  {
   "cell_type": "code",
   "execution_count": null,
   "id": "bf32818b",
   "metadata": {},
   "outputs": [],
   "source": [
    "Menue.split(\",\")"
   ]
  },
  {
   "cell_type": "markdown",
   "id": "65aafd6c",
   "metadata": {},
   "source": [
    "## Basic data stuctures\n",
    "- tuples\n",
    "- lists\n",
    "- Dictioneries\n",
    "- Set\n",
    "\n"
   ]
  },
  {
   "cell_type": "markdown",
   "id": "8332e11c",
   "metadata": {},
   "source": [
    "## Tuples\n",
    "- Orderd Collection of Elements\n",
    "- Enclosed in ( )\n",
    "- Different kind of Elements can Stored\n",
    "- Once Elements can stored cant cahangable or mutateable"
   ]
  },
  {
   "cell_type": "code",
   "execution_count": null,
   "id": "63e879eb",
   "metadata": {},
   "outputs": [],
   "source": [
    "A=(1, \"pythom\" , 2.3 , False)\n",
    "A"
   ]
  },
  {
   "cell_type": "code",
   "execution_count": null,
   "id": "f84ef5e0",
   "metadata": {
    "scrolled": true
   },
   "outputs": [],
   "source": [
    "type(A)"
   ]
  },
  {
   "cell_type": "markdown",
   "id": "1145e967",
   "metadata": {},
   "source": [
    "# Indexing of Tuple"
   ]
  },
  {
   "cell_type": "code",
   "execution_count": null,
   "id": "00bdb061",
   "metadata": {},
   "outputs": [],
   "source": [
    "A[0]"
   ]
  },
  {
   "cell_type": "code",
   "execution_count": null,
   "id": "0a95fdc0",
   "metadata": {},
   "outputs": [],
   "source": [
    "A[1]"
   ]
  },
  {
   "cell_type": "code",
   "execution_count": null,
   "id": "70e7fcfb",
   "metadata": {},
   "outputs": [],
   "source": [
    "A[2]"
   ]
  },
  {
   "cell_type": "code",
   "execution_count": null,
   "id": "ded52dde",
   "metadata": {},
   "outputs": [],
   "source": [
    "A[3]"
   ]
  },
  {
   "cell_type": "code",
   "execution_count": null,
   "id": "4cd0362e",
   "metadata": {},
   "outputs": [],
   "source": [
    "len(A)"
   ]
  },
  {
   "cell_type": "code",
   "execution_count": null,
   "id": "10534d7a",
   "metadata": {},
   "outputs": [],
   "source": [
    "A[4]  # Last Character is exclusicve"
   ]
  },
  {
   "cell_type": "code",
   "execution_count": null,
   "id": "b9883738",
   "metadata": {},
   "outputs": [],
   "source": [
    "A.count(\"p\")"
   ]
  },
  {
   "cell_type": "code",
   "execution_count": null,
   "id": "c419ecbd",
   "metadata": {},
   "outputs": [],
   "source": [
    "A[1:2]"
   ]
  },
  {
   "cell_type": "code",
   "execution_count": null,
   "id": "042bb7b3",
   "metadata": {
    "scrolled": true
   },
   "outputs": [],
   "source": [
    "A[1:4]"
   ]
  },
  {
   "cell_type": "code",
   "execution_count": null,
   "id": "0aa77f4d",
   "metadata": {},
   "outputs": [],
   "source": [
    "A[0:2]"
   ]
  },
  {
   "cell_type": "code",
   "execution_count": null,
   "id": "b587f2ff",
   "metadata": {},
   "outputs": [],
   "source": [
    "B=(2,\"hello\" , 3.0 , True)\n",
    "B"
   ]
  },
  {
   "cell_type": "markdown",
   "id": "0f720fcb",
   "metadata": {},
   "source": [
    "# Addition , Multiplication Can Be Done"
   ]
  },
  {
   "cell_type": "markdown",
   "id": "93d6956a",
   "metadata": {},
   "source": [
    "# Concatination"
   ]
  },
  {
   "cell_type": "code",
   "execution_count": null,
   "id": "5bc573c1",
   "metadata": {},
   "outputs": [],
   "source": [
    "A+B"
   ]
  },
  {
   "cell_type": "code",
   "execution_count": null,
   "id": "f391ef77",
   "metadata": {},
   "outputs": [],
   "source": [
    "A*2+B"
   ]
  },
  {
   "cell_type": "code",
   "execution_count": null,
   "id": "6f2c3fcd",
   "metadata": {},
   "outputs": [],
   "source": [
    "C=(56,876,45,443)\n",
    "C"
   ]
  },
  {
   "cell_type": "markdown",
   "id": "62df49a8",
   "metadata": {},
   "source": [
    "# To Check Minimum Value"
   ]
  },
  {
   "cell_type": "code",
   "execution_count": null,
   "id": "b506689f",
   "metadata": {},
   "outputs": [],
   "source": [
    "min(C)"
   ]
  },
  {
   "cell_type": "markdown",
   "id": "df9158ea",
   "metadata": {},
   "source": [
    "# To Check Maximum Value"
   ]
  },
  {
   "cell_type": "code",
   "execution_count": null,
   "id": "a3e16f69",
   "metadata": {},
   "outputs": [],
   "source": [
    "max(C)"
   ]
  },
  {
   "cell_type": "markdown",
   "id": "b48f443e",
   "metadata": {},
   "source": [
    "# LIsts\n",
    "- Ordered Collection of Elements\n",
    "- Enclosed in [] Square Brackets\n",
    "\n"
   ]
  },
  {
   "cell_type": "code",
   "execution_count": 7,
   "id": "50a517cd",
   "metadata": {},
   "outputs": [
    {
     "data": {
      "text/plain": [
       "[30, 'world', True]"
      ]
     },
     "execution_count": 7,
     "metadata": {},
     "output_type": "execute_result"
    }
   ],
   "source": [
    "list=[30,\"world\",True ]\n",
    "list"
   ]
  },
  {
   "cell_type": "code",
   "execution_count": null,
   "id": "b993e9fd",
   "metadata": {},
   "outputs": [],
   "source": [
    "list[0]"
   ]
  },
  {
   "cell_type": "code",
   "execution_count": null,
   "id": "a41af725",
   "metadata": {},
   "outputs": [],
   "source": [
    "list[1]"
   ]
  },
  {
   "cell_type": "code",
   "execution_count": null,
   "id": "236cf286",
   "metadata": {},
   "outputs": [],
   "source": [
    "len(list)"
   ]
  },
  {
   "cell_type": "code",
   "execution_count": null,
   "id": "788032ee",
   "metadata": {},
   "outputs": [],
   "source": [
    "type(list)"
   ]
  },
  {
   "cell_type": "markdown",
   "id": "c8b2717f",
   "metadata": {},
   "source": [
    "# Reverse Function"
   ]
  },
  {
   "cell_type": "code",
   "execution_count": null,
   "id": "7c545147",
   "metadata": {},
   "outputs": [],
   "source": [
    "list.reverse()\n",
    "list"
   ]
  },
  {
   "cell_type": "code",
   "execution_count": 8,
   "id": "ab555cfb",
   "metadata": {},
   "outputs": [
    {
     "data": {
      "text/plain": [
       "[30, 'world', True, 'He is well']"
      ]
     },
     "execution_count": 8,
     "metadata": {},
     "output_type": "execute_result"
    }
   ],
   "source": [
    "list.append(\"He is well\")\n",
    "list"
   ]
  },
  {
   "cell_type": "code",
   "execution_count": null,
   "id": "f6442023",
   "metadata": {},
   "outputs": [],
   "source": [
    "list.count(3)"
   ]
  },
  {
   "cell_type": "markdown",
   "id": "fe43c017",
   "metadata": {},
   "source": [
    "# Sorting"
   ]
  },
  {
   "cell_type": "code",
   "execution_count": null,
   "id": "ae3291bb",
   "metadata": {},
   "outputs": [],
   "source": [
    "lis=[23,4,34,3543,23,21,332,5456,45,456,87]\n",
    "lis.sort()\n",
    "lis"
   ]
  },
  {
   "cell_type": "code",
   "execution_count": null,
   "id": "186e6e62",
   "metadata": {
    "scrolled": true
   },
   "outputs": [],
   "source": [
    "lis*2"
   ]
  },
  {
   "cell_type": "markdown",
   "id": "c0f2d30f",
   "metadata": {},
   "source": [
    "# Dictonaries\n",
    "- An un Ordered Collection of Elements\n",
    "- Key and Value\n",
    "- Curly Barackets {}\n",
    "- Mutatable"
   ]
  },
  {
   "cell_type": "code",
   "execution_count": null,
   "id": "0d83d035",
   "metadata": {},
   "outputs": [],
   "source": [
    "food={\"samosas\":30, \"pakora\":28,\"briyani\":50,\"piyaz\":70}\n",
    "food"
   ]
  },
  {
   "cell_type": "markdown",
   "id": "6aa25c74",
   "metadata": {},
   "source": [
    "# Extract Data"
   ]
  },
  {
   "cell_type": "code",
   "execution_count": null,
   "id": "b6778117",
   "metadata": {},
   "outputs": [],
   "source": [
    "food.keys()"
   ]
  },
  {
   "cell_type": "markdown",
   "id": "3b78f3d7",
   "metadata": {},
   "source": [
    "# oR"
   ]
  },
  {
   "cell_type": "code",
   "execution_count": null,
   "id": "c13081e0",
   "metadata": {},
   "outputs": [],
   "source": [
    "keys1=food.keys()\n",
    "keys1"
   ]
  },
  {
   "cell_type": "code",
   "execution_count": null,
   "id": "96c29b62",
   "metadata": {
    "scrolled": true
   },
   "outputs": [],
   "source": [
    "food.values()"
   ]
  },
  {
   "cell_type": "markdown",
   "id": "f7182402",
   "metadata": {},
   "source": [
    "# oR"
   ]
  },
  {
   "cell_type": "code",
   "execution_count": null,
   "id": "a6ff8c17",
   "metadata": {},
   "outputs": [],
   "source": [
    "values1=food.values()\n",
    "values1"
   ]
  },
  {
   "cell_type": "markdown",
   "id": "85d3b5c0",
   "metadata": {},
   "source": [
    "# Adding New Values"
   ]
  },
  {
   "cell_type": "code",
   "execution_count": null,
   "id": "e131bd55",
   "metadata": {},
   "outputs": [],
   "source": [
    "food[\"tikki\"]=132\n",
    "food"
   ]
  },
  {
   "cell_type": "markdown",
   "id": "8ba39742",
   "metadata": {},
   "source": [
    "# Update"
   ]
  },
  {
   "cell_type": "code",
   "execution_count": null,
   "id": "35af083c",
   "metadata": {},
   "outputs": [],
   "source": [
    "food[\"tikki\"]=156\n",
    "food"
   ]
  },
  {
   "cell_type": "code",
   "execution_count": null,
   "id": "490eef61",
   "metadata": {},
   "outputs": [],
   "source": [
    "food2={\"sawaiyan\":100, \"date\":50 , \"almonds\":3000}\n",
    "food2"
   ]
  },
  {
   "cell_type": "markdown",
   "id": "f9daec47",
   "metadata": {},
   "source": [
    "# concatination"
   ]
  },
  {
   "cell_type": "code",
   "execution_count": null,
   "id": "e9d0bbd4",
   "metadata": {
    "scrolled": true
   },
   "outputs": [],
   "source": [
    "food.update(food2)\n",
    "food"
   ]
  },
  {
   "cell_type": "markdown",
   "id": "b9aa2e35",
   "metadata": {},
   "source": [
    "# Sets\n",
    "- An  un Ordered Collection of Element\n",
    "- Curly Barackets {}\n",
    "- NO Duplicat Allowed"
   ]
  },
  {
   "cell_type": "code",
   "execution_count": null,
   "id": "657f4e4f",
   "metadata": {},
   "outputs": [],
   "source": [
    "s={\"AAmar\" , 32, 43, 54.7}\n",
    "s"
   ]
  },
  {
   "cell_type": "code",
   "execution_count": null,
   "id": "87d4ef78",
   "metadata": {},
   "outputs": [],
   "source": [
    "s.add(\"hello world\")\n",
    "s"
   ]
  },
  {
   "cell_type": "code",
   "execution_count": null,
   "id": "4911849a",
   "metadata": {},
   "outputs": [],
   "source": [
    "s.remove(32)\n",
    "s"
   ]
  },
  {
   "cell_type": "markdown",
   "id": "42733fb8",
   "metadata": {},
   "source": [
    "# DOn't use duplicate in Sets"
   ]
  },
  {
   "cell_type": "code",
   "execution_count": null,
   "id": "a3b78551",
   "metadata": {},
   "outputs": [],
   "source": [
    "s={\"AAmar\",32, 32, 43, 54.7}    # I duplicates 32 it print only 32\n",
    "s"
   ]
  },
  {
   "cell_type": "markdown",
   "id": "fd18b5dd",
   "metadata": {},
   "source": [
    "# *DATA VISUALIZATION (PLOTS)*"
   ]
  },
  {
   "cell_type": "markdown",
   "id": "97c3b380",
   "metadata": {},
   "source": [
    "# LINE PLOTS"
   ]
  },
  {
   "cell_type": "code",
   "execution_count": 9,
   "id": "d5720e07",
   "metadata": {},
   "outputs": [
    {
     "data": {
      "image/png": "[encoded data removed]",
      "text/plain": [
       "<Figure size 432x288 with 1 Axes>"
      ]
     },
     "metadata": {
      "needs_background": "light"
     },
     "output_type": "display_data"
    }
   ],
   "source": [
    "# inport Libraries\n",
    "import seaborn as sns\n",
    "import matplotlib.pyplot as plt\n",
    "\n",
    "# Import DataSet\n",
    "phool = sns.load_dataset(\"iris\")\n",
    "phool\n",
    "##Draw a line plot\n",
    "sns.lineplot(x=\"sepal_length\",y=\"sepal_width\", data=phool)\n",
    "plt.show()"
   ]
  },
  {
   "cell_type": "markdown",
   "id": "5a1e2177",
   "metadata": {},
   "source": [
    "# Adding title "
   ]
  },
  {
   "cell_type": "code",
   "execution_count": null,
   "id": "f9a9efea",
   "metadata": {},
   "outputs": [],
   "source": [
    "# inport Libraries\n",
    "import seaborn as sns\n",
    "import matplotlib.pyplot as plt\n",
    "\n",
    "# Import DataSet\n",
    "phool = sns.load_dataset(\"iris\")\n",
    "phool\n",
    "##Draw a line plot\n",
    "sns.lineplot(x=\"sepal_length\",y=\"sepal_width\", data=phool)\n",
    "plt.title(\"Sepal Area\")\n",
    "plt.show()"
   ]
  },
  {
   "cell_type": "markdown",
   "id": "baea3908",
   "metadata": {},
   "source": [
    "# Adding / Changing limits"
   ]
  },
  {
   "cell_type": "code",
   "execution_count": 10,
   "id": "4853f109",
   "metadata": {},
   "outputs": [
    {
     "data": {
      "image/png": "[encoded data removed]",
      "text/plain": [
       "<Figure size 432x288 with 1 Axes>"
      ]
     },
     "metadata": {
      "needs_background": "light"
     },
     "output_type": "display_data"
    }
   ],
   "source": [
    "# inport Libraries\n",
    "import seaborn as sns\n",
    "import matplotlib.pyplot as plt\n",
    "\n",
    "# Import DataSet\n",
    "phool = sns.load_dataset(\"iris\")\n",
    "phool\n",
    "##Draw a line plot\n",
    "sns.lineplot(x=\"sepal_length\",y=\"sepal_width\", data=phool)\n",
    "plt.title(\"Sepal Area\")\n",
    "plt.xlim(1)\n",
    "plt.ylim(2) \n",
    "plt.show()"
   ]
  },
  {
   "cell_type": "code",
   "execution_count": null,
   "id": "15fdb76c",
   "metadata": {},
   "outputs": [],
   "source": [
    "# inport Libraries\n",
    "import seaborn as sns\n",
    "import matplotlib.pyplot as plt\n",
    "\n",
    "# Import DataSet\n",
    "phool = sns.load_dataset(\"iris\")\n",
    "phool\n",
    "##Draw a line plot\n",
    "sns.lineplot(x=\"sepal_length\",y=\"sepal_width\", data=phool)\n",
    "plt.title(\"Sepal Area\")\n",
    "plt.ylim(2)\n",
    "plt.show()"
   ]
  },
  {
   "cell_type": "markdown",
   "id": "644ac67c",
   "metadata": {},
   "source": [
    "# Set Styles\n",
    "- Darkgrid\n",
    "- Whitegrid\n",
    "- Dark\n",
    "- white\n",
    "- Ticks"
   ]
  },
  {
   "cell_type": "code",
   "execution_count": null,
   "id": "bc4bf0e4",
   "metadata": {},
   "outputs": [],
   "source": [
    "#import library\n",
    "import seaborn as sns \n",
    "import matplotlib.pyplot as plt\n",
    "\n",
    "# import data set\n",
    "phool=sns.load_dataset(\"iris\")\n",
    " #draw a line plot\n",
    "sns.lineplot(x=\"sepal_length\", y=\"sepal_width\" , data=phool)\n",
    "plt.title(\" phuulon ka graph\")\n",
    "sns.set_style(\"dark\")\n",
    "plt.show()"
   ]
  },
  {
   "cell_type": "markdown",
   "id": "91d76762",
   "metadata": {},
   "source": [
    "# Size of Figure "
   ]
  },
  {
   "cell_type": "code",
   "execution_count": null,
   "id": "bc986a23",
   "metadata": {},
   "outputs": [],
   "source": [
    "#import library\n",
    "import seaborn as sns \n",
    "import matplotlib.pyplot as plt\n",
    "\n",
    "# import data set\n",
    "phool=sns.load_dataset(\"iris\")\n",
    "#Change Size\n",
    "plt.figure(figsize=(10,8))\n",
    " #draw a line plot\n",
    "sns.lineplot(x=\"sepal_length\", y=\"sepal_width\" , data=phool)\n",
    "plt.title(\" phuulon ka graph\")\n",
    "sns.set_style(\"dark\")\n",
    "plt.show()"
   ]
  },
  {
   "cell_type": "code",
   "execution_count": null,
   "id": "2b0fbd2f",
   "metadata": {},
   "outputs": [],
   "source": [
    "import seaborn as sns\n",
    "import matplotlib.pyplot as plt\n",
    "phool=sns.load_dataset(\"iris\")\n",
    "plt.figure(figsize=(7,8))\n",
    "sns.lineplot(x=\"sepal_length\", y=\"sepal_width\" , data=phool)\n",
    "plt.xlim(2)\n",
    "plt.ylim(1)\n",
    "plt.title(\"phuulun ka graph\")\n",
    "sns.set_style(\"white\")\n",
    "plt.show()"
   ]
  },
  {
   "cell_type": "code",
   "execution_count": null,
   "id": "454322f2",
   "metadata": {},
   "outputs": [],
   "source": [
    "import seaborn as sns\n",
    "import matplotlib.pyplot as plt\n",
    "phool=sns.load_dataset(\"iris\")\n",
    "plt.figure(figsize=(7,8))\n",
    "sns.lineplot(x=\"sepal_length\", y=\"sepal_width\" , data=phool)\n",
    "plt.xlim(2)\n",
    "plt.ylim(1)\n",
    "plt.title(\"phuulun ka graph\")\n",
    "sns.set_style(\"ticks\")\n",
    "plt.show()"
   ]
  },
  {
   "cell_type": "code",
   "execution_count": null,
   "id": "4c5b90cf",
   "metadata": {},
   "outputs": [],
   "source": [
    "import seaborn as sns\n",
    "import matplotlib.pyplot as plt\n",
    "phool=sns.load_dataset(\"iris\")\n",
    "plt.figure(figsize=(7,8))\n",
    "sns.lineplot(x=\"sepal_length\", y=\"sepal_width\" , data=phool)\n",
    "plt.xlim(2)\n",
    "plt.ylim(1)\n",
    "plt.title(\"phuulun ka graph\")\n",
    "sns.set_style(\"whitegrid\")\n",
    "plt.show()"
   ]
  },
  {
   "cell_type": "markdown",
   "id": "426436bb",
   "metadata": {},
   "source": [
    "# MOve on To **BArplot**"
   ]
  },
  {
   "cell_type": "code",
   "execution_count": null,
   "id": "e56d5dfe",
   "metadata": {},
   "outputs": [],
   "source": [
    "import seaborn as sns\n",
    "import matplotlib.pyplot as plt\n",
    "\n",
    "phool=sns.load_dataset(\"iris\")\n",
    "plt.figure(figsize=(3,4))\n",
    "sns.barplot(x=\"species\" , y=\"sepal_width\", data=phool)\n",
    "sns.set_style(\"white\")\n",
    "plt.show()"
   ]
  },
  {
   "cell_type": "markdown",
   "id": "39b0ccd1",
   "metadata": {},
   "source": [
    "# Change Order "
   ]
  },
  {
   "cell_type": "code",
   "execution_count": null,
   "id": "5d79f438",
   "metadata": {},
   "outputs": [],
   "source": [
    "import seaborn as sns\n",
    "import matplotlib.pyplot as plt\n",
    "\n",
    "phool=sns.load_dataset(\"iris\")\n",
    "plt.figure(figsize=(7,5))\n",
    "sns.barplot(x=\"species\" , y=\"sepal_width\", data=phool , order=[\"setosa\",\"virginica\",\"versicolor species\"])\n",
    "sns.set_style(\"dark\")\n",
    "plt.show()"
   ]
  },
  {
   "cell_type": "markdown",
   "id": "eb2a1dac",
   "metadata": {},
   "source": [
    "# Titanic plot"
   ]
  },
  {
   "cell_type": "code",
   "execution_count": null,
   "id": "2eadaf3c",
   "metadata": {},
   "outputs": [],
   "source": [
    "import seaborn as sns\n",
    "import matplotlib.pyplot as plt\n",
    "\n",
    "kashti=sns.load_dataset(\"titanic\")\n",
    "kashti\n",
    "sns.barplot(x=\"sex\", y=\"alone\" , data=kashti )\n",
    "plt.show()\n"
   ]
  },
  {
   "cell_type": "code",
   "execution_count": null,
   "id": "709c8ad9",
   "metadata": {},
   "outputs": [],
   "source": [
    "import seaborn as sns\n",
    "import matplotlib.pyplot as plt\n",
    "\n",
    "kashti=sns.load_dataset(\"titanic\")\n",
    "kashti\n",
    "sns.barplot(x=\"sex\", y=\"alone\" , data=kashti )\n",
    "plt.show()\n",
    "sns.lineplot(x=\"sex\", y=\"alone\", data = kashti)\n",
    "plt.show()\n",
    "sns.countplot(x=\"sex\", data=kashti)\n",
    "plt.show()"
   ]
  },
  {
   "cell_type": "code",
   "execution_count": null,
   "id": "bc8090c6",
   "metadata": {},
   "outputs": [],
   "source": [
    "import seaborn as sns\n",
    "import matplotlib.pyplot as plt\n",
    "\n",
    "kashti=sns.load_dataset(\"titanic\")\n",
    "kashti\n",
    "sns.barplot(x=\"sex\", y=\"alone\" , data=kashti , order=[\"female\", \"male\"])\n",
    "plt.show()\n"
   ]
  },
  {
   "cell_type": "markdown",
   "id": "9e286235",
   "metadata": {},
   "source": [
    "# Change Colors"
   ]
  },
  {
   "cell_type": "code",
   "execution_count": null,
   "id": "f29a8634",
   "metadata": {},
   "outputs": [],
   "source": [
    "import seaborn as sns\n",
    "import matplotlib.pyplot as plt\n",
    "\n",
    "kashti=sns.load_dataset(\"titanic\")\n",
    "kashti\n",
    "sns.barplot(x=\"sex\", y=\"alone\" , data=kashti, color=\"red\" )\n",
    "plt.show()\n"
   ]
  },
  {
   "cell_type": "code",
   "execution_count": null,
   "id": "13456fbb",
   "metadata": {},
   "outputs": [],
   "source": [
    "import seaborn as sns\n",
    "import matplotlib.pyplot as plt\n",
    "\n",
    "kashti=sns.load_dataset(\"titanic\")\n",
    "kashti\n",
    "sns.barplot(x=\"sex\", y=\"alone\" , data=kashti, color=\"grey\" )\n",
    "plt.show()\n"
   ]
  },
  {
   "cell_type": "code",
   "execution_count": null,
   "id": "26ca7418",
   "metadata": {},
   "outputs": [],
   "source": [
    "import seaborn as sns\n",
    "import matplotlib.pyplot as plt\n",
    "\n",
    "kashti=sns.load_dataset(\"titanic\")\n",
    "kashti\n",
    "sns.barplot(x=\"sex\", y=\"alone\" , data=kashti, color=\"pink\" )\n",
    "plt.show()\n"
   ]
  },
  {
   "cell_type": "code",
   "execution_count": null,
   "id": "41407346",
   "metadata": {},
   "outputs": [],
   "source": [
    "import seaborn as sns\n",
    "import matplotlib.pyplot as plt\n",
    "\n",
    "kashti=sns.load_dataset(\"titanic\")\n",
    "kashti\n",
    "sns.barplot(x=\"sex\", y=\"alone\", hue=\"who\", data=kashti, color=\"black\"  )\n",
    "plt.show()\n"
   ]
  },
  {
   "cell_type": "markdown",
   "id": "1ac04b99",
   "metadata": {},
   "source": [
    "# To remove error lines"
   ]
  },
  {
   "cell_type": "code",
   "execution_count": null,
   "id": "0bea78a0",
   "metadata": {},
   "outputs": [],
   "source": [
    "import seaborn as sns\n",
    "import matplotlib.pyplot as plt\n",
    "\n",
    "kashti=sns.load_dataset(\"titanic\")\n",
    "kashti\n",
    "sns.barplot(x=\"sex\", y=\"alone\" , data=kashti, color=\"red\" , ci=None)\n",
    "plt.show()\n"
   ]
  },
  {
   "cell_type": "markdown",
   "id": "33b4835e",
   "metadata": {},
   "source": [
    "# Palette\n",
    "- to change colour scheme"
   ]
  },
  {
   "cell_type": "code",
   "execution_count": 5,
   "id": "7691e6a3",
   "metadata": {},
   "outputs": [
    {
     "data": {
      "image/png": "[encoded data removed]",
      "text/plain": [
       "<Figure size 432x288 with 1 Axes>"
      ]
     },
     "metadata": {
      "needs_background": "light"
     },
     "output_type": "display_data"
    }
   ],
   "source": [
    "import seaborn as sns\n",
    "import matplotlib.pyplot as plt\n",
    "\n",
    "kashti=sns.load_dataset(\"titanic\")\n",
    "kashti\n",
    "sns.barplot(x=\"sex\", y=\"alone\" , data=kashti  )    #color=\"red\", palette=\"dark\"\n",
    "plt.show()\n"
   ]
  },
  {
   "cell_type": "markdown",
   "id": "9149795b",
   "metadata": {},
   "source": [
    "# Estimator\n",
    "- install library of numpy"
   ]
  },
  {
   "cell_type": "code",
   "execution_count": null,
   "id": "bb0b97ca",
   "metadata": {
    "scrolled": true
   },
   "outputs": [],
   "source": [
    "import seaborn as sns\n",
    "import numpy\n",
    "import matplotlib.pyplot as plt\n",
    "\n",
    "kashti=sns.load_dataset(\"titanic\")\n",
    "kashti\n",
    "sns.barplot(x=\"class\", y=\"fare\",hue=\"sex\",data=kashti, estimator = median)\n",
    "plt.show()\n"
   ]
  },
  {
   "cell_type": "markdown",
   "id": "8304b724",
   "metadata": {},
   "source": [
    "# Saturation changer"
   ]
  },
  {
   "cell_type": "code",
   "execution_count": null,
   "id": "9b992cae",
   "metadata": {},
   "outputs": [],
   "source": [
    "import seaborn as sns\n",
    "# import numpy\n",
    "import matplotlib.pyplot as plt\n",
    "\n",
    "kashti=sns.load_dataset(\"titanic\")\n",
    "kashti\n",
    "sns.barplot(x=\"class\", y=\"fare\",hue=\"sex\",data=kashti,saturation=0.5)\n",
    "plt.show()"
   ]
  },
  {
   "cell_type": "markdown",
   "id": "fa0160b5",
   "metadata": {},
   "source": [
    "# Horizotal Plot\n",
    "- place Numeric Variable in X axis & Catagoric variable in y Axix"
   ]
  },
  {
   "cell_type": "code",
   "execution_count": null,
   "id": "3ccf05bc",
   "metadata": {},
   "outputs": [],
   "source": [
    "import seaborn as sns\n",
    "# import numpy\n",
    "import matplotlib.pyplot as plt\n",
    "\n",
    "kashti=sns.load_dataset(\"titanic\")\n",
    "kashti\n",
    "sns.barplot(x=\"fare\", y=\"class\",hue=\"sex\",data=kashti,saturation=3)\n",
    "plt.show()"
   ]
  },
  {
   "cell_type": "markdown",
   "id": "deb81cae",
   "metadata": {},
   "source": [
    "- Line width\n",
    "- Face color\n",
    "- Error Color\n",
    "- edge color"
   ]
  },
  {
   "cell_type": "code",
   "execution_count": 6,
   "id": "cbb9e984",
   "metadata": {
    "scrolled": true
   },
   "outputs": [
    {
     "data": {
      "image/png": "[encoded data removed]",
      "text/plain": [
       "<Figure size 432x288 with 1 Axes>"
      ]
     },
     "metadata": {
      "needs_background": "light"
     },
     "output_type": "display_data"
    }
   ],
   "source": [
    "import seaborn as sns\n",
    "# import numpy\n",
    "import matplotlib.pyplot as plt\n",
    "\n",
    "kashti=sns.load_dataset(\"titanic\")\n",
    "kashti\n",
    "sns.barplot(x=\"fare\", y=\"class\",hue=\"sex\",data=kashti,linewidth=2.5,facecolor=(1,0.2,1,0),errcolor=\".9\", edgecolor=\".2\")\n",
    "plt.show()"
   ]
  },
  {
   "cell_type": "markdown",
   "id": "015b45fb",
   "metadata": {},
   "source": [
    "# *NUMPY LIBRARY*\n"
   ]
  },
  {
   "cell_type": "markdown",
   "id": "3a687bf7",
   "metadata": {},
   "source": [
    "- lIBRARY: KSI ARU KAY BNAY HUE CODE HOTY HAIN WOH HMM USE KRTAY HAIN "
   ]
  },
  {
   "cell_type": "markdown",
   "id": "855ca735",
   "metadata": {},
   "source": [
    "# N_d Array"
   ]
  },
  {
   "cell_type": "code",
   "execution_count": null,
   "id": "ee3f0b13",
   "metadata": {
    "scrolled": true
   },
   "outputs": [],
   "source": [
    "import numpy as np\n",
    "a=np.array([5,5,10])\n",
    "a\n"
   ]
  },
  {
   "cell_type": "markdown",
   "id": "8a657c62",
   "metadata": {},
   "source": [
    "- Lenght check of Array"
   ]
  },
  {
   "cell_type": "code",
   "execution_count": null,
   "id": "241cd5ba",
   "metadata": {},
   "outputs": [],
   "source": [
    "len(a)"
   ]
  },
  {
   "cell_type": "markdown",
   "id": "d3f284cc",
   "metadata": {},
   "source": [
    "- Type Check of an Array"
   ]
  },
  {
   "cell_type": "code",
   "execution_count": null,
   "id": "59b63625",
   "metadata": {
    "scrolled": true
   },
   "outputs": [],
   "source": [
    "# type(a)\n",
    "(type(a))"
   ]
  },
  {
   "cell_type": "markdown",
   "id": "7d9dbcc5",
   "metadata": {},
   "source": [
    "- Vector: is an Array with Single Dimmesion\n",
    "- Matrix: is An Array With Two Dimesions \n",
    "   - Eg:\n",
    "- array ([[ 5,  4,  2],\n",
    "        [32, 43, 87],\n",
    "        [32, 32, 43]])      # Now Matrix is 3 by 3"
   ]
  },
  {
   "cell_type": "code",
   "execution_count": null,
   "id": "8acdff90",
   "metadata": {},
   "outputs": [],
   "source": [
    "import numpy as np\n",
    "s=np.array([32,54,56,76])\n",
    "s"
   ]
  },
  {
   "cell_type": "code",
   "execution_count": null,
   "id": "e23dd075",
   "metadata": {},
   "outputs": [],
   "source": [
    "import numpy as np\n",
    "q=np.array([43,54,65,76,76,8787,56,4,35,324])\n",
    "q\n"
   ]
  },
  {
   "cell_type": "markdown",
   "id": "136548ec",
   "metadata": {},
   "source": [
    "# 2_D Array"
   ]
  },
  {
   "cell_type": "code",
   "execution_count": null,
   "id": "b6369c71",
   "metadata": {},
   "outputs": [],
   "source": [
    "import numpy as np\n",
    "x=np.array([[5,4,2],[32,43,87]])\n",
    "x"
   ]
  },
  {
   "cell_type": "code",
   "execution_count": null,
   "id": "bfe8281e",
   "metadata": {
    "scrolled": true
   },
   "outputs": [],
   "source": [
    "import numpy as np\n",
    "y=np.array([[12,12,12],[13,13,13]])\n",
    "y"
   ]
  },
  {
   "cell_type": "markdown",
   "id": "30aff96a",
   "metadata": {},
   "source": [
    "- Indexing in array"
   ]
  },
  {
   "cell_type": "code",
   "execution_count": null,
   "id": "e6e3dc1f",
   "metadata": {},
   "outputs": [],
   "source": [
    "w[0]"
   ]
  },
  {
   "cell_type": "code",
   "execution_count": null,
   "id": "1117d89f",
   "metadata": {
    "scrolled": true
   },
   "outputs": [],
   "source": [
    "w[1]"
   ]
  },
  {
   "cell_type": "code",
   "execution_count": null,
   "id": "bb010507",
   "metadata": {
    "scrolled": true
   },
   "outputs": [],
   "source": [
    "w[2]"
   ]
  },
  {
   "cell_type": "code",
   "execution_count": null,
   "id": "c98d679f",
   "metadata": {},
   "outputs": [],
   "source": [
    "# Concatinate\n",
    "\n",
    "r=np.concatenate((x,y))\n",
    "r"
   ]
  },
  {
   "cell_type": "markdown",
   "id": "e27f76f2",
   "metadata": {},
   "source": [
    "# Axis in dimensions"
   ]
  },
  {
   "cell_type": "code",
   "execution_count": null,
   "id": "b8bc13a5",
   "metadata": {},
   "outputs": [],
   "source": [
    "r=np.concatenate((x,y),axis=0)\n",
    "r"
   ]
  },
  {
   "cell_type": "markdown",
   "id": "01bb4455",
   "metadata": {},
   "source": [
    "# Number of Elements"
   ]
  },
  {
   "cell_type": "code",
   "execution_count": null,
   "id": "ea85cc99",
   "metadata": {},
   "outputs": [],
   "source": [
    "r.size"
   ]
  },
  {
   "cell_type": "markdown",
   "id": "e6924552",
   "metadata": {},
   "source": [
    "# Shape"
   ]
  },
  {
   "cell_type": "code",
   "execution_count": null,
   "id": "3a415c31",
   "metadata": {},
   "outputs": [],
   "source": [
    "r.shape"
   ]
  },
  {
   "cell_type": "markdown",
   "id": "409140a1",
   "metadata": {},
   "source": [
    "# 3-D Array Or *Tensor*"
   ]
  },
  {
   "cell_type": "markdown",
   "id": "2ae08b43",
   "metadata": {},
   "source": [
    "- 3-D Array involves 3 or Higher Dimensions"
   ]
  },
  {
   "cell_type": "code",
   "execution_count": null,
   "id": "6dce4eb7",
   "metadata": {
    "scrolled": true
   },
   "outputs": [],
   "source": [
    "import numpy as np\n",
    "w=np.array([[12,12,12],[13,13,13],[14,14,14]])\n",
    "w"
   ]
  },
  {
   "cell_type": "markdown",
   "id": "f73721a9",
   "metadata": {},
   "source": [
    "# To check dimsnsions of an Array"
   ]
  },
  {
   "cell_type": "code",
   "execution_count": null,
   "id": "f3ff93c8",
   "metadata": {},
   "outputs": [],
   "source": [
    "w.ndim    # use ndim"
   ]
  },
  {
   "cell_type": "markdown",
   "id": "b6b7a0c7",
   "metadata": {},
   "source": [
    "- *Dimensions increases by increasing number of Matrix, and placing [ ] after Evering Dimsnsion is Must*"
   ]
  },
  {
   "cell_type": "markdown",
   "id": "fd785518",
   "metadata": {},
   "source": [
    "- Higher Dimensions"
   ]
  },
  {
   "cell_type": "code",
   "execution_count": null,
   "id": "cb5cedb0",
   "metadata": {
    "scrolled": true
   },
   "outputs": [],
   "source": [
    "import numpy as np\n",
    "z=np.array([[[12,12,12],[13,13,13]],[[14,14,14],[15,15,15]],[[32,43,32],[12,54,13]]])\n",
    "z"
   ]
  },
  {
   "cell_type": "code",
   "execution_count": null,
   "id": "fdd79b4d",
   "metadata": {},
   "outputs": [],
   "source": [
    "z.ndim"
   ]
  },
  {
   "cell_type": "markdown",
   "id": "f389e4f8",
   "metadata": {},
   "source": [
    "# Shape"
   ]
  },
  {
   "cell_type": "code",
   "execution_count": null,
   "id": "f3ed08d3",
   "metadata": {
    "scrolled": true
   },
   "outputs": [],
   "source": [
    "z.shape     "
   ]
  },
  {
   "cell_type": "code",
   "execution_count": null,
   "id": "ad99e236",
   "metadata": {},
   "outputs": [],
   "source": [
    "z.size"
   ]
  },
  {
   "cell_type": "code",
   "execution_count": null,
   "id": "495444c8",
   "metadata": {},
   "outputs": [],
   "source": [
    "# REshape"
   ]
  },
  {
   "cell_type": "code",
   "execution_count": null,
   "id": "9e9213b9",
   "metadata": {},
   "outputs": [],
   "source": [
    "z.reshape(2,9)"
   ]
  },
  {
   "cell_type": "markdown",
   "id": "856240b0",
   "metadata": {},
   "source": [
    "# Array Attributes"
   ]
  },
  {
   "cell_type": "markdown",
   "id": "03272542",
   "metadata": {},
   "source": [
    "- Dimensions of Array are called Axis\n",
    "- Single dimension has single Axix\n",
    "- Double Dimension has 2 Axix\n",
    "- Triple Dimension has 3 Axix"
   ]
  },
  {
   "cell_type": "markdown",
   "id": "75e3c583",
   "metadata": {},
   "source": [
    "- array([[12, 12, 12],\n",
    "       [13, 13, 13]])   # 2 Axix = First Axix has 2 lenght, @nd Axix has 3 lenght\n"
   ]
  },
  {
   "cell_type": "markdown",
   "id": "ff69a91e",
   "metadata": {},
   "source": [
    "# How to Create an Array\n"
   ]
  },
  {
   "cell_type": "code",
   "execution_count": null,
   "id": "919a3d49",
   "metadata": {},
   "outputs": [],
   "source": [
    "import numpy as np\n",
    "a=np.array([3,4,5])\n",
    "a"
   ]
  },
  {
   "cell_type": "markdown",
   "id": "3e9f618d",
   "metadata": {},
   "source": [
    "# Zero Function"
   ]
  },
  {
   "cell_type": "code",
   "execution_count": null,
   "id": "4d07da76",
   "metadata": {},
   "outputs": [],
   "source": [
    "import numpy as np\n",
    "a=np.array([3,4,5])\n",
    "a=np.zeros(1)    # we can aplly comand in zeros funcrtion tyo obtain ZEros in Array\n",
    "a"
   ]
  },
  {
   "cell_type": "code",
   "execution_count": null,
   "id": "7055144a",
   "metadata": {
    "scrolled": true
   },
   "outputs": [],
   "source": [
    "a=np.zeros(2)\n",
    "a"
   ]
  },
  {
   "cell_type": "markdown",
   "id": "44546d41",
   "metadata": {},
   "source": [
    "# Ones Function"
   ]
  },
  {
   "cell_type": "code",
   "execution_count": null,
   "id": "b7342323",
   "metadata": {},
   "outputs": [],
   "source": [
    "a=np.ones(1)    #we can aplly comand in one funcrtion tyo obtain one in Array\n",
    "a"
   ]
  },
  {
   "cell_type": "code",
   "execution_count": null,
   "id": "e7f399b0",
   "metadata": {},
   "outputs": [],
   "source": [
    "a=np.ones(12)    #we can aplly comand in one funcrtion tyo obtain one in Array\n",
    "a"
   ]
  },
  {
   "cell_type": "markdown",
   "id": "c5f885a3",
   "metadata": {},
   "source": [
    "# Empty Function"
   ]
  },
  {
   "cell_type": "code",
   "execution_count": null,
   "id": "908db2c3",
   "metadata": {},
   "outputs": [],
   "source": [
    "a=np.empty(3)    \n",
    "a"
   ]
  },
  {
   "cell_type": "markdown",
   "id": "ef7e8f1a",
   "metadata": {},
   "source": [
    "#  We can Give Range to BUilt An Array"
   ]
  },
  {
   "cell_type": "code",
   "execution_count": null,
   "id": "3d81ca99",
   "metadata": {},
   "outputs": [],
   "source": [
    "import numpy as np\n",
    "e=np.arange(6)       # LaST Digit is Exclusicve \n",
    "e"
   ]
  },
  {
   "cell_type": "code",
   "execution_count": null,
   "id": "ab612dd4",
   "metadata": {
    "scrolled": true
   },
   "outputs": [],
   "source": [
    "e=np.arange(220)\n",
    "e"
   ]
  },
  {
   "cell_type": "code",
   "execution_count": null,
   "id": "dd086110",
   "metadata": {},
   "outputs": [],
   "source": [
    "e=np.arange(2,20)   # Range ko Limit krdia \n",
    "e"
   ]
  },
  {
   "cell_type": "code",
   "execution_count": null,
   "id": "f488e249",
   "metadata": {},
   "outputs": [],
   "source": [
    "# Countinue\n",
    "e=np.arange(2,20,2)\n",
    "e"
   ]
  },
  {
   "cell_type": "code",
   "execution_count": null,
   "id": "9aa3b310",
   "metadata": {
    "scrolled": true
   },
   "outputs": [],
   "source": [
    "e=np.arange(3,30,3)\n",
    "e"
   ]
  },
  {
   "cell_type": "code",
   "execution_count": null,
   "id": "55396741",
   "metadata": {},
   "outputs": [],
   "source": [
    "import numpy as np\n",
    "food=np.array([\"Samosa\", \"pakora\", \"briyani\"])\n",
    "food"
   ]
  },
  {
   "cell_type": "code",
   "execution_count": null,
   "id": "3787c741",
   "metadata": {},
   "outputs": [],
   "source": [
    "price=np.array([5,45,25])\n",
    "price"
   ]
  },
  {
   "cell_type": "code",
   "execution_count": null,
   "id": "055829f6",
   "metadata": {},
   "outputs": [],
   "source": [
    "type(price)"
   ]
  },
  {
   "cell_type": "code",
   "execution_count": null,
   "id": "f02989e6",
   "metadata": {},
   "outputs": [],
   "source": [
    "type(food)"
   ]
  },
  {
   "cell_type": "code",
   "execution_count": null,
   "id": "5071d9f0",
   "metadata": {},
   "outputs": [],
   "source": [
    "len(food)"
   ]
  },
  {
   "cell_type": "code",
   "execution_count": null,
   "id": "aca4a365",
   "metadata": {},
   "outputs": [],
   "source": [
    "len(price)"
   ]
  },
  {
   "cell_type": "code",
   "execution_count": null,
   "id": "a544987f",
   "metadata": {},
   "outputs": [],
   "source": [
    "food=np.array([\"Samosa\", \"pakora\", \"briyani\"])\n",
    "food[1]"
   ]
  },
  {
   "cell_type": "code",
   "execution_count": null,
   "id": "3c36d88b",
   "metadata": {},
   "outputs": [],
   "source": [
    "food[2]"
   ]
  },
  {
   "cell_type": "code",
   "execution_count": null,
   "id": "5b71e67c",
   "metadata": {},
   "outputs": [],
   "source": [
    "food[1:2]"
   ]
  },
  {
   "cell_type": "code",
   "execution_count": null,
   "id": "e0db83b0",
   "metadata": {
    "scrolled": true
   },
   "outputs": [],
   "source": [
    "price[0:1]"
   ]
  },
  {
   "cell_type": "code",
   "execution_count": null,
   "id": "6e132b7d",
   "metadata": {
    "scrolled": true
   },
   "outputs": [],
   "source": [
    "food[0:1]"
   ]
  },
  {
   "cell_type": "markdown",
   "id": "04ab044b",
   "metadata": {},
   "source": [
    "# Mean of An Array"
   ]
  },
  {
   "cell_type": "code",
   "execution_count": null,
   "id": "ce62db01",
   "metadata": {
    "scrolled": false
   },
   "outputs": [],
   "source": [
    "price.mean()"
   ]
  },
  {
   "cell_type": "code",
   "execution_count": null,
   "id": "7015eeee",
   "metadata": {},
   "outputs": [],
   "source": [
    "    # Minimum\n",
    "price.min()"
   ]
  },
  {
   "cell_type": "code",
   "execution_count": null,
   "id": "60879742",
   "metadata": {
    "scrolled": true
   },
   "outputs": [],
   "source": [
    "    # Maximum\n",
    "price.max()"
   ]
  },
  {
   "cell_type": "markdown",
   "id": "ba36c2f3",
   "metadata": {},
   "source": [
    "# Range"
   ]
  },
  {
   "cell_type": "code",
   "execution_count": null,
   "id": "addb4fca",
   "metadata": {},
   "outputs": [],
   "source": [
    "np.arange(20)"
   ]
  },
  {
   "cell_type": "code",
   "execution_count": null,
   "id": "a72b9987",
   "metadata": {},
   "outputs": [],
   "source": [
    "np.arange(1,20)"
   ]
  },
  {
   "cell_type": "markdown",
   "id": "451159f0",
   "metadata": {},
   "source": [
    "# Specific Range Interval"
   ]
  },
  {
   "cell_type": "code",
   "execution_count": null,
   "id": "d360e4f3",
   "metadata": {},
   "outputs": [],
   "source": [
    "np.arange(2,20,2)"
   ]
  },
  {
   "cell_type": "code",
   "execution_count": null,
   "id": "7cfc7321",
   "metadata": {},
   "outputs": [],
   "source": [
    "# Table of 3\n",
    "np.arange(3,33,3)"
   ]
  },
  {
   "cell_type": "code",
   "execution_count": null,
   "id": "ca3dca24",
   "metadata": {},
   "outputs": [],
   "source": [
    "np.arange(5,55,5)"
   ]
  },
  {
   "cell_type": "markdown",
   "id": "f4aec596",
   "metadata": {},
   "source": [
    "# Line Space"
   ]
  },
  {
   "cell_type": "code",
   "execution_count": null,
   "id": "f5240c6c",
   "metadata": {},
   "outputs": [],
   "source": [
    "np.linspace(2,20, num=1)"
   ]
  },
  {
   "cell_type": "code",
   "execution_count": null,
   "id": "55805ca3",
   "metadata": {},
   "outputs": [],
   "source": [
    "np.linspace(0,100, num=26)\n",
    "#numbers jitny likhaingay utni values aengin unsbka agay aur peechay wala diffrence same hoga"
   ]
  },
  {
   "cell_type": "markdown",
   "id": "6150da44",
   "metadata": {},
   "source": [
    "# Specify your data type"
   ]
  },
  {
   "cell_type": "code",
   "execution_count": null,
   "id": "b8f01509",
   "metadata": {},
   "outputs": [],
   "source": [
    "np.ones(50, dtype=np.float64)"
   ]
  },
  {
   "cell_type": "code",
   "execution_count": null,
   "id": "fb43e330",
   "metadata": {
    "scrolled": true
   },
   "outputs": [],
   "source": [
    "np.ones(10, dtype=np.float32)"
   ]
  },
  {
   "cell_type": "code",
   "execution_count": null,
   "id": "b367464e",
   "metadata": {},
   "outputs": [],
   "source": [
    "np.ones(20, dtype=np.float32)"
   ]
  },
  {
   "cell_type": "markdown",
   "id": "74020937",
   "metadata": {},
   "source": [
    "# Array Functions"
   ]
  },
  {
   "cell_type": "code",
   "execution_count": null,
   "id": "ff056af4",
   "metadata": {},
   "outputs": [],
   "source": [
    "a=np.array([23,14,14,5,5,65,76,65,353,31])\n",
    "a"
   ]
  },
  {
   "cell_type": "code",
   "execution_count": null,
   "id": "1ab72060",
   "metadata": {
    "scrolled": true
   },
   "outputs": [],
   "source": [
    "a.sort()\n",
    "a"
   ]
  },
  {
   "cell_type": "code",
   "execution_count": null,
   "id": "17e8464e",
   "metadata": {},
   "outputs": [],
   "source": [
    "b=np.array([10.2,32,44.5,24,24,65,23])\n",
    "b"
   ]
  },
  {
   "cell_type": "code",
   "execution_count": null,
   "id": "fd59e6da",
   "metadata": {},
   "outputs": [],
   "source": [
    "c=np.concatenate((a,b))\n",
    "c"
   ]
  },
  {
   "cell_type": "code",
   "execution_count": null,
   "id": "741634a7",
   "metadata": {},
   "outputs": [],
   "source": [
    "c.sort()\n",
    "c"
   ]
  },
  {
   "cell_type": "markdown",
   "id": "5fc91f77",
   "metadata": {},
   "source": [
    "# Covert 1D to 2D"
   ]
  },
  {
   "cell_type": "code",
   "execution_count": null,
   "id": "a5907982",
   "metadata": {},
   "outputs": [],
   "source": [
    "a=np.array([1,23,335,3,1,5,1,6,7,9])\n",
    "a"
   ]
  },
  {
   "cell_type": "code",
   "execution_count": null,
   "id": "e612653a",
   "metadata": {},
   "outputs": [],
   "source": [
    "a.shape"
   ]
  },
  {
   "cell_type": "code",
   "execution_count": null,
   "id": "e2c9d3e5",
   "metadata": {},
   "outputs": [],
   "source": [
    "b=a[np.newaxis,:]\n",
    "b"
   ]
  },
  {
   "cell_type": "code",
   "execution_count": null,
   "id": "366167f0",
   "metadata": {},
   "outputs": [],
   "source": [
    "a.shape"
   ]
  },
  {
   "cell_type": "markdown",
   "id": "35843494",
   "metadata": {},
   "source": [
    "# Markdown Language"
   ]
  },
  {
   "cell_type": "markdown",
   "id": "1c761137",
   "metadata": {},
   "source": [
    "#Main Heading 1 # say aygi , jitnay # zyada hngay heading choti hojygi \n",
    "\n",
    "# Heading\n",
    "## Haeding\n",
    "### Heading\n",
    "#### Heading\n",
    "##### Heading"
   ]
  },
  {
   "cell_type": "markdown",
   "id": "f61b5491",
   "metadata": {},
   "source": [
    "# Block of Code"
   ]
  },
  {
   "cell_type": "markdown",
   "metadata": {},
   "source": [
    "# > + kuch bhi likhnay say block of code bnjyga  "
   ]
  },
  {
   "cell_type": "markdown",
   "id": "c89b2665",
   "metadata": {},
   "source": [
    "> hello"
   ]
  },
  {
   "cell_type": "markdown",
   "id": "4b42cb3c",
   "metadata": {},
   "source": [
    "# Line break"
   ]
  },
  {
   "cell_type": "markdown",
   "id": "431f77b4",
   "metadata": {},
   "source": [
    "-  hello\\\n",
    "-  hello"
   ]
  },
  {
   "cell_type": "markdown",
   "id": "d0f11003",
   "metadata": {},
   "source": [
    "# Bold a text\n",
    "\n",
    "- Double steric on dual sides, __(underscore)__ [2times]\n"
   ]
  },
  {
   "cell_type": "markdown",
   "id": "b67c2048",
   "metadata": {},
   "source": [
    "**hello**\n"
   ]
  },
  {
   "cell_type": "markdown",
   "id": "fc8ba0e0",
   "metadata": {},
   "source": [
    "# italic\n",
    "- Single steric on dual side,_(underscore)_ [1times]\n",
    "\n",
    "*hello*\n"
   ]
  },
  {
   "cell_type": "markdown",
   "id": "abeb94d3",
   "metadata": {},
   "source": [
    "# Bold& Italic \n",
    "\n",
    "- triple steric on both sides\n"
   ]
  },
  {
   "cell_type": "markdown",
   "id": "6ac0769c",
   "metadata": {},
   "source": [
    "***hello***"
   ]
  },
  {
   "cell_type": "markdown",
   "id": "b3c56d24",
   "metadata": {},
   "source": [
    "# placing - in start "
   ]
  },
  {
   "cell_type": "markdown",
   "id": "123e0d81",
   "metadata": {},
   "source": [
    "- bullets points\n",
    "    - sub bullet points\n"
   ]
  },
  {
   "cell_type": "markdown",
   "id": "ae9e6874",
   "metadata": {},
   "source": [
    "# place in start & end --- OR *** OR___"
   ]
  },
  {
   "cell_type": "markdown",
   "id": "3737ee12",
   "metadata": {},
   "source": [
    "# line break\n",
    "---\n",
    "***\n",
    "___"
   ]
  },
  {
   "cell_type": "markdown",
   "id": "747992b5",
   "metadata": {},
   "source": [
    "# Link"
   ]
  },
  {
   "cell_type": "markdown",
   "metadata": {},
   "source": [
    "[link] :(https://www.youtube.com/watch?v=mrG6vNld42s&list=PL9XvIvvVL50HVsu-Ao8NBr0UJSO8O6lBI&index=31)\n"
   ]
  },
  {
   "cell_type": "markdown",
   "id": "d39f6df8",
   "metadata": {},
   "source": [
    "# Image link\n",
    "- image usi folder ma ho , yh url in ()\n"
   ]
  },
  {
   "cell_type": "code",
   "execution_count": null,
   "id": "71d63e06",
   "metadata": {},
   "outputs": [],
   "source": [
    "# ![]()"
   ]
  },
  {
   "cell_type": "markdown",
   "id": "8aeb3929",
   "metadata": {},
   "source": [
    "# Adding table\n",
    "\n",
    "| row|row1|\n",
    "| ---|---|"
   ]
  },
  {
   "cell_type": "markdown",
   "id": "02082090",
   "metadata": {},
   "source": [
    "Table of Content"
   ]
  },
  {
   "cell_type": "markdown",
   "id": "ba6e1451",
   "metadata": {},
   "source": [
    "[heading](heading)"
   ]
  },
  {
   "cell_type": "markdown",
   "id": "6743ded2",
   "metadata": {},
   "source": [
    "# Lecture 11"
   ]
  },
  {
   "cell_type": "markdown",
   "id": "917018ac",
   "metadata": {},
   "source": [
    "# Pandas Library"
   ]
  },
  {
   "cell_type": "markdown",
   "id": "88c93c7f",
   "metadata": {},
   "source": [
    "Why Pandas?\n",
    "we can do \n",
    "- Data Manipulation\n",
    "- Data Analysis"
   ]
  },
  {
   "cell_type": "markdown",
   "id": "75e56b7f",
   "metadata": {},
   "source": [
    "1. import libraries"
   ]
  },
  {
   "cell_type": "code",
   "execution_count": null,
   "id": "1f6c8dce",
   "metadata": {},
   "outputs": [],
   "source": [
    "import pandas as pd\n",
    "import numpy as np"
   ]
  },
  {
   "cell_type": "code",
   "execution_count": null,
   "id": "2a2ba1af",
   "metadata": {},
   "outputs": [],
   "source": []
  }
 ],
 "metadata": {
  "kernelspec": {
   "display_name": "Python 3",
   "language": "python",
   "name": "python3"
  },
  "language_info": {
   "codemirror_mode": {
    "name": "ipython",
    "version": 3
   },
   "file_extension": ".py",
   "mimetype": "text/x-python",
   "name": "python",
   "nbconvert_exporter": "python",
   "pygments_lexer": "ipython3",
   "version": "3.10.1"
  },
  "widgets": {
   "application/vnd.jupyter.widget-state+json": {
    "state": {},
    "version_major": 2,
    "version_minor": 0
   }
  }
 },
 "nbformat": 4,
 "nbformat_minor": 5
}
