{
 "cells": [
  {
   "cell_type": "markdown",
   "id": "5a46551f",
   "metadata": {},
   "source": [
    "# PYTHON WITH BABA AAMMAR"
   ]
  },
  {
   "cell_type": "markdown",
   "id": "33212c1e",
   "metadata": {},
   "source": [
    "# Participant\n",
    "\n",
    "Tittle= \"Private Notebook\"\n",
    "\n",
    "Name= \"Abdul Rahman\"\n",
    "\n",
    "Email= \"rehmanch5806@gmail.com\"\n",
    "\n",
    "Whatsapp No= \"+923056943171\n"
   ]
  },
  {
   "cell_type": "markdown",
   "id": "117412de",
   "metadata": {},
   "source": [
    "# Day 1"
   ]
  },
  {
   "cell_type": "markdown",
   "id": "bed8688f",
   "metadata": {},
   "source": [
    "### OPERATORS"
   ]
  },
  {
   "cell_type": "code",
   "execution_count": null,
   "id": "2cd1da7d",
   "metadata": {},
   "outputs": [],
   "source": [
    "print(2+2)  #adddition\n",
    "print(3*4)  #multiplication operator\n",
    "print(6-4)  #Substraction Operator\n",
    "print(9/3)  #Devision Operator / if we need floating value\n",
    "print(9//3) #if we need complete whole value\n",
    "print(16%4) #Modulous Operator / if e need reminder\n",
    "print(3**2) #Exponents / if we want power of some value\n",
    "\n",
    "print(2+3*4-6/9**4)\n"
   ]
  },
  {
   "cell_type": "markdown",
   "id": "cd29444e",
   "metadata": {},
   "source": [
    "# PEMDAS\n",
    "- paranthesis\n",
    "-  Exponents \n",
    "-  Multiliplication \n",
    "-  Devision\n",
    "-  Addition \n",
    "-  Subsrtraction\n",
    "- Left to Right For Multiliplication Devision & Addition Subsrtraction"
   ]
  },
  {
   "cell_type": "markdown",
   "id": "cb384de3",
   "metadata": {},
   "source": [
    "# String"
   ]
  },
  {
   "cell_type": "code",
   "execution_count": null,
   "id": "0bff22a1",
   "metadata": {},
   "outputs": [],
   "source": [
    "print(\"hello world\")\n",
    "print('Hello world')\n",
    "print('''hey world''')\n"
   ]
  },
  {
   "cell_type": "markdown",
   "id": "5c99a36a",
   "metadata": {},
   "source": [
    "#Types of Strings"
   ]
  },
  {
   "cell_type": "markdown",
   "id": "3dce6065",
   "metadata": {},
   "source": [
    "#(' ')        single Quotes\n",
    "#(\" \")        Double Quotes\n",
    "#(''' ''')    Tripple Quotes\n"
   ]
  },
  {
   "cell_type": "markdown",
   "id": "c63a66d5",
   "metadata": {},
   "source": [
    "# VARIABLE"
   ]
  },
  {
   "cell_type": "code",
   "execution_count": null,
   "id": "5769fd94",
   "metadata": {},
   "outputs": [],
   "source": [
    "x=34                   #Integer Variable\n",
    "y=5.0                  #float Variable\n",
    "z=\"Ammar is my guru\"   #String Variable\n",
    "print(x)\n",
    "print(y)\n",
    "print(z)\n",
    " "
   ]
  },
  {
   "cell_type": "markdown",
   "id": "5b6cb2ac",
   "metadata": {},
   "source": [
    "# Rules to assign variable\n",
    "- The variable should contain Variables numbers or underscore\n",
    "- Donot start with numbers\n",
    "- Spaces are not allow\n",
    "- Donot use functional keywords of pyhon e.g dont use (break, dell , test etc)\n",
    "- Short and descriptive\n",
    "- Case Senstivity (lower case ,upper case should used)\n"
   ]
  },
  {
   "cell_type": "code",
   "execution_count": 1,
   "id": "a9601e9b",
   "metadata": {},
   "outputs": [
    {
     "name": "stdout",
     "output_type": "stream",
     "text": [
      "8 females & 4 males\n",
      "<class 'str'>\n"
     ]
    }
   ],
   "source": [
    "persons_in_meeting=4\n",
    "persons_in_meeting=\"8 females & 4 males\"\n",
    "print(persons_in_meeting)\n",
    "\n",
    "# type(persons_in_meeting)\n",
    "print(type(persons_in_meeting))"
   ]
  },
  {
   "cell_type": "markdown",
   "id": "2e1b20c0",
   "metadata": {},
   "source": [
    "# input_function"
   ]
  },
  {
   "cell_type": "code",
   "execution_count": null,
   "id": "e6c9054e",
   "metadata": {},
   "outputs": [],
   "source": [
    "persons=4\n",
    "print(persons)\n",
    "\n",
    "# #input function\n",
    "persons=input(\"how many persons in room  ?  \")     \n",
    "print( persons + \" peoples are in the room\")\n",
    "\n",
    "# #2nd way of input function\n",
    "persons=input(\"How many persons in room  ? \")\n",
    "greeting=\"ASSALAM U ALAKKIM all\"\n",
    "print( greeting , persons )\n",
    "\n",
    "# #an other stage of 2nd type\n",
    "persons=input(\"How many persons in room  ? \")\n",
    "print(\"Assalam u alaikum all \",persons ) \n",
    "\n",
    "#3rd srage input function \n",
    "persons=input(\"how many persons in room  ?  \")\n",
    "Age=input(\"Whats your all average age ?\")\n",
    "greeting=\"ASSALAM U ALAKKIM all \"\n",
    "print(greeting ,persons , \"you all are still young\" )"
   ]
  },
  {
   "cell_type": "markdown",
   "id": "70824eeb",
   "metadata": {},
   "source": [
    "# Logical Operators"
   ]
  },
  {
   "cell_type": "code",
   "execution_count": null,
   "id": "211f2474",
   "metadata": {},
   "outputs": [],
   "source": [
    " #either true OR False\n",
    "\n",
    "#less than                  <\n",
    "#less than equal to         <=\n",
    "#Greater than               >\n",
    "#Greater than equal to      >=  \n",
    "#Equal to                   ==\n",
    "#Not Equal To               !=\n",
    "#Assignment operator        =  #used in variables\n",
    "\n",
    "\n",
    "#is 5 equal to 5?\n",
    "print(5==5)\n",
    "print(5<6)\n",
    "print(5<=6)\n",
    "print(6>5)\n",
    "print(6>=5)\n",
    "print(5!=5)\n",
    "\n",
    "#EXAMPLE\n",
    "Mohsin_age=5\n",
    "School_age=5\n",
    "print(Mohsin_age==School_age)\n",
    "\n",
    "#anyother stage with input\n",
    "\n",
    "Mohsin_age=input(\"Whats your age? \")\n",
    "School_age=5       # false horha hay q ky type string hochki hay\n",
    "print(type(Mohsin_age))   #class Type String hue v hay\n",
    "Mohsin_age=int(Mohsin_age)\n",
    "print(type(Mohsin_age))    #class type changed to int\n",
    "print(Mohsin_age==School_age)\n",
    "\n",
    "\n",
    "\n"
   ]
  },
  {
   "cell_type": "markdown",
   "id": "2ef676f7",
   "metadata": {},
   "source": [
    "# FUNCTIONS"
   ]
  },
  {
   "cell_type": "code",
   "execution_count": null,
   "id": "6a036fda",
   "metadata": {},
   "outputs": [],
   "source": [
    "def school_calculator(Mohsin_age , text):\n",
    "    if Mohsin_age==5:\n",
    "         print(\"Mohsin is eligible for School\")\n",
    "    elif Mohsin_age>=5:\n",
    "         print(\"Mohsin is also eligible for School\")\n",
    "    elif Mohsin_age<=4:\n",
    "         print(\"You soul care abou your child\")\n",
    "    else:\n",
    "     print(\"Mohsin is not eligible for School\") \n",
    "school_calculator(3,\"mohsin\")\n",
    "\n"
   ]
  },
  {
   "cell_type": "markdown",
   "id": "91d09bc2",
   "metadata": {},
   "source": [
    "# Type connversion"
   ]
  },
  {
   "cell_type": "code",
   "execution_count": null,
   "id": "8976aff5",
   "metadata": {},
   "outputs": [],
   "source": [
    "Mohsin_age=input(\"Whats your age? \") \n",
    "print(Mohsin_age ,type(float(Mohsin_age)))  \n"
   ]
  },
  {
   "cell_type": "markdown",
   "id": "03e8619d",
   "metadata": {},
   "source": [
    "# while for"
   ]
  },
  {
   "cell_type": "code",
   "execution_count": null,
   "id": "d7744483",
   "metadata": {},
   "outputs": [],
   "source": [
    "a=24\n",
    "while a <=30:\n",
    "    print(a)\n",
    "    a=a+1\n",
    "\n",
    "\n",
    "x=11\n",
    "while x<=23:\n",
    "    print(x)\n",
    "    x=x+1\n",
    "\n",
    "\n",
    "for x in range(1,4):\n",
    "    print(x)"
   ]
  },
  {
   "cell_type": "markdown",
   "id": "c544e5a6",
   "metadata": {},
   "source": [
    "# if else Statement"
   ]
  },
  {
   "cell_type": "code",
   "execution_count": null,
   "id": "9a86a01f",
   "metadata": {},
   "outputs": [],
   "source": [
    "Mohsin_age=2\n",
    "required_age_for_school=5\n",
    "if Mohsin_age==required_age_for_school:\n",
    "    print(\"Mohsin is eligible for School\")\n",
    "elif Mohsin_age>=required_age_for_school:\n",
    "    print(\"Mohsin is also eligible for School\")\n",
    "elif Mohsin_age<=4:\n",
    "    print(\"You soul care abou your child\")\n",
    "else:\n",
    "    print(\"Mohsin is not eligible for School\") "
   ]
  },
  {
   "cell_type": "markdown",
   "id": "1e0f7620",
   "metadata": {},
   "source": [
    "# libraries import"
   ]
  },
  {
   "cell_type": "code",
   "execution_count": null,
   "id": "8c56d06e",
   "metadata": {
    "scrolled": true
   },
   "outputs": [],
   "source": [
    "import math\n",
    "print(math.pi)\n",
    "\n",
    "import statistics\n",
    "x=[23,54,7,767,87,5,6]\n",
    "print(statistics.mean(x))\n"
   ]
  },
  {
   "cell_type": "markdown",
   "id": "17fa1e32",
   "metadata": {},
   "source": [
    "# indexing"
   ]
  },
  {
   "cell_type": "code",
   "execution_count": null,
   "id": "39f0a734",
   "metadata": {},
   "outputs": [],
   "source": [
    "a=\"samosa pakora\"\n",
    "a"
   ]
  },
  {
   "cell_type": "code",
   "execution_count": null,
   "id": "38371459",
   "metadata": {},
   "outputs": [],
   "source": [
    "a[0]"
   ]
  },
  {
   "cell_type": "code",
   "execution_count": null,
   "id": "4c81055d",
   "metadata": {},
   "outputs": [],
   "source": [
    "a[1]"
   ]
  },
  {
   "cell_type": "code",
   "execution_count": null,
   "id": "0e79cce6",
   "metadata": {},
   "outputs": [],
   "source": [
    "a[3]"
   ]
  },
  {
   "cell_type": "markdown",
   "id": "0df217c6",
   "metadata": {},
   "source": [
    "## To find leght"
   ]
  },
  {
   "cell_type": "code",
   "execution_count": null,
   "id": "742fcf05",
   "metadata": {},
   "outputs": [],
   "source": [
    "len(a)"
   ]
  },
  {
   "cell_type": "markdown",
   "id": "092bef5c",
   "metadata": {},
   "source": [
    "# last character is exclusive"
   ]
  },
  {
   "cell_type": "code",
   "execution_count": null,
   "id": "89d66f72",
   "metadata": {
    "scrolled": true
   },
   "outputs": [],
   "source": [
    "a[13]"
   ]
  },
  {
   "cell_type": "code",
   "execution_count": null,
   "id": "a127a88c",
   "metadata": {},
   "outputs": [],
   "source": [
    "a[0:6]"
   ]
  },
  {
   "cell_type": "code",
   "execution_count": null,
   "id": "082b67bb",
   "metadata": {
    "scrolled": true
   },
   "outputs": [],
   "source": [
    "a[7:14]"
   ]
  },
  {
   "cell_type": "code",
   "execution_count": null,
   "id": "f676b16e",
   "metadata": {},
   "outputs": [],
   "source": [
    "len(a)"
   ]
  },
  {
   "cell_type": "code",
   "execution_count": null,
   "id": "117d8d17",
   "metadata": {},
   "outputs": [],
   "source": [
    "a[-1]"
   ]
  },
  {
   "cell_type": "code",
   "execution_count": null,
   "id": "7dae5b26",
   "metadata": {},
   "outputs": [],
   "source": [
    "a[-3]"
   ]
  },
  {
   "cell_type": "code",
   "execution_count": null,
   "id": "f91e7615",
   "metadata": {},
   "outputs": [],
   "source": [
    "a[-6:13]"
   ]
  },
  {
   "cell_type": "markdown",
   "id": "0712f52b",
   "metadata": {},
   "source": [
    "# String Methods"
   ]
  },
  {
   "cell_type": "code",
   "execution_count": null,
   "id": "f77935e5",
   "metadata": {},
   "outputs": [],
   "source": [
    "food=\"briyani\"\n",
    "food"
   ]
  },
  {
   "cell_type": "code",
   "execution_count": null,
   "id": "f2dedacc",
   "metadata": {},
   "outputs": [],
   "source": [
    "len(food)"
   ]
  },
  {
   "cell_type": "markdown",
   "id": "6c73d72e",
   "metadata": {},
   "source": [
    "- Ager main food kay bad dot likhnay kay bad tab dbnaonga to options show hngay "
   ]
  },
  {
   "cell_type": "code",
   "execution_count": null,
   "id": "0c0267e2",
   "metadata": {
    "scrolled": true
   },
   "outputs": [],
   "source": [
    "food.capitalize()       # capitalizer first letter "
   ]
  },
  {
   "cell_type": "code",
   "execution_count": null,
   "id": "591b10dc",
   "metadata": {},
   "outputs": [],
   "source": [
    "food.upper()            # capitalize every letter "
   ]
  },
  {
   "cell_type": "code",
   "execution_count": null,
   "id": "b3aa1522",
   "metadata": {},
   "outputs": [],
   "source": [
    "food.lower()            # lower letter "
   ]
  },
  {
   "cell_type": "code",
   "execution_count": null,
   "id": "5e4659b4",
   "metadata": {},
   "outputs": [],
   "source": [
    "food.replace(\"b\",\"sh\")  # Replace letter "
   ]
  },
  {
   "cell_type": "markdown",
   "id": "5eda02ed",
   "metadata": {},
   "source": [
    "# counting a specific letter "
   ]
  },
  {
   "cell_type": "code",
   "execution_count": null,
   "id": "bae7f87c",
   "metadata": {},
   "outputs": [],
   "source": [
    "food.count(\"a\")"
   ]
  },
  {
   "cell_type": "code",
   "execution_count": null,
   "id": "3a6c5a4d",
   "metadata": {},
   "outputs": [],
   "source": [
    "food.count(\"i\")"
   ]
  },
  {
   "cell_type": "markdown",
   "id": "6741532b",
   "metadata": {},
   "source": [
    "# finding an index number in string "
   ]
  },
  {
   "cell_type": "code",
   "execution_count": null,
   "id": "175a5718",
   "metadata": {},
   "outputs": [],
   "source": [
    "food.find(\"a\")"
   ]
  },
  {
   "cell_type": "code",
   "execution_count": null,
   "id": "3d874379",
   "metadata": {},
   "outputs": [],
   "source": [
    "# spliting a String\n",
    "Menue=\"samosa & pakora , briyan & karahi , fibo & fish\"\n",
    "Menue"
   ]
  },
  {
   "cell_type": "code",
   "execution_count": null,
   "id": "bf32818b",
   "metadata": {},
   "outputs": [],
   "source": [
    "Menue.split(\",\")"
   ]
  },
  {
   "cell_type": "markdown",
   "id": "65aafd6c",
   "metadata": {},
   "source": [
    "## Basic data stuctures\n",
    "- tuples\n",
    "- lists\n",
    "- Dictioneries\n",
    "- Set\n",
    "\n"
   ]
  },
  {
   "cell_type": "markdown",
   "id": "8332e11c",
   "metadata": {},
   "source": [
    "## Tuples\n",
    "- Orderd Collection of Elements\n",
    "- Enclosed in ( )\n",
    "- Different kind of Elements can Stored\n",
    "- Once Elements can stored cant cahangable or mutateable"
   ]
  },
  {
   "cell_type": "code",
   "execution_count": null,
   "id": "63e879eb",
   "metadata": {},
   "outputs": [],
   "source": [
    "A=(1, \"pythom\" , 2.3 , False)\n",
    "A"
   ]
  },
  {
   "cell_type": "code",
   "execution_count": null,
   "id": "f84ef5e0",
   "metadata": {
    "scrolled": true
   },
   "outputs": [],
   "source": [
    "type(A)"
   ]
  },
  {
   "cell_type": "markdown",
   "id": "1145e967",
   "metadata": {},
   "source": [
    "# Indexing of Tuple"
   ]
  },
  {
   "cell_type": "code",
   "execution_count": null,
   "id": "00bdb061",
   "metadata": {},
   "outputs": [],
   "source": [
    "A[0]"
   ]
  },
  {
   "cell_type": "code",
   "execution_count": null,
   "id": "0a95fdc0",
   "metadata": {},
   "outputs": [],
   "source": [
    "A[1]"
   ]
  },
  {
   "cell_type": "code",
   "execution_count": null,
   "id": "70e7fcfb",
   "metadata": {},
   "outputs": [],
   "source": [
    "A[2]"
   ]
  },
  {
   "cell_type": "code",
   "execution_count": null,
   "id": "ded52dde",
   "metadata": {},
   "outputs": [],
   "source": [
    "A[3]"
   ]
  },
  {
   "cell_type": "code",
   "execution_count": null,
   "id": "4cd0362e",
   "metadata": {},
   "outputs": [],
   "source": [
    "len(A)"
   ]
  },
  {
   "cell_type": "code",
   "execution_count": null,
   "id": "10534d7a",
   "metadata": {},
   "outputs": [],
   "source": [
    "A[4]  # Last Character is exclusicve"
   ]
  },
  {
   "cell_type": "code",
   "execution_count": null,
   "id": "b9883738",
   "metadata": {},
   "outputs": [],
   "source": [
    "A.count(\"p\")"
   ]
  },
  {
   "cell_type": "code",
   "execution_count": null,
   "id": "c419ecbd",
   "metadata": {},
   "outputs": [],
   "source": [
    "A[1:2]"
   ]
  },
  {
   "cell_type": "code",
   "execution_count": null,
   "id": "042bb7b3",
   "metadata": {
    "scrolled": true
   },
   "outputs": [],
   "source": [
    "A[1:4]"
   ]
  },
  {
   "cell_type": "code",
   "execution_count": null,
   "id": "0aa77f4d",
   "metadata": {},
   "outputs": [],
   "source": [
    "A[0:2]"
   ]
  },
  {
   "cell_type": "code",
   "execution_count": null,
   "id": "b587f2ff",
   "metadata": {},
   "outputs": [],
   "source": [
    "B=(2,\"hello\" , 3.0 , True)\n",
    "B"
   ]
  },
  {
   "cell_type": "markdown",
   "id": "0f720fcb",
   "metadata": {},
   "source": [
    "# Addition , Multiplication Can Be Done"
   ]
  },
  {
   "cell_type": "markdown",
   "id": "93d6956a",
   "metadata": {},
   "source": [
    "# Concatination"
   ]
  },
  {
   "cell_type": "code",
   "execution_count": null,
   "id": "5bc573c1",
   "metadata": {},
   "outputs": [],
   "source": [
    "A+B"
   ]
  },
  {
   "cell_type": "code",
   "execution_count": null,
   "id": "f391ef77",
   "metadata": {},
   "outputs": [],
   "source": [
    "A*2+B"
   ]
  },
  {
   "cell_type": "code",
   "execution_count": null,
   "id": "6f2c3fcd",
   "metadata": {},
   "outputs": [],
   "source": [
    "C=(56,876,45,443)\n",
    "C"
   ]
  },
  {
   "cell_type": "markdown",
   "id": "62df49a8",
   "metadata": {},
   "source": [
    "# To Check Minimum Value"
   ]
  },
  {
   "cell_type": "code",
   "execution_count": null,
   "id": "b506689f",
   "metadata": {},
   "outputs": [],
   "source": [
    "min(C)"
   ]
  },
  {
   "cell_type": "markdown",
   "id": "df9158ea",
   "metadata": {},
   "source": [
    "# To Check Maximum Value"
   ]
  },
  {
   "cell_type": "code",
   "execution_count": null,
   "id": "a3e16f69",
   "metadata": {},
   "outputs": [],
   "source": [
    "max(C)"
   ]
  },
  {
   "cell_type": "markdown",
   "id": "b48f443e",
   "metadata": {},
   "source": [
    "# LIsts\n",
    "- Ordered Collection of Elements\n",
    "- Enclosed in [] Square Brackets\n",
    "\n"
   ]
  },
  {
   "cell_type": "code",
   "execution_count": 7,
   "id": "50a517cd",
   "metadata": {},
   "outputs": [
    {
     "data": {
      "text/plain": [
       "[30, 'world', True]"
      ]
     },
     "execution_count": 7,
     "metadata": {},
     "output_type": "execute_result"
    }
   ],
   "source": [
    "list=[30,\"world\",True ]\n",
    "list"
   ]
  },
  {
   "cell_type": "code",
   "execution_count": null,
   "id": "b993e9fd",
   "metadata": {},
   "outputs": [],
   "source": [
    "list[0]"
   ]
  },
  {
   "cell_type": "code",
   "execution_count": null,
   "id": "a41af725",
   "metadata": {},
   "outputs": [],
   "source": [
    "list[1]"
   ]
  },
  {
   "cell_type": "code",
   "execution_count": null,
   "id": "236cf286",
   "metadata": {},
   "outputs": [],
   "source": [
    "len(list)"
   ]
  },
  {
   "cell_type": "code",
   "execution_count": null,
   "id": "788032ee",
   "metadata": {},
   "outputs": [],
   "source": [
    "type(list)"
   ]
  },
  {
   "cell_type": "markdown",
   "id": "c8b2717f",
   "metadata": {},
   "source": [
    "# Reverse Function"
   ]
  },
  {
   "cell_type": "code",
   "execution_count": null,
   "id": "7c545147",
   "metadata": {},
   "outputs": [],
   "source": [
    "list.reverse()\n",
    "list"
   ]
  },
  {
   "cell_type": "code",
   "execution_count": 8,
   "id": "ab555cfb",
   "metadata": {},
   "outputs": [
    {
     "data": {
      "text/plain": [
       "[30, 'world', True, 'He is well']"
      ]
     },
     "execution_count": 8,
     "metadata": {},
     "output_type": "execute_result"
    }
   ],
   "source": [
    "list.append(\"He is well\")\n",
    "list"
   ]
  },
  {
   "cell_type": "code",
   "execution_count": null,
   "id": "f6442023",
   "metadata": {},
   "outputs": [],
   "source": [
    "list.count(3)"
   ]
  },
  {
   "cell_type": "markdown",
   "id": "fe43c017",
   "metadata": {},
   "source": [
    "# Sorting"
   ]
  },
  {
   "cell_type": "code",
   "execution_count": null,
   "id": "ae3291bb",
   "metadata": {},
   "outputs": [],
   "source": [
    "lis=[23,4,34,3543,23,21,332,5456,45,456,87]\n",
    "lis.sort()\n",
    "lis"
   ]
  },
  {
   "cell_type": "code",
   "execution_count": null,
   "id": "186e6e62",
   "metadata": {
    "scrolled": true
   },
   "outputs": [],
   "source": [
    "lis*2"
   ]
  },
  {
   "cell_type": "markdown",
   "id": "c0f2d30f",
   "metadata": {},
   "source": [
    "# Dictonaries\n",
    "- An un Ordered Collection of Elements\n",
    "- Key and Value\n",
    "- Curly Barackets {}\n",
    "- Mutatable"
   ]
  },
  {
   "cell_type": "code",
   "execution_count": null,
   "id": "0d83d035",
   "metadata": {},
   "outputs": [],
   "source": [
    "food={\"samosas\":30, \"pakora\":28,\"briyani\":50,\"piyaz\":70}\n",
    "food"
   ]
  },
  {
   "cell_type": "markdown",
   "id": "6aa25c74",
   "metadata": {},
   "source": [
    "# Extract Data"
   ]
  },
  {
   "cell_type": "code",
   "execution_count": null,
   "id": "b6778117",
   "metadata": {},
   "outputs": [],
   "source": [
    "food.keys()"
   ]
  },
  {
   "cell_type": "markdown",
   "id": "3b78f3d7",
   "metadata": {},
   "source": [
    "# oR"
   ]
  },
  {
   "cell_type": "code",
   "execution_count": null,
   "id": "c13081e0",
   "metadata": {},
   "outputs": [],
   "source": [
    "keys1=food.keys()\n",
    "keys1"
   ]
  },
  {
   "cell_type": "code",
   "execution_count": null,
   "id": "96c29b62",
   "metadata": {
    "scrolled": true
   },
   "outputs": [],
   "source": [
    "food.values()"
   ]
  },
  {
   "cell_type": "markdown",
   "id": "f7182402",
   "metadata": {},
   "source": [
    "# oR"
   ]
  },
  {
   "cell_type": "code",
   "execution_count": null,
   "id": "a6ff8c17",
   "metadata": {},
   "outputs": [],
   "source": [
    "values1=food.values()\n",
    "values1"
   ]
  },
  {
   "cell_type": "markdown",
   "id": "85d3b5c0",
   "metadata": {},
   "source": [
    "# Adding New Values"
   ]
  },
  {
   "cell_type": "code",
   "execution_count": null,
   "id": "e131bd55",
   "metadata": {},
   "outputs": [],
   "source": [
    "food[\"tikki\"]=132\n",
    "food"
   ]
  },
  {
   "cell_type": "markdown",
   "id": "8ba39742",
   "metadata": {},
   "source": [
    "# Update"
   ]
  },
  {
   "cell_type": "code",
   "execution_count": null,
   "id": "35af083c",
   "metadata": {},
   "outputs": [],
   "source": [
    "food[\"tikki\"]=156\n",
    "food"
   ]
  },
  {
   "cell_type": "code",
   "execution_count": null,
   "id": "490eef61",
   "metadata": {},
   "outputs": [],
   "source": [
    "food2={\"sawaiyan\":100, \"date\":50 , \"almonds\":3000}\n",
    "food2"
   ]
  },
  {
   "cell_type": "markdown",
   "id": "f9daec47",
   "metadata": {},
   "source": [
    "# concatination"
   ]
  },
  {
   "cell_type": "code",
   "execution_count": null,
   "id": "e9d0bbd4",
   "metadata": {
    "scrolled": true
   },
   "outputs": [],
   "source": [
    "food.update(food2)\n",
    "food"
   ]
  },
  {
   "cell_type": "markdown",
   "id": "b9aa2e35",
   "metadata": {},
   "source": [
    "# Sets\n",
    "- An  un Ordered Collection of Element\n",
    "- Curly Barackets {}\n",
    "- NO Duplicat Allowed"
   ]
  },
  {
   "cell_type": "code",
   "execution_count": null,
   "id": "657f4e4f",
   "metadata": {},
   "outputs": [],
   "source": [
    "s={\"AAmar\" , 32, 43, 54.7}\n",
    "s"
   ]
  },
  {
   "cell_type": "code",
   "execution_count": null,
   "id": "87d4ef78",
   "metadata": {},
   "outputs": [],
   "source": [
    "s.add(\"hello world\")\n",
    "s"
   ]
  },
  {
   "cell_type": "code",
   "execution_count": null,
   "id": "4911849a",
   "metadata": {},
   "outputs": [],
   "source": [
    "s.remove(32)\n",
    "s"
   ]
  },
  {
   "cell_type": "markdown",
   "id": "42733fb8",
   "metadata": {},
   "source": [
    "# DOn't use duplicate in Sets"
   ]
  },
  {
   "cell_type": "code",
   "execution_count": null,
   "id": "a3b78551",
   "metadata": {},
   "outputs": [],
   "source": [
    "s={\"AAmar\",32, 32, 43, 54.7}    # I duplicates 32 it print only 32\n",
    "s"
   ]
  },
  {
   "cell_type": "markdown",
   "id": "fd18b5dd",
   "metadata": {},
   "source": [
    "# *DATA VISUALIZATION (PLOTS)*"
   ]
  },
  {
   "cell_type": "markdown",
   "id": "97c3b380",
   "metadata": {},
   "source": [
    "# LINE PLOTS"
   ]
  },
  {
   "cell_type": "code",
   "execution_count": 9,
   "id": "d5720e07",
   "metadata": {},
   "outputs": [
    {
     "data": {
      "image/png": "[encoded data removed]",
      "text/plain": [
       "<Figure size 432x288 with 1 Axes>"
      ]
     },
     "metadata": {
      "needs_background": "light"
     },
     "output_type": "display_data"
    }
   ],
   "source": [
    "# inport Libraries\n",
    "import seaborn as sns\n",
    "import matplotlib.pyplot as plt\n",
    "\n",
    "# Import DataSet\n",
    "phool = sns.load_dataset(\"iris\")\n",
    "phool\n",
    "##Draw a line plot\n",
    "sns.lineplot(x=\"sepal_length\",y=\"sepal_width\", data=phool)\n",
    "plt.show()"
   ]
  },
  {
   "cell_type": "markdown",
   "id": "5a1e2177",
   "metadata": {},
   "source": [
    "# Adding title "
   ]
  },
  {
   "cell_type": "code",
   "execution_count": null,
   "id": "f9a9efea",
   "metadata": {},
   "outputs": [],
   "source": [
    "# inport Libraries\n",
    "import seaborn as sns\n",
    "import matplotlib.pyplot as plt\n",
    "\n",
    "# Import DataSet\n",
    "phool = sns.load_dataset(\"iris\")\n",
    "phool\n",
    "##Draw a line plot\n",
    "sns.lineplot(x=\"sepal_length\",y=\"sepal_width\", data=phool)\n",
    "plt.title(\"Sepal Area\")\n",
    "plt.show()"
   ]
  },
  {
   "cell_type": "markdown",
   "id": "baea3908",
   "metadata": {},
   "source": [
    "# Adding / Changing limits"
   ]
  },
  {
   "cell_type": "code",
   "execution_count": 10,
   "id": "4853f109",
   "metadata": {},
   "outputs": [
    {
     "data": {
      "image/png": "[encoded data removed]",
      "text/plain": [
       "<Figure size 432x288 with 1 Axes>"
      ]
     },
     "metadata": {
      "needs_background": "light"
     },
     "output_type": "display_data"
    }
   ],
   "source": [
    "# inport Libraries\n",
    "import seaborn as sns\n",
    "import matplotlib.pyplot as plt\n",
    "\n",
    "# Import DataSet\n",
    "phool = sns.load_dataset(\"iris\")\n",
    "phool\n",
    "##Draw a line plot\n",
    "sns.lineplot(x=\"sepal_length\",y=\"sepal_width\", data=phool)\n",
    "plt.title(\"Sepal Area\")\n",
    "plt.xlim(1)\n",
    "plt.ylim(2) \n",
    "plt.show()"
   ]
  },
  {
   "cell_type": "code",
   "execution_count": null,
   "id": "15fdb76c",
   "metadata": {},
   "outputs": [],
   "source": [
    "# inport Libraries\n",
    "import seaborn as sns\n",
    "import matplotlib.pyplot as plt\n",
    "\n",
    "# Import DataSet\n",
    "phool = sns.load_dataset(\"iris\")\n",
    "phool\n",
    "##Draw a line plot\n",
    "sns.lineplot(x=\"sepal_length\",y=\"sepal_width\", data=phool)\n",
    "plt.title(\"Sepal Area\")\n",
    "plt.ylim(2)\n",
    "plt.show()"
   ]
  },
  {
   "cell_type": "markdown",
   "id": "644ac67c",
   "metadata": {},
   "source": [
    "# Set Styles\n",
    "- Darkgrid\n",
    "- Whitegrid\n",
    "- Dark\n",
    "- white\n",
    "- Ticks"
   ]
  },
  {
   "cell_type": "code",
   "execution_count": null,
   "id": "bc4bf0e4",
   "metadata": {},
   "outputs": [],
   "source": [
    "#import library\n",
    "import seaborn as sns \n",
    "import matplotlib.pyplot as plt\n",
    "\n",
    "# import data set\n",
    "phool=sns.load_dataset(\"iris\")\n",
    " #draw a line plot\n",
    "sns.lineplot(x=\"sepal_length\", y=\"sepal_width\" , data=phool)\n",
    "plt.title(\" phuulon ka graph\")\n",
    "sns.set_style(\"dark\")\n",
    "plt.show()"
   ]
  },
  {
   "cell_type": "markdown",
   "id": "91d76762",
   "metadata": {},
   "source": [
    "# Size of Figure "
   ]
  },
  {
   "cell_type": "code",
   "execution_count": null,
   "id": "bc986a23",
   "metadata": {},
   "outputs": [],
   "source": [
    "#import library\n",
    "import seaborn as sns \n",
    "import matplotlib.pyplot as plt\n",
    "\n",
    "# import data set\n",
    "phool=sns.load_dataset(\"iris\")\n",
    "#Change Size\n",
    "plt.figure(figsize=(10,8))\n",
    " #draw a line plot\n",
    "sns.lineplot(x=\"sepal_length\", y=\"sepal_width\" , data=phool)\n",
    "plt.title(\" phuulon ka graph\")\n",
    "sns.set_style(\"dark\")\n",
    "plt.show()"
   ]
  },
  {
   "cell_type": "code",
   "execution_count": null,
   "id": "2b0fbd2f",
   "metadata": {},
   "outputs": [],
   "source": [
    "import seaborn as sns\n",
    "import matplotlib.pyplot as plt\n",
    "phool=sns.load_dataset(\"iris\")\n",
    "plt.figure(figsize=(7,8))\n",
    "sns.lineplot(x=\"sepal_length\", y=\"sepal_width\" , data=phool)\n",
    "plt.xlim(2)\n",
    "plt.ylim(1)\n",
    "plt.title(\"phuulun ka graph\")\n",
    "sns.set_style(\"white\")\n",
    "plt.show()"
   ]
  },
  {
   "cell_type": "code",
   "execution_count": null,
   "id": "454322f2",
   "metadata": {},
   "outputs": [],
   "source": [
    "import seaborn as sns\n",
    "import matplotlib.pyplot as plt\n",
    "phool=sns.load_dataset(\"iris\")\n",
    "plt.figure(figsize=(7,8))\n",
    "sns.lineplot(x=\"sepal_length\", y=\"sepal_width\" , data=phool)\n",
    "plt.xlim(2)\n",
    "plt.ylim(1)\n",
    "plt.title(\"phuulun ka graph\")\n",
    "sns.set_style(\"ticks\")\n",
    "plt.show()"
   ]
  },
  {
   "cell_type": "code",
   "execution_count": null,
   "id": "4c5b90cf",
   "metadata": {},
   "outputs": [],
   "source": [
    "import seaborn as sns\n",
    "import matplotlib.pyplot as plt\n",
    "phool=sns.load_dataset(\"iris\")\n",
    "plt.figure(figsize=(7,8))\n",
    "sns.lineplot(x=\"sepal_length\", y=\"sepal_width\" , data=phool)\n",
    "plt.xlim(2)\n",
    "plt.ylim(1)\n",
    "plt.title(\"phuulun ka graph\")\n",
    "sns.set_style(\"whitegrid\")\n",
    "plt.show()"
   ]
  },
  {
   "cell_type": "markdown",
   "id": "426436bb",
   "metadata": {},
   "source": [
    "# MOve on To **BArplot**"
   ]
  },
  {
   "cell_type": "code",
   "execution_count": null,
   "id": "e56d5dfe",
   "metadata": {},
   "outputs": [],
   "source": [
    "import seaborn as sns\n",
    "import matplotlib.pyplot as plt\n",
    "\n",
    "phool=sns.load_dataset(\"iris\")\n",
    "plt.figure(figsize=(3,4))\n",
    "sns.barplot(x=\"species\" , y=\"sepal_width\", data=phool)\n",
    "sns.set_style(\"white\")\n",
    "plt.show()"
   ]
  },
  {
   "cell_type": "markdown",
   "id": "39b0ccd1",
   "metadata": {},
   "source": [
    "# Change Order "
   ]
  },
  {
   "cell_type": "code",
   "execution_count": null,
   "id": "5d79f438",
   "metadata": {},
   "outputs": [],
   "source": [
    "import seaborn as sns\n",
    "import matplotlib.pyplot as plt\n",
    "\n",
    "phool=sns.load_dataset(\"iris\")\n",
    "plt.figure(figsize=(7,5))\n",
    "sns.barplot(x=\"species\" , y=\"sepal_width\", data=phool , order=[\"setosa\",\"virginica\",\"versicolor species\"])\n",
    "sns.set_style(\"dark\")\n",
    "plt.show()"
   ]
  },
  {
   "cell_type": "markdown",
   "id": "eb2a1dac",
   "metadata": {},
   "source": [
    "# Titanic plot"
   ]
  },
  {
   "cell_type": "code",
   "execution_count": null,
   "id": "2eadaf3c",
   "metadata": {},
   "outputs": [],
   "source": [
    "import seaborn as sns\n",
    "import matplotlib.pyplot as plt\n",
    "\n",
    "kashti=sns.load_dataset(\"titanic\")\n",
    "kashti\n",
    "sns.barplot(x=\"sex\", y=\"alone\" , data=kashti )\n",
    "plt.show()\n"
   ]
  },
  {
   "cell_type": "code",
   "execution_count": null,
   "id": "709c8ad9",
   "metadata": {},
   "outputs": [],
   "source": [
    "import seaborn as sns\n",
    "import matplotlib.pyplot as plt\n",
    "\n",
    "kashti=sns.load_dataset(\"titanic\")\n",
    "kashti\n",
    "sns.barplot(x=\"sex\", y=\"alone\" , data=kashti )\n",
    "plt.show()\n",
    "sns.lineplot(x=\"sex\", y=\"alone\", data = kashti)\n",
    "plt.show()\n",
    "sns.countplot(x=\"sex\", data=kashti)\n",
    "plt.show()"
   ]
  },
  {
   "cell_type": "code",
   "execution_count": null,
   "id": "bc8090c6",
   "metadata": {},
   "outputs": [],
   "source": [
    "import seaborn as sns\n",
    "import matplotlib.pyplot as plt\n",
    "\n",
    "kashti=sns.load_dataset(\"titanic\")\n",
    "kashti\n",
    "sns.barplot(x=\"sex\", y=\"alone\" , data=kashti , order=[\"female\", \"male\"])\n",
    "plt.show()\n"
   ]
  },
  {
   "cell_type": "markdown",
   "id": "9e286235",
   "metadata": {},
   "source": [
    "# Change Colors"
   ]
  },
  {
   "cell_type": "code",
   "execution_count": null,
   "id": "f29a8634",
   "metadata": {},
   "outputs": [],
   "source": [
    "import seaborn as sns\n",
    "import matplotlib.pyplot as plt\n",
    "\n",
    "kashti=sns.load_dataset(\"titanic\")\n",
    "kashti\n",
    "sns.barplot(x=\"sex\", y=\"alone\" , data=kashti, color=\"red\" )\n",
    "plt.show()\n"
   ]
  },
  {
   "cell_type": "code",
   "execution_count": null,
   "id": "13456fbb",
   "metadata": {},
   "outputs": [],
   "source": [
    "import seaborn as sns\n",
    "import matplotlib.pyplot as plt\n",
    "\n",
    "kashti=sns.load_dataset(\"titanic\")\n",
    "kashti\n",
    "sns.barplot(x=\"sex\", y=\"alone\" , data=kashti, color=\"grey\" )\n",
    "plt.show()\n"
   ]
  },
  {
   "cell_type": "code",
   "execution_count": null,
   "id": "26ca7418",
   "metadata": {},
   "outputs": [],
   "source": [
    "import seaborn as sns\n",
    "import matplotlib.pyplot as plt\n",
    "\n",
    "kashti=sns.load_dataset(\"titanic\")\n",
    "kashti\n",
    "sns.barplot(x=\"sex\", y=\"alone\" , data=kashti, color=\"pink\" )\n",
    "plt.show()\n"
   ]
  },
  {
   "cell_type": "code",
   "execution_count": null,
   "id": "41407346",
   "metadata": {},
   "outputs": [],
   "source": [
    "import seaborn as sns\n",
    "import matplotlib.pyplot as plt\n",
    "\n",
    "kashti=sns.load_dataset(\"titanic\")\n",
    "kashti\n",
    "sns.barplot(x=\"sex\", y=\"alone\", hue=\"who\", data=kashti, color=\"black\"  )\n",
    "plt.show()\n"
   ]
  },
  {
   "cell_type": "markdown",
   "id": "1ac04b99",
   "metadata": {},
   "source": [
    "# To remove error lines"
   ]
  },
  {
   "cell_type": "code",
   "execution_count": null,
   "id": "0bea78a0",
   "metadata": {},
   "outputs": [],
   "source": [
    "import seaborn as sns\n",
    "import matplotlib.pyplot as plt\n",
    "\n",
    "kashti=sns.load_dataset(\"titanic\")\n",
    "kashti\n",
    "sns.barplot(x=\"sex\", y=\"alone\" , data=kashti, color=\"red\" , ci=None)\n",
    "plt.show()\n"
   ]
  },
  {
   "cell_type": "markdown",
   "id": "33b4835e",
   "metadata": {},
   "source": [
    "# Palette\n",
    "- to change colour scheme"
   ]
  },
  {
   "cell_type": "code",
   "execution_count": 5,
   "id": "7691e6a3",
   "metadata": {},
   "outputs": [
    {
     "data": {
      "image/png": "[encoded data removed]",
      "text/plain": [
       "<Figure size 432x288 with 1 Axes>"
      ]
     },
     "metadata": {
      "needs_background": "light"
     },
     "output_type": "display_data"
    }
   ],
   "source": [
    "import seaborn as sns\n",
    "import matplotlib.pyplot as plt\n",
    "\n",
    "kashti=sns.load_dataset(\"titanic\")\n",
    "kashti\n",
    "sns.barplot(x=\"sex\", y=\"alone\" , data=kashti  )    #color=\"red\", palette=\"dark\"\n",
    "plt.show()\n"
   ]
  },
  {
   "cell_type": "markdown",
   "id": "9149795b",
   "metadata": {},
   "source": [
    "# Estimator\n",
    "- install library of numpy"
   ]
  },
  {
   "cell_type": "code",
   "execution_count": null,
   "id": "bb0b97ca",
   "metadata": {
    "scrolled": true
   },
   "outputs": [],
   "source": [
    "import seaborn as sns\n",
    "import numpy\n",
    "import matplotlib.pyplot as plt\n",
    "\n",
    "kashti=sns.load_dataset(\"titanic\")\n",
    "kashti\n",
    "sns.barplot(x=\"class\", y=\"fare\",hue=\"sex\",data=kashti, estimator = median)\n",
    "plt.show()\n"
   ]
  },
  {
   "cell_type": "markdown",
   "id": "8304b724",
   "metadata": {},
   "source": [
    "# Saturation changer"
   ]
  },
  {
   "cell_type": "code",
   "execution_count": null,
   "id": "9b992cae",
   "metadata": {},
   "outputs": [],
   "source": [
    "import seaborn as sns\n",
    "# import numpy\n",
    "import matplotlib.pyplot as plt\n",
    "\n",
    "kashti=sns.load_dataset(\"titanic\")\n",
    "kashti\n",
    "sns.barplot(x=\"class\", y=\"fare\",hue=\"sex\",data=kashti,saturation=0.5)\n",
    "plt.show()"
   ]
  },
  {
   "cell_type": "markdown",
   "id": "fa0160b5",
   "metadata": {},
   "source": [
    "# Horizotal Plot\n",
    "- place Numeric Variable in X axis & Catagoric variable in y Axix"
   ]
  },
  {
   "cell_type": "code",
   "execution_count": null,
   "id": "3ccf05bc",
   "metadata": {},
   "outputs": [],
   "source": [
    "import seaborn as sns\n",
    "# import numpy\n",
    "import matplotlib.pyplot as plt\n",
    "\n",
    "kashti=sns.load_dataset(\"titanic\")\n",
    "kashti\n",
    "sns.barplot(x=\"fare\", y=\"class\",hue=\"sex\",data=kashti,saturation=3)\n",
    "plt.show()"
   ]
  },
  {
   "cell_type": "markdown",
   "id": "deb81cae",
   "metadata": {},
   "source": [
    "- Line width\n",
    "- Face color\n",
    "- Error Color\n",
    "- edge color"
   ]
  },
  {
   "cell_type": "code",
   "execution_count": 6,
   "id": "cbb9e984",
   "metadata": {
    "scrolled": true
   },
   "outputs": [
    {
     "data": {
      "image/png": "[encoded data removed]",
      "text/plain": [
       "<Figure size 432x288 with 1 Axes>"
      ]
     },
     "metadata": {
      "needs_background": "light"
     },
     "output_type": "display_data"
    }
   ],
   "source": [
    "import seaborn as sns\n",
    "# import numpy\n",
    "import matplotlib.pyplot as plt\n",
    "\n",
    "kashti=sns.load_dataset(\"titanic\")\n",
    "kashti\n",
    "sns.barplot(x=\"fare\", y=\"class\",hue=\"sex\",data=kashti,linewidth=2.5,facecolor=(1,0.2,1,0),errcolor=\".9\", edgecolor=\".2\")\n",
    "plt.show()"
   ]
  },
  {
   "cell_type": "markdown",
   "id": "015b45fb",
   "metadata": {},
   "source": [
    "# *NUMPY LIBRARY*\n"
   ]
  },
  {
   "cell_type": "markdown",
   "id": "3a687bf7",
   "metadata": {},
   "source": [
    "- lIBRARY: KSI ARU KAY BNAY HUE CODE HOTY HAIN WOH HMM USE KRTAY HAIN "
   ]
  },
  {
   "cell_type": "markdown",
   "id": "855ca735",
   "metadata": {},
   "source": [
    "# N_d Array"
   ]
  },
  {
   "cell_type": "code",
   "execution_count": null,
   "id": "ee3f0b13",
   "metadata": {
    "scrolled": true
   },
   "outputs": [],
   "source": [
    "import numpy as np\n",
    "a=np.array([5,5,10])\n",
    "a\n"
   ]
  },
  {
   "cell_type": "markdown",
   "id": "8a657c62",
   "metadata": {},
   "source": [
    "- Lenght check of Array"
   ]
  },
  {
   "cell_type": "code",
   "execution_count": null,
   "id": "241cd5ba",
   "metadata": {},
   "outputs": [],
   "source": [
    "len(a)"
   ]
  },
  {
   "cell_type": "markdown",
   "id": "d3f284cc",
   "metadata": {},
   "source": [
    "- Type Check of an Array"
   ]
  },
  {
   "cell_type": "code",
   "execution_count": null,
   "id": "59b63625",
   "metadata": {
    "scrolled": true
   },
   "outputs": [],
   "source": [
    "# type(a)\n",
    "(type(a))"
   ]
  },
  {
   "cell_type": "markdown",
   "id": "7d9dbcc5",
   "metadata": {},
   "source": [
    "- Vector: is an Array with Single Dimmesion\n",
    "- Matrix: is An Array With Two Dimesions \n",
    "   - Eg:\n",
    "- array ([[ 5,  4,  2],\n",
    "        [32, 43, 87],\n",
    "        [32, 32, 43]])      # Now Matrix is 3 by 3"
   ]
  },
  {
   "cell_type": "code",
   "execution_count": null,
   "id": "8acdff90",
   "metadata": {},
   "outputs": [],
   "source": [
    "import numpy as np\n",
    "s=np.array([32,54,56,76])\n",
    "s"
   ]
  },
  {
   "cell_type": "code",
   "execution_count": null,
   "id": "e23dd075",
   "metadata": {},
   "outputs": [],
   "source": [
    "import numpy as np\n",
    "q=np.array([43,54,65,76,76,8787,56,4,35,324])\n",
    "q\n"
   ]
  },
  {
   "cell_type": "markdown",
   "id": "136548ec",
   "metadata": {},
   "source": [
    "# 2_D Array"
   ]
  },
  {
   "cell_type": "code",
   "execution_count": null,
   "id": "b6369c71",
   "metadata": {},
   "outputs": [],
   "source": [
    "import numpy as np\n",
    "x=np.array([[5,4,2],[32,43,87]])\n",
    "x"
   ]
  },
  {
   "cell_type": "code",
   "execution_count": null,
   "id": "bfe8281e",
   "metadata": {
    "scrolled": true
   },
   "outputs": [],
   "source": [
    "import numpy as np\n",
    "y=np.array([[12,12,12],[13,13,13]])\n",
    "y"
   ]
  },
  {
   "cell_type": "markdown",
   "id": "30aff96a",
   "metadata": {},
   "source": [
    "- Indexing in array"
   ]
  },
  {
   "cell_type": "code",
   "execution_count": null,
   "id": "e6e3dc1f",
   "metadata": {},
   "outputs": [],
   "source": [
    "w[0]"
   ]
  },
  {
   "cell_type": "code",
   "execution_count": null,
   "id": "1117d89f",
   "metadata": {
    "scrolled": true
   },
   "outputs": [],
   "source": [
    "w[1]"
   ]
  },
  {
   "cell_type": "code",
   "execution_count": null,
   "id": "bb010507",
   "metadata": {
    "scrolled": true
   },
   "outputs": [],
   "source": [
    "w[2]"
   ]
  },
  {
   "cell_type": "code",
   "execution_count": null,
   "id": "c98d679f",
   "metadata": {},
   "outputs": [],
   "source": [
    "# Concatinate\n",
    "\n",
    "r=np.concatenate((x,y))\n",
    "r"
   ]
  },
  {
   "cell_type": "markdown",
   "id": "e27f76f2",
   "metadata": {},
   "source": [
    "# Axis in dimensions"
   ]
  },
  {
   "cell_type": "code",
   "execution_count": null,
   "id": "b8bc13a5",
   "metadata": {},
   "outputs": [],
   "source": [
    "r=np.concatenate((x,y),axis=0)\n",
    "r"
   ]
  },
  {
   "cell_type": "markdown",
   "id": "01bb4455",
   "metadata": {},
   "source": [
    "# Number of Elements"
   ]
  },
  {
   "cell_type": "code",
   "execution_count": null,
   "id": "ea85cc99",
   "metadata": {},
   "outputs": [],
   "source": [
    "r.size"
   ]
  },
  {
   "cell_type": "markdown",
   "id": "e6924552",
   "metadata": {},
   "source": [
    "# Shape"
   ]
  },
  {
   "cell_type": "code",
   "execution_count": null,
   "id": "3a415c31",
   "metadata": {},
   "outputs": [],
   "source": [
    "r.shape"
   ]
  },
  {
   "cell_type": "markdown",
   "id": "409140a1",
   "metadata": {},
   "source": [
    "# 3-D Array Or *Tensor*"
   ]
  },
  {
   "cell_type": "markdown",
   "id": "2ae08b43",
   "metadata": {},
   "source": [
    "- 3-D Array involves 3 or Higher Dimensions"
   ]
  },
  {
   "cell_type": "code",
   "execution_count": null,
   "id": "6dce4eb7",
   "metadata": {
    "scrolled": true
   },
   "outputs": [],
   "source": [
    "import numpy as np\n",
    "w=np.array([[12,12,12],[13,13,13],[14,14,14]])\n",
    "w"
   ]
  },
  {
   "cell_type": "markdown",
   "id": "f73721a9",
   "metadata": {},
   "source": [
    "# To check dimsnsions of an Array"
   ]
  },
  {
   "cell_type": "code",
   "execution_count": null,
   "id": "f3ff93c8",
   "metadata": {},
   "outputs": [],
   "source": [
    "w.ndim    # use ndim"
   ]
  },
  {
   "cell_type": "markdown",
   "id": "b6b7a0c7",
   "metadata": {},
   "source": [
    "- *Dimensions increases by increasing number of Matrix, and placing [ ] after Evering Dimsnsion is Must*"
   ]
  },
  {
   "cell_type": "markdown",
   "id": "fd785518",
   "metadata": {},
   "source": [
    "- Higher Dimensions"
   ]
  },
  {
   "cell_type": "code",
   "execution_count": null,
   "id": "cb5cedb0",
   "metadata": {
    "scrolled": true
   },
   "outputs": [],
   "source": [
    "import numpy as np\n",
    "z=np.array([[[12,12,12],[13,13,13]],[[14,14,14],[15,15,15]],[[32,43,32],[12,54,13]]])\n",
    "z"
   ]
  },
  {
   "cell_type": "code",
   "execution_count": null,
   "id": "fdd79b4d",
   "metadata": {},
   "outputs": [],
   "source": [
    "z.ndim"
   ]
  },
  {
   "cell_type": "markdown",
   "id": "f389e4f8",
   "metadata": {},
   "source": [
    "# Shape"
   ]
  },
  {
   "cell_type": "code",
   "execution_count": null,
   "id": "f3ed08d3",
   "metadata": {
    "scrolled": true
   },
   "outputs": [],
   "source": [
    "z.shape     "
   ]
  },
  {
   "cell_type": "code",
   "execution_count": null,
   "id": "ad99e236",
   "metadata": {},
   "outputs": [],
   "source": [
    "z.size"
   ]
  },
  {
   "cell_type": "code",
   "execution_count": null,
   "id": "495444c8",
   "metadata": {},
   "outputs": [],
   "source": [
    "# REshape"
   ]
  },
  {
   "cell_type": "code",
   "execution_count": null,
   "id": "9e9213b9",
   "metadata": {},
   "outputs": [],
   "source": [
    "z.reshape(2,9)"
   ]
  },
  {
   "cell_type": "markdown",
   "id": "856240b0",
   "metadata": {},
   "source": [
    "# Array Attributes"
   ]
  },
  {
   "cell_type": "markdown",
   "id": "03272542",
   "metadata": {},
   "source": [
    "- Dimensions of Array are called Axis\n",
    "- Single dimension has single Axix\n",
    "- Double Dimension has 2 Axix\n",
    "- Triple Dimension has 3 Axix"
   ]
  },
  {
   "cell_type": "markdown",
   "id": "75e3c583",
   "metadata": {},
   "source": [
    "- array([[12, 12, 12],\n",
    "       [13, 13, 13]])   # 2 Axix = First Axix has 2 lenght, @nd Axix has 3 lenght\n"
   ]
  },
  {
   "cell_type": "markdown",
   "id": "ff69a91e",
   "metadata": {},
   "source": [
    "# How to Create an Array\n"
   ]
  },
  {
   "cell_type": "code",
   "execution_count": null,
   "id": "919a3d49",
   "metadata": {},
   "outputs": [],
   "source": [
    "import numpy as np\n",
    "a=np.array([3,4,5])\n",
    "a"
   ]
  },
  {
   "cell_type": "markdown",
   "id": "3e9f618d",
   "metadata": {},
   "source": [
    "# Zero Function"
   ]
  },
  {
   "cell_type": "code",
   "execution_count": null,
   "id": "4d07da76",
   "metadata": {},
   "outputs": [],
   "source": [
    "import numpy as np\n",
    "a=np.array([3,4,5])\n",
    "a=np.zeros(1)    # we can aplly comand in zeros funcrtion tyo obtain ZEros in Array\n",
    "a"
   ]
  },
  {
   "cell_type": "code",
   "execution_count": null,
   "id": "7055144a",
   "metadata": {
    "scrolled": true
   },
   "outputs": [],
   "source": [
    "a=np.zeros(2)\n",
    "a"
   ]
  },
  {
   "cell_type": "markdown",
   "id": "44546d41",
   "metadata": {},
   "source": [
    "# Ones Function"
   ]
  },
  {
   "cell_type": "code",
   "execution_count": null,
   "id": "b7342323",
   "metadata": {},
   "outputs": [],
   "source": [
    "a=np.ones(1)    #we can aplly comand in one funcrtion tyo obtain one in Array\n",
    "a"
   ]
  },
  {
   "cell_type": "code",
   "execution_count": null,
   "id": "e7f399b0",
   "metadata": {},
   "outputs": [],
   "source": [
    "a=np.ones(12)    #we can aplly comand in one funcrtion tyo obtain one in Array\n",
    "a"
   ]
  },
  {
   "cell_type": "markdown",
   "id": "c5f885a3",
   "metadata": {},
   "source": [
    "# Empty Function"
   ]
  },
  {
   "cell_type": "code",
   "execution_count": null,
   "id": "908db2c3",
   "metadata": {},
   "outputs": [],
   "source": [
    "a=np.empty(3)    \n",
    "a"
   ]
  },
  {
   "cell_type": "markdown",
   "id": "ef7e8f1a",
   "metadata": {},
   "source": [
    "#  We can Give Range to BUilt An Array"
   ]
  },
  {
   "cell_type": "code",
   "execution_count": null,
   "id": "3d81ca99",
   "metadata": {},
   "outputs": [],
   "source": [
    "import numpy as np\n",
    "e=np.arange(6)       # LaST Digit is Exclusicve \n",
    "e"
   ]
  },
  {
   "cell_type": "code",
   "execution_count": null,
   "id": "ab612dd4",
   "metadata": {
    "scrolled": true
   },
   "outputs": [],
   "source": [
    "e=np.arange(220)\n",
    "e"
   ]
  },
  {
   "cell_type": "code",
   "execution_count": null,
   "id": "dd086110",
   "metadata": {},
   "outputs": [],
   "source": [
    "e=np.arange(2,20)   # Range ko Limit krdia \n",
    "e"
   ]
  },
  {
   "cell_type": "code",
   "execution_count": null,
   "id": "f488e249",
   "metadata": {},
   "outputs": [],
   "source": [
    "# Countinue\n",
    "e=np.arange(2,20,2)\n",
    "e"
   ]
  },
  {
   "cell_type": "code",
   "execution_count": null,
   "id": "9aa3b310",
   "metadata": {
    "scrolled": true
   },
   "outputs": [],
   "source": [
    "e=np.arange(3,30,3)\n",
    "e"
   ]
  },
  {
   "cell_type": "code",
   "execution_count": null,
   "id": "55396741",
   "metadata": {},
   "outputs": [],
   "source": [
    "import numpy as np\n",
    "food=np.array([\"Samosa\", \"pakora\", \"briyani\"])\n",
    "food"
   ]
  },
  {
   "cell_type": "code",
   "execution_count": null,
   "id": "3787c741",
   "metadata": {},
   "outputs": [],
   "source": [
    "price=np.array([5,45,25])\n",
    "price"
   ]
  },
  {
   "cell_type": "code",
   "execution_count": null,
   "id": "055829f6",
   "metadata": {},
   "outputs": [],
   "source": [
    "type(price)"
   ]
  },
  {
   "cell_type": "code",
   "execution_count": null,
   "id": "f02989e6",
   "metadata": {},
   "outputs": [],
   "source": [
    "type(food)"
   ]
  },
  {
   "cell_type": "code",
   "execution_count": null,
   "id": "5071d9f0",
   "metadata": {},
   "outputs": [],
   "source": [
    "len(food)"
   ]
  },
  {
   "cell_type": "code",
   "execution_count": null,
   "id": "aca4a365",
   "metadata": {},
   "outputs": [],
   "source": [
    "len(price)"
   ]
  },
  {
   "cell_type": "code",
   "execution_count": null,
   "id": "a544987f",
   "metadata": {},
   "outputs": [],
   "source": [
    "food=np.array([\"Samosa\", \"pakora\", \"briyani\"])\n",
    "food[1]"
   ]
  },
  {
   "cell_type": "code",
   "execution_count": null,
   "id": "3c36d88b",
   "metadata": {},
   "outputs": [],
   "source": [
    "food[2]"
   ]
  },
  {
   "cell_type": "code",
   "execution_count": null,
   "id": "5b71e67c",
   "metadata": {},
   "outputs": [],
   "source": [
    "food[1:2]"
   ]
  },
  {
   "cell_type": "code",
   "execution_count": null,
   "id": "e0db83b0",
   "metadata": {
    "scrolled": true
   },
   "outputs": [],
   "source": [
    "price[0:1]"
   ]
  },
  {
   "cell_type": "code",
   "execution_count": null,
   "id": "6e132b7d",
   "metadata": {
    "scrolled": true
   },
   "outputs": [],
   "source": [
    "food[0:1]"
   ]
  },
  {
   "cell_type": "markdown",
   "id": "04ab044b",
   "metadata": {},
   "source": [
    "# Mean of An Array"
   ]
  },
  {
   "cell_type": "code",
   "execution_count": null,
   "id": "ce62db01",
   "metadata": {
    "scrolled": false
   },
   "outputs": [],
   "source": [
    "price.mean()"
   ]
  },
  {
   "cell_type": "code",
   "execution_count": null,
   "id": "7015eeee",
   "metadata": {},
   "outputs": [],
   "source": [
    "    # Minimum\n",
    "price.min()"
   ]
  },
  {
   "cell_type": "code",
   "execution_count": null,
   "id": "60879742",
   "metadata": {
    "scrolled": true
   },
   "outputs": [],
   "source": [
    "    # Maximum\n",
    "price.max()"
   ]
  },
  {
   "cell_type": "markdown",
   "id": "ba36c2f3",
   "metadata": {},
   "source": [
    "# Range"
   ]
  },
  {
   "cell_type": "code",
   "execution_count": null,
   "id": "addb4fca",
   "metadata": {},
   "outputs": [],
   "source": [
    "np.arange(20)"
   ]
  },
  {
   "cell_type": "code",
   "execution_count": null,
   "id": "a72b9987",
   "metadata": {},
   "outputs": [],
   "source": [
    "np.arange(1,20)"
   ]
  },
  {
   "cell_type": "markdown",
   "id": "451159f0",
   "metadata": {},
   "source": [
    "# Specific Range Interval"
   ]
  },
  {
   "cell_type": "code",
   "execution_count": null,
   "id": "d360e4f3",
   "metadata": {},
   "outputs": [],
   "source": [
    "np.arange(2,20,2)"
   ]
  },
  {
   "cell_type": "code",
   "execution_count": null,
   "id": "7cfc7321",
   "metadata": {},
   "outputs": [],
   "source": [
    "# Table of 3\n",
    "np.arange(3,33,3)"
   ]
  },
  {
   "cell_type": "code",
   "execution_count": null,
   "id": "ca3dca24",
   "metadata": {},
   "outputs": [],
   "source": [
    "np.arange(5,55,5)"
   ]
  },
  {
   "cell_type": "markdown",
   "id": "f4aec596",
   "metadata": {},
   "source": [
    "# Line Space"
   ]
  },
  {
   "cell_type": "code",
   "execution_count": null,
   "id": "f5240c6c",
   "metadata": {},
   "outputs": [],
   "source": [
    "np.linspace(2,20, num=1)"
   ]
  },
  {
   "cell_type": "code",
   "execution_count": null,
   "id": "55805ca3",
   "metadata": {},
   "outputs": [],
   "source": [
    "np.linspace(0,100, num=26)\n",
    "#numbers jitny likhaingay utni values aengin unsbka agay aur peechay wala diffrence same hoga"
   ]
  },
  {
   "cell_type": "markdown",
   "id": "6150da44",
   "metadata": {},
   "source": [
    "# Specify your data type"
   ]
  },
  {
   "cell_type": "code",
   "execution_count": null,
   "id": "b8f01509",
   "metadata": {},
   "outputs": [],
   "source": [
    "np.ones(50, dtype=np.float64)"
   ]
  },
  {
   "cell_type": "code",
   "execution_count": null,
   "id": "fb43e330",
   "metadata": {
    "scrolled": true
   },
   "outputs": [],
   "source": [
    "np.ones(10, dtype=np.float32)"
   ]
  },
  {
   "cell_type": "code",
   "execution_count": null,
   "id": "b367464e",
   "metadata": {},
   "outputs": [],
   "source": [
    "np.ones(20, dtype=np.float32)"
   ]
  },
  {
   "cell_type": "markdown",
   "id": "74020937",
   "metadata": {},
   "source": [
    "# Array Functions"
   ]
  },
  {
   "cell_type": "code",
   "execution_count": null,
   "id": "ff056af4",
   "metadata": {},
   "outputs": [],
   "source": [
    "a=np.array([23,14,14,5,5,65,76,65,353,31])\n",
    "a"
   ]
  },
  {
   "cell_type": "code",
   "execution_count": null,
   "id": "1ab72060",
   "metadata": {
    "scrolled": true
   },
   "outputs": [],
   "source": [
    "a.sort()\n",
    "a"
   ]
  },
  {
   "cell_type": "code",
   "execution_count": null,
   "id": "17e8464e",
   "metadata": {},
   "outputs": [],
   "source": [
    "b=np.array([10.2,32,44.5,24,24,65,23])\n",
    "b"
   ]
  },
  {
   "cell_type": "code",
   "execution_count": null,
   "id": "fd59e6da",
   "metadata": {},
   "outputs": [],
   "source": [
    "c=np.concatenate((a,b))\n",
    "c"
   ]
  },
  {
   "cell_type": "code",
   "execution_count": null,
   "id": "741634a7",
   "metadata": {},
   "outputs": [],
   "source": [
    "c.sort()\n",
    "c"
   ]
  },
  {
   "cell_type": "markdown",
   "id": "5fc91f77",
   "metadata": {},
   "source": [
    "# Covert 1D to 2D"
   ]
  },
  {
   "cell_type": "code",
   "execution_count": null,
   "id": "a5907982",
   "metadata": {},
   "outputs": [],
   "source": [
    "a=np.array([1,23,335,3,1,5,1,6,7,9])\n",
    "a"
   ]
  },
  {
   "cell_type": "code",
   "execution_count": null,
   "id": "e612653a",
   "metadata": {},
   "outputs": [],
   "source": [
    "a.shape"
   ]
  },
  {
   "cell_type": "code",
   "execution_count": null,
   "id": "e2c9d3e5",
   "metadata": {},
   "outputs": [],
   "source": [
    "b=a[np.newaxis,:]\n",
    "b"
   ]
  },
  {
   "cell_type": "code",
   "execution_count": null,
   "id": "366167f0",
   "metadata": {},
   "outputs": [],
   "source": [
    "a.shape"
   ]
  },
  {
   "cell_type": "markdown",
   "id": "35843494",
   "metadata": {},
   "source": [
    "# Markdown Language"
   ]
  },
  {
   "cell_type": "markdown",
   "id": "1c761137",
   "metadata": {},
   "source": [
    "#Main Heading 1 # say aygi , jitnay # zyada hngay heading choti hojygi \n",
    "\n",
    "# Heading\n",
    "## Haeding\n",
    "### Heading\n",
    "#### Heading\n",
    "##### Heading"
   ]
  },
  {
   "cell_type": "markdown",
   "id": "f61b5491",
   "metadata": {},
   "source": [
    "# Block of Code"
   ]
  },
  {
   "cell_type": "markdown",
   "metadata": {},
   "source": [
    "# > + kuch bhi likhnay say block of code bnjyga  "
   ]
  },
  {
   "cell_type": "markdown",
   "id": "c89b2665",
   "metadata": {},
   "source": [
    "> hello"
   ]
  },
  {
   "cell_type": "markdown",
   "id": "4b42cb3c",
   "metadata": {},
   "source": [
    "# Line break"
   ]
  },
  {
   "cell_type": "markdown",
   "id": "431f77b4",
   "metadata": {},
   "source": [
    "-  hello\\\n",
    "-  hello"
   ]
  },
  {
   "cell_type": "markdown",
   "id": "d0f11003",
   "metadata": {},
   "source": [
    "# Bold a text\n",
    "\n",
    "- Double steric on dual sides, __(underscore)__ [2times]\n"
   ]
  },
  {
   "cell_type": "markdown",
   "id": "b67c2048",
   "metadata": {},
   "source": [
    "**hello**\n"
   ]
  },
  {
   "cell_type": "markdown",
   "id": "fc8ba0e0",
   "metadata": {},
   "source": [
    "# italic\n",
    "- Single steric on dual side,_(underscore)_ [1times]\n",
    "\n",
    "*hello*\n"
   ]
  },
  {
   "cell_type": "markdown",
   "id": "abeb94d3",
   "metadata": {},
   "source": [
    "# Bold& Italic \n",
    "\n",
    "- triple steric on both sides\n"
   ]
  },
  {
   "cell_type": "markdown",
   "id": "6ac0769c",
   "metadata": {},
   "source": [
    "***hello***"
   ]
  },
  {
   "cell_type": "markdown",
   "id": "b3c56d24",
   "metadata": {},
   "source": [
    "# placing - in start "
   ]
  },
  {
   "cell_type": "markdown",
   "id": "123e0d81",
   "metadata": {},
   "source": [
    "- bullets points\n",
    "    - sub bullet points\n"
   ]
  },
  {
   "cell_type": "markdown",
   "id": "ae9e6874",
   "metadata": {},
   "source": [
    "# place in start & end --- OR *** OR___"
   ]
  },
  {
   "cell_type": "markdown",
   "id": "3737ee12",
   "metadata": {},
   "source": [
    "# line break\n",
    "---\n",
    "***\n",
    "___"
   ]
  },
  {
   "cell_type": "markdown",
   "id": "747992b5",
   "metadata": {},
   "source": [
    "# Link"
   ]
  },
  {
   "cell_type": "markdown",
   "metadata": {},
   "source": [
    "[link] :(https://www.youtube.com/watch?v=mrG6vNld42s&list=PL9XvIvvVL50HVsu-Ao8NBr0UJSO8O6lBI&index=31)\n"
   ]
  },
  {
   "cell_type": "markdown",
   "id": "d39f6df8",
   "metadata": {},
   "source": [
    "# Image link\n",
    "- image usi folder ma ho , yh url in ()\n"
   ]
  },
  {
   "cell_type": "code",
   "execution_count": null,
   "id": "71d63e06",
   "metadata": {},
   "outputs": [],
   "source": [
    "# ![]()"
   ]
  },
  {
   "cell_type": "markdown",
   "id": "8aeb3929",
   "metadata": {},
   "source": [
    "# Adding table\n",
    "\n",
    "| row|row1|\n",
    "| ---|---|"
   ]
  },
  {
   "cell_type": "markdown",
   "id": "02082090",
   "metadata": {},
   "source": [
    "Table of Content"
   ]
  },
  {
   "cell_type": "markdown",
   "id": "ba6e1451",
   "metadata": {},
   "source": [
    "[heading](heading)"
   ]
  },
  {
   "cell_type": "markdown",
   "id": "6743ded2",
   "metadata": {},
   "source": [
    "# Lecture 11"
   ]
  },
  {
   "cell_type": "markdown",
   "id": "917018ac",
   "metadata": {},
   "source": [
    "# Pandas Library"
   ]
  },
  {
   "cell_type": "markdown",
   "id": "88c93c7f",
   "metadata": {},
   "source": [
    "Why Pandas?\n",
    "we can do \n",
    "- Data Manipulation\n",
    "- Data Analysis"
   ]
  },
  {
   "cell_type": "markdown",
   "id": "75e56b7f",
   "metadata": {},
   "source": [
    "1. import libraries"
   ]
  },
  {
   "cell_type": "code",
   "execution_count": 1,
   "id": "1f6c8dce",
   "metadata": {},
   "outputs": [],
   "source": [
    "import pandas as pd\n",
    "import numpy as np"
   ]
  },
  {
   "cell_type": "code",
   "execution_count": 2,
   "id": "2a2ba1af",
   "metadata": {},
   "outputs": [
    {
     "data": {
      "text/plain": [
       "0     1\n",
       "1     2\n",
       "2     3\n",
       "3     4\n",
       "4     5\n",
       "5     6\n",
       "6     7\n",
       "7     8\n",
       "8     9\n",
       "9    10\n",
       "dtype: int64"
      ]
     },
     "execution_count": 2,
     "metadata": {},
     "output_type": "execute_result"
    }
   ],
   "source": [
    "import pandas as pd\n",
    "import numpy as np\n",
    "# Object Creation\n",
    "a=pd.Series([1,2,3,4,5,6,7,8,9,10])\n",
    "a"
   ]
  },
  {
   "cell_type": "markdown",
   "id": "bc05e64e",
   "metadata": {},
   "source": [
    "- Adding Empty cell"
   ]
  },
  {
   "cell_type": "code",
   "execution_count": 3,
   "id": "335d3d2b",
   "metadata": {},
   "outputs": [
    {
     "data": {
      "text/plain": [
       "0      1.0\n",
       "1      2.0\n",
       "2      3.0\n",
       "3      4.0\n",
       "4      5.0\n",
       "5      NaN\n",
       "6      6.0\n",
       "7      7.0\n",
       "8      8.0\n",
       "9      9.0\n",
       "10    10.0\n",
       "dtype: float64"
      ]
     },
     "execution_count": 3,
     "metadata": {},
     "output_type": "execute_result"
    }
   ],
   "source": [
    "import pandas as pd\n",
    "import numpy as np\n",
    "# Object Creation\n",
    "a=pd.Series([1,2,3,4,5,np.nan,6,7,8,9,10])\n",
    "a"
   ]
  },
  {
   "cell_type": "markdown",
   "id": "f570ff07",
   "metadata": {},
   "source": [
    "- Dates object"
   ]
  },
  {
   "cell_type": "code",
   "execution_count": 8,
   "id": "6f0483b0",
   "metadata": {},
   "outputs": [
    {
     "data": {
      "text/plain": [
       "DatetimeIndex(['2022-01-14', '2022-01-15', '2022-01-16', '2022-01-17',\n",
       "               '2022-01-18', '2022-01-19'],\n",
       "              dtype='datetime64[ns]', freq='D')"
      ]
     },
     "execution_count": 8,
     "metadata": {},
     "output_type": "execute_result"
    }
   ],
   "source": [
    "dates = pd.date_range(\"20220114\", periods=6)\n",
    "dates"
   ]
  },
  {
   "cell_type": "code",
   "execution_count": 12,
   "id": "498724ae",
   "metadata": {},
   "outputs": [
    {
     "data": {
      "text/html": [
       "<div>\n",
       "<style scoped>\n",
       "    .dataframe tbody tr th:only-of-type {\n",
       "        vertical-align: middle;\n",
       "    }\n",
       "\n",
       "    .dataframe tbody tr th {\n",
       "        vertical-align: top;\n",
       "    }\n",
       "\n",
       "    .dataframe thead th {\n",
       "        text-align: right;\n",
       "    }\n",
       "</style>\n",
       "<table border=\"1\" class=\"dataframe\">\n",
       "  <thead>\n",
       "    <tr style=\"text-align: right;\">\n",
       "      <th></th>\n",
       "      <th>B</th>\n",
       "      <th>A</th>\n",
       "      <th>B</th>\n",
       "      <th>A</th>\n",
       "    </tr>\n",
       "  </thead>\n",
       "  <tbody>\n",
       "    <tr>\n",
       "      <th>2022-01-14</th>\n",
       "      <td>0.259792</td>\n",
       "      <td>-1.909191</td>\n",
       "      <td>0.031137</td>\n",
       "      <td>-0.844667</td>\n",
       "    </tr>\n",
       "    <tr>\n",
       "      <th>2022-01-15</th>\n",
       "      <td>0.390116</td>\n",
       "      <td>-0.544267</td>\n",
       "      <td>0.750084</td>\n",
       "      <td>0.653724</td>\n",
       "    </tr>\n",
       "    <tr>\n",
       "      <th>2022-01-16</th>\n",
       "      <td>-2.071502</td>\n",
       "      <td>-0.956443</td>\n",
       "      <td>0.843381</td>\n",
       "      <td>-0.590847</td>\n",
       "    </tr>\n",
       "    <tr>\n",
       "      <th>2022-01-17</th>\n",
       "      <td>-0.125940</td>\n",
       "      <td>0.871271</td>\n",
       "      <td>1.043691</td>\n",
       "      <td>-1.850713</td>\n",
       "    </tr>\n",
       "    <tr>\n",
       "      <th>2022-01-18</th>\n",
       "      <td>0.543405</td>\n",
       "      <td>-0.901061</td>\n",
       "      <td>-1.539842</td>\n",
       "      <td>0.417678</td>\n",
       "    </tr>\n",
       "    <tr>\n",
       "      <th>2022-01-19</th>\n",
       "      <td>0.605631</td>\n",
       "      <td>0.373309</td>\n",
       "      <td>-0.880067</td>\n",
       "      <td>1.418843</td>\n",
       "    </tr>\n",
       "  </tbody>\n",
       "</table>\n",
       "</div>"
      ],
      "text/plain": [
       "                   B         A         B         A\n",
       "2022-01-14  0.259792 -1.909191  0.031137 -0.844667\n",
       "2022-01-15  0.390116 -0.544267  0.750084  0.653724\n",
       "2022-01-16 -2.071502 -0.956443  0.843381 -0.590847\n",
       "2022-01-17 -0.125940  0.871271  1.043691 -1.850713\n",
       "2022-01-18  0.543405 -0.901061 -1.539842  0.417678\n",
       "2022-01-19  0.605631  0.373309 -0.880067  1.418843"
      ]
     },
     "execution_count": 12,
     "metadata": {},
     "output_type": "execute_result"
    }
   ],
   "source": [
    "dates = pd.date_range(\"20220114\", periods=6)\n",
    "dates\n",
    "df= pd.DataFrame(np.random.randn(6,4),index=dates, columns=list(\"BABA\"))  #list names can be changed\n",
    "df"
   ]
  },
  {
   "cell_type": "code",
   "execution_count": 15,
   "id": "7d05c6ae",
   "metadata": {},
   "outputs": [
    {
     "data": {
      "text/html": [
       "<div>\n",
       "<style scoped>\n",
       "    .dataframe tbody tr th:only-of-type {\n",
       "        vertical-align: middle;\n",
       "    }\n",
       "\n",
       "    .dataframe tbody tr th {\n",
       "        vertical-align: top;\n",
       "    }\n",
       "\n",
       "    .dataframe thead th {\n",
       "        text-align: right;\n",
       "    }\n",
       "</style>\n",
       "<table border=\"1\" class=\"dataframe\">\n",
       "  <thead>\n",
       "    <tr style=\"text-align: right;\">\n",
       "      <th></th>\n",
       "      <th>B</th>\n",
       "      <th>A</th>\n",
       "      <th>B</th>\n",
       "      <th>A</th>\n",
       "    </tr>\n",
       "  </thead>\n",
       "  <tbody>\n",
       "    <tr>\n",
       "      <th>2022-01-14</th>\n",
       "      <td>0.259792</td>\n",
       "      <td>-1.909191</td>\n",
       "      <td>0.031137</td>\n",
       "      <td>-0.844667</td>\n",
       "    </tr>\n",
       "    <tr>\n",
       "      <th>2022-01-15</th>\n",
       "      <td>0.390116</td>\n",
       "      <td>-0.544267</td>\n",
       "      <td>0.750084</td>\n",
       "      <td>0.653724</td>\n",
       "    </tr>\n",
       "    <tr>\n",
       "      <th>2022-01-16</th>\n",
       "      <td>-2.071502</td>\n",
       "      <td>-0.956443</td>\n",
       "      <td>0.843381</td>\n",
       "      <td>-0.590847</td>\n",
       "    </tr>\n",
       "    <tr>\n",
       "      <th>2022-01-17</th>\n",
       "      <td>-0.125940</td>\n",
       "      <td>0.871271</td>\n",
       "      <td>1.043691</td>\n",
       "      <td>-1.850713</td>\n",
       "    </tr>\n",
       "    <tr>\n",
       "      <th>2022-01-18</th>\n",
       "      <td>0.543405</td>\n",
       "      <td>-0.901061</td>\n",
       "      <td>-1.539842</td>\n",
       "      <td>0.417678</td>\n",
       "    </tr>\n",
       "  </tbody>\n",
       "</table>\n",
       "</div>"
      ],
      "text/plain": [
       "                   B         A         B         A\n",
       "2022-01-14  0.259792 -1.909191  0.031137 -0.844667\n",
       "2022-01-15  0.390116 -0.544267  0.750084  0.653724\n",
       "2022-01-16 -2.071502 -0.956443  0.843381 -0.590847\n",
       "2022-01-17 -0.125940  0.871271  1.043691 -1.850713\n",
       "2022-01-18  0.543405 -0.901061 -1.539842  0.417678"
      ]
     },
     "execution_count": 15,
     "metadata": {},
     "output_type": "execute_result"
    }
   ],
   "source": [
    "# To view data\n",
    "df.head()"
   ]
  },
  {
   "cell_type": "code",
   "execution_count": 16,
   "id": "de1dd8be",
   "metadata": {},
   "outputs": [
    {
     "data": {
      "text/html": [
       "<div>\n",
       "<style scoped>\n",
       "    .dataframe tbody tr th:only-of-type {\n",
       "        vertical-align: middle;\n",
       "    }\n",
       "\n",
       "    .dataframe tbody tr th {\n",
       "        vertical-align: top;\n",
       "    }\n",
       "\n",
       "    .dataframe thead th {\n",
       "        text-align: right;\n",
       "    }\n",
       "</style>\n",
       "<table border=\"1\" class=\"dataframe\">\n",
       "  <thead>\n",
       "    <tr style=\"text-align: right;\">\n",
       "      <th></th>\n",
       "      <th>B</th>\n",
       "      <th>A</th>\n",
       "      <th>B</th>\n",
       "      <th>A</th>\n",
       "    </tr>\n",
       "  </thead>\n",
       "  <tbody>\n",
       "    <tr>\n",
       "      <th>2022-01-14</th>\n",
       "      <td>0.259792</td>\n",
       "      <td>-1.909191</td>\n",
       "      <td>0.031137</td>\n",
       "      <td>-0.844667</td>\n",
       "    </tr>\n",
       "    <tr>\n",
       "      <th>2022-01-15</th>\n",
       "      <td>0.390116</td>\n",
       "      <td>-0.544267</td>\n",
       "      <td>0.750084</td>\n",
       "      <td>0.653724</td>\n",
       "    </tr>\n",
       "  </tbody>\n",
       "</table>\n",
       "</div>"
      ],
      "text/plain": [
       "                   B         A         B         A\n",
       "2022-01-14  0.259792 -1.909191  0.031137 -0.844667\n",
       "2022-01-15  0.390116 -0.544267  0.750084  0.653724"
      ]
     },
     "execution_count": 16,
     "metadata": {},
     "output_type": "execute_result"
    }
   ],
   "source": [
    "df.head(2)"
   ]
  },
  {
   "cell_type": "code",
   "execution_count": 17,
   "id": "3b18d19b",
   "metadata": {},
   "outputs": [
    {
     "data": {
      "text/html": [
       "<div>\n",
       "<style scoped>\n",
       "    .dataframe tbody tr th:only-of-type {\n",
       "        vertical-align: middle;\n",
       "    }\n",
       "\n",
       "    .dataframe tbody tr th {\n",
       "        vertical-align: top;\n",
       "    }\n",
       "\n",
       "    .dataframe thead th {\n",
       "        text-align: right;\n",
       "    }\n",
       "</style>\n",
       "<table border=\"1\" class=\"dataframe\">\n",
       "  <thead>\n",
       "    <tr style=\"text-align: right;\">\n",
       "      <th></th>\n",
       "      <th>B</th>\n",
       "      <th>A</th>\n",
       "      <th>B</th>\n",
       "      <th>A</th>\n",
       "    </tr>\n",
       "  </thead>\n",
       "  <tbody>\n",
       "    <tr>\n",
       "      <th>2022-01-18</th>\n",
       "      <td>0.543405</td>\n",
       "      <td>-0.901061</td>\n",
       "      <td>-1.539842</td>\n",
       "      <td>0.417678</td>\n",
       "    </tr>\n",
       "    <tr>\n",
       "      <th>2022-01-19</th>\n",
       "      <td>0.605631</td>\n",
       "      <td>0.373309</td>\n",
       "      <td>-0.880067</td>\n",
       "      <td>1.418843</td>\n",
       "    </tr>\n",
       "  </tbody>\n",
       "</table>\n",
       "</div>"
      ],
      "text/plain": [
       "                   B         A         B         A\n",
       "2022-01-18  0.543405 -0.901061 -1.539842  0.417678\n",
       "2022-01-19  0.605631  0.373309 -0.880067  1.418843"
      ]
     },
     "execution_count": 17,
     "metadata": {},
     "output_type": "execute_result"
    }
   ],
   "source": [
    "# last data\n",
    "df.tail(2)"
   ]
  },
  {
   "cell_type": "code",
   "execution_count": 19,
   "id": "0413348a",
   "metadata": {},
   "outputs": [
    {
     "data": {
      "text/plain": [
       "DatetimeIndex(['2022-01-14', '2022-01-15', '2022-01-16', '2022-01-17',\n",
       "               '2022-01-18', '2022-01-19'],\n",
       "              dtype='datetime64[ns]', freq='D')"
      ]
     },
     "execution_count": 19,
     "metadata": {},
     "output_type": "execute_result"
    }
   ],
   "source": [
    "# row ka head \n",
    "df.index"
   ]
  },
  {
   "cell_type": "code",
   "execution_count": 20,
   "id": "032c1223",
   "metadata": {},
   "outputs": [
    {
     "data": {
      "text/html": [
       "<div>\n",
       "<style scoped>\n",
       "    .dataframe tbody tr th:only-of-type {\n",
       "        vertical-align: middle;\n",
       "    }\n",
       "\n",
       "    .dataframe tbody tr th {\n",
       "        vertical-align: top;\n",
       "    }\n",
       "\n",
       "    .dataframe thead th {\n",
       "        text-align: right;\n",
       "    }\n",
       "</style>\n",
       "<table border=\"1\" class=\"dataframe\">\n",
       "  <thead>\n",
       "    <tr style=\"text-align: right;\">\n",
       "      <th></th>\n",
       "      <th>B</th>\n",
       "      <th>A</th>\n",
       "      <th>B</th>\n",
       "      <th>A</th>\n",
       "    </tr>\n",
       "  </thead>\n",
       "  <tbody>\n",
       "    <tr>\n",
       "      <th>count</th>\n",
       "      <td>6.000000</td>\n",
       "      <td>6.000000</td>\n",
       "      <td>6.000000</td>\n",
       "      <td>6.000000</td>\n",
       "    </tr>\n",
       "    <tr>\n",
       "      <th>mean</th>\n",
       "      <td>-0.066416</td>\n",
       "      <td>-0.511064</td>\n",
       "      <td>0.041397</td>\n",
       "      <td>-0.132664</td>\n",
       "    </tr>\n",
       "    <tr>\n",
       "      <th>std</th>\n",
       "      <td>1.016098</td>\n",
       "      <td>0.999929</td>\n",
       "      <td>1.048764</td>\n",
       "      <td>1.182965</td>\n",
       "    </tr>\n",
       "    <tr>\n",
       "      <th>min</th>\n",
       "      <td>-2.071502</td>\n",
       "      <td>-1.909191</td>\n",
       "      <td>-1.539842</td>\n",
       "      <td>-1.850713</td>\n",
       "    </tr>\n",
       "    <tr>\n",
       "      <th>25%</th>\n",
       "      <td>-0.029507</td>\n",
       "      <td>-0.942598</td>\n",
       "      <td>-0.652266</td>\n",
       "      <td>-0.781212</td>\n",
       "    </tr>\n",
       "    <tr>\n",
       "      <th>50%</th>\n",
       "      <td>0.324954</td>\n",
       "      <td>-0.722664</td>\n",
       "      <td>0.390610</td>\n",
       "      <td>-0.086585</td>\n",
       "    </tr>\n",
       "    <tr>\n",
       "      <th>75%</th>\n",
       "      <td>0.505083</td>\n",
       "      <td>0.143915</td>\n",
       "      <td>0.820057</td>\n",
       "      <td>0.594713</td>\n",
       "    </tr>\n",
       "    <tr>\n",
       "      <th>max</th>\n",
       "      <td>0.605631</td>\n",
       "      <td>0.871271</td>\n",
       "      <td>1.043691</td>\n",
       "      <td>1.418843</td>\n",
       "    </tr>\n",
       "  </tbody>\n",
       "</table>\n",
       "</div>"
      ],
      "text/plain": [
       "              B         A         B         A\n",
       "count  6.000000  6.000000  6.000000  6.000000\n",
       "mean  -0.066416 -0.511064  0.041397 -0.132664\n",
       "std    1.016098  0.999929  1.048764  1.182965\n",
       "min   -2.071502 -1.909191 -1.539842 -1.850713\n",
       "25%   -0.029507 -0.942598 -0.652266 -0.781212\n",
       "50%    0.324954 -0.722664  0.390610 -0.086585\n",
       "75%    0.505083  0.143915  0.820057  0.594713\n",
       "max    0.605631  0.871271  1.043691  1.418843"
      ]
     },
     "execution_count": 20,
     "metadata": {},
     "output_type": "execute_result"
    }
   ],
   "source": [
    "df.describe()"
   ]
  },
  {
   "cell_type": "code",
   "execution_count": 21,
   "id": "f038c83d",
   "metadata": {},
   "outputs": [
    {
     "data": {
      "text/plain": [
       "B   -0.066416\n",
       "A   -0.511064\n",
       "B    0.041397\n",
       "A   -0.132664\n",
       "dtype: float64"
      ]
     },
     "execution_count": 21,
     "metadata": {},
     "output_type": "execute_result"
    }
   ],
   "source": [
    "df.mean()"
   ]
  },
  {
   "cell_type": "code",
   "execution_count": 22,
   "id": "369df010",
   "metadata": {},
   "outputs": [
    {
     "data": {
      "text/html": [
       "<div>\n",
       "<style scoped>\n",
       "    .dataframe tbody tr th:only-of-type {\n",
       "        vertical-align: middle;\n",
       "    }\n",
       "\n",
       "    .dataframe tbody tr th {\n",
       "        vertical-align: top;\n",
       "    }\n",
       "\n",
       "    .dataframe thead th {\n",
       "        text-align: right;\n",
       "    }\n",
       "</style>\n",
       "<table border=\"1\" class=\"dataframe\">\n",
       "  <thead>\n",
       "    <tr style=\"text-align: right;\">\n",
       "      <th></th>\n",
       "      <th>2022-01-14</th>\n",
       "      <th>2022-01-15</th>\n",
       "      <th>2022-01-16</th>\n",
       "      <th>2022-01-17</th>\n",
       "      <th>2022-01-18</th>\n",
       "      <th>2022-01-19</th>\n",
       "    </tr>\n",
       "  </thead>\n",
       "  <tbody>\n",
       "    <tr>\n",
       "      <th>B</th>\n",
       "      <td>0.259792</td>\n",
       "      <td>0.390116</td>\n",
       "      <td>-2.071502</td>\n",
       "      <td>-0.125940</td>\n",
       "      <td>0.543405</td>\n",
       "      <td>0.605631</td>\n",
       "    </tr>\n",
       "    <tr>\n",
       "      <th>A</th>\n",
       "      <td>-1.909191</td>\n",
       "      <td>-0.544267</td>\n",
       "      <td>-0.956443</td>\n",
       "      <td>0.871271</td>\n",
       "      <td>-0.901061</td>\n",
       "      <td>0.373309</td>\n",
       "    </tr>\n",
       "    <tr>\n",
       "      <th>B</th>\n",
       "      <td>0.031137</td>\n",
       "      <td>0.750084</td>\n",
       "      <td>0.843381</td>\n",
       "      <td>1.043691</td>\n",
       "      <td>-1.539842</td>\n",
       "      <td>-0.880067</td>\n",
       "    </tr>\n",
       "    <tr>\n",
       "      <th>A</th>\n",
       "      <td>-0.844667</td>\n",
       "      <td>0.653724</td>\n",
       "      <td>-0.590847</td>\n",
       "      <td>-1.850713</td>\n",
       "      <td>0.417678</td>\n",
       "      <td>1.418843</td>\n",
       "    </tr>\n",
       "  </tbody>\n",
       "</table>\n",
       "</div>"
      ],
      "text/plain": [
       "   2022-01-14  2022-01-15  2022-01-16  2022-01-17  2022-01-18  2022-01-19\n",
       "B    0.259792    0.390116   -2.071502   -0.125940    0.543405    0.605631\n",
       "A   -1.909191   -0.544267   -0.956443    0.871271   -0.901061    0.373309\n",
       "B    0.031137    0.750084    0.843381    1.043691   -1.539842   -0.880067\n",
       "A   -0.844667    0.653724   -0.590847   -1.850713    0.417678    1.418843"
      ]
     },
     "execution_count": 22,
     "metadata": {},
     "output_type": "execute_result"
    }
   ],
   "source": [
    "# transpose data, rows into column , column into row\n",
    "df.T"
   ]
  },
  {
   "cell_type": "code",
   "execution_count": 23,
   "id": "75a21f18",
   "metadata": {},
   "outputs": [
    {
     "data": {
      "text/html": [
       "<div>\n",
       "<style scoped>\n",
       "    .dataframe tbody tr th:only-of-type {\n",
       "        vertical-align: middle;\n",
       "    }\n",
       "\n",
       "    .dataframe tbody tr th {\n",
       "        vertical-align: top;\n",
       "    }\n",
       "\n",
       "    .dataframe thead th {\n",
       "        text-align: right;\n",
       "    }\n",
       "</style>\n",
       "<table border=\"1\" class=\"dataframe\">\n",
       "  <thead>\n",
       "    <tr style=\"text-align: right;\">\n",
       "      <th></th>\n",
       "      <th>B</th>\n",
       "      <th>B</th>\n",
       "      <th>A</th>\n",
       "      <th>A</th>\n",
       "    </tr>\n",
       "  </thead>\n",
       "  <tbody>\n",
       "    <tr>\n",
       "      <th>2022-01-14</th>\n",
       "      <td>0.259792</td>\n",
       "      <td>0.031137</td>\n",
       "      <td>-1.909191</td>\n",
       "      <td>-0.844667</td>\n",
       "    </tr>\n",
       "    <tr>\n",
       "      <th>2022-01-15</th>\n",
       "      <td>0.390116</td>\n",
       "      <td>0.750084</td>\n",
       "      <td>-0.544267</td>\n",
       "      <td>0.653724</td>\n",
       "    </tr>\n",
       "    <tr>\n",
       "      <th>2022-01-16</th>\n",
       "      <td>-2.071502</td>\n",
       "      <td>0.843381</td>\n",
       "      <td>-0.956443</td>\n",
       "      <td>-0.590847</td>\n",
       "    </tr>\n",
       "    <tr>\n",
       "      <th>2022-01-17</th>\n",
       "      <td>-0.125940</td>\n",
       "      <td>1.043691</td>\n",
       "      <td>0.871271</td>\n",
       "      <td>-1.850713</td>\n",
       "    </tr>\n",
       "    <tr>\n",
       "      <th>2022-01-18</th>\n",
       "      <td>0.543405</td>\n",
       "      <td>-1.539842</td>\n",
       "      <td>-0.901061</td>\n",
       "      <td>0.417678</td>\n",
       "    </tr>\n",
       "    <tr>\n",
       "      <th>2022-01-19</th>\n",
       "      <td>0.605631</td>\n",
       "      <td>-0.880067</td>\n",
       "      <td>0.373309</td>\n",
       "      <td>1.418843</td>\n",
       "    </tr>\n",
       "  </tbody>\n",
       "</table>\n",
       "</div>"
      ],
      "text/plain": [
       "                   B         B         A         A\n",
       "2022-01-14  0.259792  0.031137 -1.909191 -0.844667\n",
       "2022-01-15  0.390116  0.750084 -0.544267  0.653724\n",
       "2022-01-16 -2.071502  0.843381 -0.956443 -0.590847\n",
       "2022-01-17 -0.125940  1.043691  0.871271 -1.850713\n",
       "2022-01-18  0.543405 -1.539842 -0.901061  0.417678\n",
       "2022-01-19  0.605631 -0.880067  0.373309  1.418843"
      ]
     },
     "execution_count": 23,
     "metadata": {},
     "output_type": "execute_result"
    }
   ],
   "source": [
    "# sorting\n",
    "df.sort_index(axis=1,ascending=False)"
   ]
  },
  {
   "cell_type": "code",
   "execution_count": 24,
   "id": "2f626a3c",
   "metadata": {},
   "outputs": [
    {
     "data": {
      "text/html": [
       "<div>\n",
       "<style scoped>\n",
       "    .dataframe tbody tr th:only-of-type {\n",
       "        vertical-align: middle;\n",
       "    }\n",
       "\n",
       "    .dataframe tbody tr th {\n",
       "        vertical-align: top;\n",
       "    }\n",
       "\n",
       "    .dataframe thead th {\n",
       "        text-align: right;\n",
       "    }\n",
       "</style>\n",
       "<table border=\"1\" class=\"dataframe\">\n",
       "  <thead>\n",
       "    <tr style=\"text-align: right;\">\n",
       "      <th></th>\n",
       "      <th>A</th>\n",
       "      <th>A</th>\n",
       "      <th>B</th>\n",
       "      <th>B</th>\n",
       "    </tr>\n",
       "  </thead>\n",
       "  <tbody>\n",
       "    <tr>\n",
       "      <th>2022-01-14</th>\n",
       "      <td>-1.909191</td>\n",
       "      <td>-0.844667</td>\n",
       "      <td>0.259792</td>\n",
       "      <td>0.031137</td>\n",
       "    </tr>\n",
       "    <tr>\n",
       "      <th>2022-01-15</th>\n",
       "      <td>-0.544267</td>\n",
       "      <td>0.653724</td>\n",
       "      <td>0.390116</td>\n",
       "      <td>0.750084</td>\n",
       "    </tr>\n",
       "    <tr>\n",
       "      <th>2022-01-16</th>\n",
       "      <td>-0.956443</td>\n",
       "      <td>-0.590847</td>\n",
       "      <td>-2.071502</td>\n",
       "      <td>0.843381</td>\n",
       "    </tr>\n",
       "    <tr>\n",
       "      <th>2022-01-17</th>\n",
       "      <td>0.871271</td>\n",
       "      <td>-1.850713</td>\n",
       "      <td>-0.125940</td>\n",
       "      <td>1.043691</td>\n",
       "    </tr>\n",
       "    <tr>\n",
       "      <th>2022-01-18</th>\n",
       "      <td>-0.901061</td>\n",
       "      <td>0.417678</td>\n",
       "      <td>0.543405</td>\n",
       "      <td>-1.539842</td>\n",
       "    </tr>\n",
       "    <tr>\n",
       "      <th>2022-01-19</th>\n",
       "      <td>0.373309</td>\n",
       "      <td>1.418843</td>\n",
       "      <td>0.605631</td>\n",
       "      <td>-0.880067</td>\n",
       "    </tr>\n",
       "  </tbody>\n",
       "</table>\n",
       "</div>"
      ],
      "text/plain": [
       "                   A         A         B         B\n",
       "2022-01-14 -1.909191 -0.844667  0.259792  0.031137\n",
       "2022-01-15 -0.544267  0.653724  0.390116  0.750084\n",
       "2022-01-16 -0.956443 -0.590847 -2.071502  0.843381\n",
       "2022-01-17  0.871271 -1.850713 -0.125940  1.043691\n",
       "2022-01-18 -0.901061  0.417678  0.543405 -1.539842\n",
       "2022-01-19  0.373309  1.418843  0.605631 -0.880067"
      ]
     },
     "execution_count": 24,
     "metadata": {},
     "output_type": "execute_result"
    }
   ],
   "source": [
    "# sorting\n",
    "df.sort_index(axis=1,ascending=True)"
   ]
  },
  {
   "cell_type": "code",
   "execution_count": 25,
   "id": "fae5ea49",
   "metadata": {},
   "outputs": [
    {
     "data": {
      "text/html": [
       "<div>\n",
       "<style scoped>\n",
       "    .dataframe tbody tr th:only-of-type {\n",
       "        vertical-align: middle;\n",
       "    }\n",
       "\n",
       "    .dataframe tbody tr th {\n",
       "        vertical-align: top;\n",
       "    }\n",
       "\n",
       "    .dataframe thead th {\n",
       "        text-align: right;\n",
       "    }\n",
       "</style>\n",
       "<table border=\"1\" class=\"dataframe\">\n",
       "  <thead>\n",
       "    <tr style=\"text-align: right;\">\n",
       "      <th></th>\n",
       "      <th>B</th>\n",
       "      <th>A</th>\n",
       "      <th>B</th>\n",
       "      <th>A</th>\n",
       "    </tr>\n",
       "  </thead>\n",
       "  <tbody>\n",
       "    <tr>\n",
       "      <th>2022-01-14</th>\n",
       "      <td>0.259792</td>\n",
       "      <td>-1.909191</td>\n",
       "      <td>0.031137</td>\n",
       "      <td>-0.844667</td>\n",
       "    </tr>\n",
       "  </tbody>\n",
       "</table>\n",
       "</div>"
      ],
      "text/plain": [
       "                   B         A         B         A\n",
       "2022-01-14  0.259792 -1.909191  0.031137 -0.844667"
      ]
     },
     "execution_count": 25,
     "metadata": {},
     "output_type": "execute_result"
    }
   ],
   "source": [
    "# indexing\n",
    "df[0:1]"
   ]
  },
  {
   "cell_type": "code",
   "execution_count": 26,
   "id": "ea528c38",
   "metadata": {},
   "outputs": [
    {
     "data": {
      "text/html": [
       "<div>\n",
       "<style scoped>\n",
       "    .dataframe tbody tr th:only-of-type {\n",
       "        vertical-align: middle;\n",
       "    }\n",
       "\n",
       "    .dataframe tbody tr th {\n",
       "        vertical-align: top;\n",
       "    }\n",
       "\n",
       "    .dataframe thead th {\n",
       "        text-align: right;\n",
       "    }\n",
       "</style>\n",
       "<table border=\"1\" class=\"dataframe\">\n",
       "  <thead>\n",
       "    <tr style=\"text-align: right;\">\n",
       "      <th></th>\n",
       "      <th>B</th>\n",
       "      <th>A</th>\n",
       "      <th>B</th>\n",
       "      <th>A</th>\n",
       "    </tr>\n",
       "  </thead>\n",
       "  <tbody>\n",
       "    <tr>\n",
       "      <th>2022-01-14</th>\n",
       "      <td>0.259792</td>\n",
       "      <td>-1.909191</td>\n",
       "      <td>0.031137</td>\n",
       "      <td>-0.844667</td>\n",
       "    </tr>\n",
       "    <tr>\n",
       "      <th>2022-01-15</th>\n",
       "      <td>0.390116</td>\n",
       "      <td>-0.544267</td>\n",
       "      <td>0.750084</td>\n",
       "      <td>0.653724</td>\n",
       "    </tr>\n",
       "  </tbody>\n",
       "</table>\n",
       "</div>"
      ],
      "text/plain": [
       "                   B         A         B         A\n",
       "2022-01-14  0.259792 -1.909191  0.031137 -0.844667\n",
       "2022-01-15  0.390116 -0.544267  0.750084  0.653724"
      ]
     },
     "execution_count": 26,
     "metadata": {},
     "output_type": "execute_result"
    }
   ],
   "source": [
    "df[0:2]"
   ]
  },
  {
   "cell_type": "code",
   "execution_count": 30,
   "id": "ed64db48",
   "metadata": {},
   "outputs": [
    {
     "data": {
      "text/html": [
       "<div>\n",
       "<style scoped>\n",
       "    .dataframe tbody tr th:only-of-type {\n",
       "        vertical-align: middle;\n",
       "    }\n",
       "\n",
       "    .dataframe tbody tr th {\n",
       "        vertical-align: top;\n",
       "    }\n",
       "\n",
       "    .dataframe thead th {\n",
       "        text-align: right;\n",
       "    }\n",
       "</style>\n",
       "<table border=\"1\" class=\"dataframe\">\n",
       "  <thead>\n",
       "    <tr style=\"text-align: right;\">\n",
       "      <th></th>\n",
       "      <th>A</th>\n",
       "      <th>A</th>\n",
       "      <th>B</th>\n",
       "      <th>B</th>\n",
       "    </tr>\n",
       "  </thead>\n",
       "  <tbody>\n",
       "    <tr>\n",
       "      <th>2022-01-14</th>\n",
       "      <td>-1.909191</td>\n",
       "      <td>-0.844667</td>\n",
       "      <td>0.259792</td>\n",
       "      <td>0.031137</td>\n",
       "    </tr>\n",
       "    <tr>\n",
       "      <th>2022-01-15</th>\n",
       "      <td>-0.544267</td>\n",
       "      <td>0.653724</td>\n",
       "      <td>0.390116</td>\n",
       "      <td>0.750084</td>\n",
       "    </tr>\n",
       "    <tr>\n",
       "      <th>2022-01-16</th>\n",
       "      <td>-0.956443</td>\n",
       "      <td>-0.590847</td>\n",
       "      <td>-2.071502</td>\n",
       "      <td>0.843381</td>\n",
       "    </tr>\n",
       "    <tr>\n",
       "      <th>2022-01-17</th>\n",
       "      <td>0.871271</td>\n",
       "      <td>-1.850713</td>\n",
       "      <td>-0.125940</td>\n",
       "      <td>1.043691</td>\n",
       "    </tr>\n",
       "    <tr>\n",
       "      <th>2022-01-18</th>\n",
       "      <td>-0.901061</td>\n",
       "      <td>0.417678</td>\n",
       "      <td>0.543405</td>\n",
       "      <td>-1.539842</td>\n",
       "    </tr>\n",
       "    <tr>\n",
       "      <th>2022-01-19</th>\n",
       "      <td>0.373309</td>\n",
       "      <td>1.418843</td>\n",
       "      <td>0.605631</td>\n",
       "      <td>-0.880067</td>\n",
       "    </tr>\n",
       "  </tbody>\n",
       "</table>\n",
       "</div>"
      ],
      "text/plain": [
       "                   A         A         B         B\n",
       "2022-01-14 -1.909191 -0.844667  0.259792  0.031137\n",
       "2022-01-15 -0.544267  0.653724  0.390116  0.750084\n",
       "2022-01-16 -0.956443 -0.590847 -2.071502  0.843381\n",
       "2022-01-17  0.871271 -1.850713 -0.125940  1.043691\n",
       "2022-01-18 -0.901061  0.417678  0.543405 -1.539842\n",
       "2022-01-19  0.373309  1.418843  0.605631 -0.880067"
      ]
     },
     "execution_count": 30,
     "metadata": {},
     "output_type": "execute_result"
    }
   ],
   "source": [
    "df.loc [:,[\"A\",\"B\"]]"
   ]
  },
  {
   "cell_type": "code",
   "execution_count": 31,
   "id": "911f847d",
   "metadata": {},
   "outputs": [
    {
     "data": {
      "text/html": [
       "<div>\n",
       "<style scoped>\n",
       "    .dataframe tbody tr th:only-of-type {\n",
       "        vertical-align: middle;\n",
       "    }\n",
       "\n",
       "    .dataframe tbody tr th {\n",
       "        vertical-align: top;\n",
       "    }\n",
       "\n",
       "    .dataframe thead th {\n",
       "        text-align: right;\n",
       "    }\n",
       "</style>\n",
       "<table border=\"1\" class=\"dataframe\">\n",
       "  <thead>\n",
       "    <tr style=\"text-align: right;\">\n",
       "      <th></th>\n",
       "      <th>A</th>\n",
       "      <th>A</th>\n",
       "    </tr>\n",
       "  </thead>\n",
       "  <tbody>\n",
       "    <tr>\n",
       "      <th>2022-01-14</th>\n",
       "      <td>-1.909191</td>\n",
       "      <td>-0.844667</td>\n",
       "    </tr>\n",
       "    <tr>\n",
       "      <th>2022-01-15</th>\n",
       "      <td>-0.544267</td>\n",
       "      <td>0.653724</td>\n",
       "    </tr>\n",
       "    <tr>\n",
       "      <th>2022-01-16</th>\n",
       "      <td>-0.956443</td>\n",
       "      <td>-0.590847</td>\n",
       "    </tr>\n",
       "  </tbody>\n",
       "</table>\n",
       "</div>"
      ],
      "text/plain": [
       "                   A         A\n",
       "2022-01-14 -1.909191 -0.844667\n",
       "2022-01-15 -0.544267  0.653724\n",
       "2022-01-16 -0.956443 -0.590847"
      ]
     },
     "execution_count": 31,
     "metadata": {},
     "output_type": "execute_result"
    }
   ],
   "source": [
    "df.loc[\"20220114\":\"20220116\",[\"A\"]]"
   ]
  },
  {
   "cell_type": "code",
   "execution_count": 34,
   "id": "734d9b45",
   "metadata": {},
   "outputs": [
    {
     "data": {
      "text/plain": [
       "A   -1.909191\n",
       "A   -0.844667\n",
       "Name: 2022-01-14 00:00:00, dtype: float64"
      ]
     },
     "execution_count": 34,
     "metadata": {},
     "output_type": "execute_result"
    }
   ],
   "source": [
    "df.at[dates[0],\"A\"]"
   ]
  },
  {
   "cell_type": "code",
   "execution_count": 39,
   "id": "919c4087",
   "metadata": {},
   "outputs": [
    {
     "data": {
      "text/html": [
       "<div>\n",
       "<style scoped>\n",
       "    .dataframe tbody tr th:only-of-type {\n",
       "        vertical-align: middle;\n",
       "    }\n",
       "\n",
       "    .dataframe tbody tr th {\n",
       "        vertical-align: top;\n",
       "    }\n",
       "\n",
       "    .dataframe thead th {\n",
       "        text-align: right;\n",
       "    }\n",
       "</style>\n",
       "<table border=\"1\" class=\"dataframe\">\n",
       "  <thead>\n",
       "    <tr style=\"text-align: right;\">\n",
       "      <th></th>\n",
       "      <th>B</th>\n",
       "      <th>A</th>\n",
       "      <th>B</th>\n",
       "      <th>A</th>\n",
       "    </tr>\n",
       "  </thead>\n",
       "  <tbody>\n",
       "    <tr>\n",
       "      <th>2022-01-14</th>\n",
       "      <td>0.259792</td>\n",
       "      <td>NaN</td>\n",
       "      <td>0.031137</td>\n",
       "      <td>NaN</td>\n",
       "    </tr>\n",
       "    <tr>\n",
       "      <th>2022-01-15</th>\n",
       "      <td>0.390116</td>\n",
       "      <td>NaN</td>\n",
       "      <td>0.750084</td>\n",
       "      <td>0.653724</td>\n",
       "    </tr>\n",
       "    <tr>\n",
       "      <th>2022-01-16</th>\n",
       "      <td>NaN</td>\n",
       "      <td>NaN</td>\n",
       "      <td>0.843381</td>\n",
       "      <td>NaN</td>\n",
       "    </tr>\n",
       "    <tr>\n",
       "      <th>2022-01-17</th>\n",
       "      <td>NaN</td>\n",
       "      <td>0.871271</td>\n",
       "      <td>1.043691</td>\n",
       "      <td>NaN</td>\n",
       "    </tr>\n",
       "    <tr>\n",
       "      <th>2022-01-18</th>\n",
       "      <td>0.543405</td>\n",
       "      <td>NaN</td>\n",
       "      <td>NaN</td>\n",
       "      <td>0.417678</td>\n",
       "    </tr>\n",
       "    <tr>\n",
       "      <th>2022-01-19</th>\n",
       "      <td>0.605631</td>\n",
       "      <td>0.373309</td>\n",
       "      <td>NaN</td>\n",
       "      <td>1.418843</td>\n",
       "    </tr>\n",
       "  </tbody>\n",
       "</table>\n",
       "</div>"
      ],
      "text/plain": [
       "                   B         A         B         A\n",
       "2022-01-14  0.259792       NaN  0.031137       NaN\n",
       "2022-01-15  0.390116       NaN  0.750084  0.653724\n",
       "2022-01-16       NaN       NaN  0.843381       NaN\n",
       "2022-01-17       NaN  0.871271  1.043691       NaN\n",
       "2022-01-18  0.543405       NaN       NaN  0.417678\n",
       "2022-01-19  0.605631  0.373309       NaN  1.418843"
      ]
     },
     "execution_count": 39,
     "metadata": {},
     "output_type": "execute_result"
    }
   ],
   "source": [
    "# Bolean Operator\n",
    "df [ df > 0 ]\n",
    "# Nan is empty"
   ]
  },
  {
   "cell_type": "markdown",
   "id": "ccc329f3",
   "metadata": {},
   "source": [
    "# plots from Foa data sets"
   ]
  },
  {
   "cell_type": "markdown",
   "id": "4ee78197",
   "metadata": {},
   "source": [
    "### Percentage of Pakistan population using at least basic drinking water & basic sanitation services"
   ]
  },
  {
   "cell_type": "code",
   "execution_count": 40,
   "id": "8fe19530",
   "metadata": {},
   "outputs": [
    {
     "data": {
      "image/png": "[encoded data removed]",
      "text/plain": [
       "<Figure size 936x720 with 1 Axes>"
      ]
     },
     "metadata": {
      "needs_background": "light"
     },
     "output_type": "display_data"
    }
   ],
   "source": [
    "# IMPORTING lIBRARIES\n",
    "import pandas as pd\n",
    "import seaborn as sns\n",
    "import matplotlib.pyplot as plt\n",
    "import plotly.express as px\n",
    "# IMPORTING DATA SET\n",
    "food=pd.read_csv(\"pak_food_data.csv\")\n",
    "#RESIZING\n",
    "plt.figure(figsize=(13,10))\n",
    "#PLOTING\n",
    "sns.barplot(x=\"Item\",y=\"Value_in_%\",hue=\"Year\",data=food )\n",
    "#placing Tittle\n",
    "plt.title(\"Percentage of Pakistan population using at least basic drinking water & basic sanitation services \")\n",
    "plt.show()"
   ]
  },
  {
   "cell_type": "code",
   "execution_count": 41,
   "id": "3d3dfb10",
   "metadata": {},
   "outputs": [
    {
     "data": {
      "image/png": "[encoded data removed]",
      "text/plain": [
       "<Figure size 936x720 with 1 Axes>"
      ]
     },
     "metadata": {
      "needs_background": "light"
     },
     "output_type": "display_data"
    }
   ],
   "source": [
    "# IMPORTING lIBRARIES\n",
    "import pandas as pd\n",
    "import seaborn as sns\n",
    "import matplotlib.pyplot as plt\n",
    "# IMPORTING DATA SET\n",
    "food=pd.read_csv(\"pak_food_data.csv\")\n",
    "#RESIZING\n",
    "plt.figure(figsize=(13,10))\n",
    "#Adding Palette\n",
    "sns.barplot(x=\"Year\",y=\"Value_in_%\",hue=\"Item\",data=food )\n",
    "#placing Tittle\n",
    "plt.title(\"Percentage of Pakistan population using at least basic drinking water & basic sanitation services \")\n",
    "# Adding Limit\n",
    "plt.ylim(10)\n",
    "plt.show()"
   ]
  },
  {
   "cell_type": "markdown",
   "id": "7baae038",
   "metadata": {},
   "source": [
    "- Boxenplot"
   ]
  },
  {
   "cell_type": "code",
   "execution_count": 42,
   "id": "126fb0bc",
   "metadata": {},
   "outputs": [
    {
     "data": {
      "image/png": "[encoded data removed]",
      "text/plain": [
       "<Figure size 936x720 with 1 Axes>"
      ]
     },
     "metadata": {
      "needs_background": "light"
     },
     "output_type": "display_data"
    }
   ],
   "source": [
    "# IMPORTING lIBRARIES\n",
    "import pandas as pd\n",
    "import seaborn as sns\n",
    "import matplotlib.pyplot as plt\n",
    "# IMPORTING DATA SET\n",
    "food=pd.read_csv(\"pak_food_data.csv\")\n",
    "#RESIZING\n",
    "plt.figure(figsize=(13,10))\n",
    "#PLOTING\n",
    "sns.boxenplot(x=\"Item\",y=\"Value_in_%\",data=food )\n",
    "#placing Tittle\n",
    "plt.title(\"Percentage of Pakistan population using at least basic drinking water & basic sanitation services \")\n",
    "plt.show()"
   ]
  },
  {
   "cell_type": "markdown",
   "id": "38cbbaef",
   "metadata": {},
   "source": [
    "- violinplot"
   ]
  },
  {
   "cell_type": "code",
   "execution_count": 43,
   "id": "1281a796",
   "metadata": {},
   "outputs": [
    {
     "data": {
      "image/png": "[encoded data removed]",
      "text/plain": [
       "<Figure size 936x720 with 1 Axes>"
      ]
     },
     "metadata": {
      "needs_background": "light"
     },
     "output_type": "display_data"
    }
   ],
   "source": [
    "# IMPORTING lIBRARIES\n",
    "import pandas as pd\n",
    "import numpy as np\n",
    "import seaborn as sns\n",
    "import matplotlib.pyplot as plt\n",
    "# IMPORTING DATA SET\n",
    "food=pd.read_csv(\"pak_food_data.csv\")\n",
    "\n",
    "#RESIZING\n",
    "plt.figure(figsize=(13,10))\n",
    "#PLOTING\n",
    "sns.violinplot(x=\"Value_in_%\",data=food )\n",
    "#placing Tittle\n",
    "plt.title(\"Percentage of Pakistan population using at least basic drinking water & basic sanitation services \")\n",
    "plt.show()"
   ]
  },
  {
   "cell_type": "markdown",
   "id": "e7d6794f",
   "metadata": {},
   "source": [
    "- Adding Color"
   ]
  },
  {
   "cell_type": "code",
   "execution_count": 44,
   "id": "a7183218",
   "metadata": {},
   "outputs": [
    {
     "data": {
      "image/png": "[encoded data removed]",
      "text/plain": [
       "<Figure size 936x720 with 1 Axes>"
      ]
     },
     "metadata": {
      "needs_background": "light"
     },
     "output_type": "display_data"
    }
   ],
   "source": [
    "# IMPORTING lIBRARIES\n",
    "import pandas as pd\n",
    "import seaborn as sns\n",
    "import matplotlib.pyplot as plt\n",
    "# IMPORTING DATA SET\n",
    "food=pd.read_csv(\"pak_food_data.csv\")\n",
    "#RESIZING\n",
    "plt.figure(figsize=(13,10))\n",
    "#PLOTING\n",
    "sns.barplot(x=\"Item\",y=\"Value_in_%\",hue=\"Year\",color=\"red\",data=food )\n",
    "#placing Tittle\n",
    "plt.title(\"Percentage of Pakistan population using at least basic drinking water & basic sanitation services \")\n",
    "# Adding Limit\n",
    "plt.ylim(10)\n",
    "plt.show()"
   ]
  },
  {
   "cell_type": "markdown",
   "id": "0c6bb2f2",
   "metadata": {},
   "source": [
    "- Color codes"
   ]
  },
  {
   "cell_type": "code",
   "execution_count": 45,
   "id": "c5c2b143",
   "metadata": {},
   "outputs": [
    {
     "data": {
      "image/png": "[encoded data removed]",
      "text/plain": [
       "<Figure size 936x720 with 1 Axes>"
      ]
     },
     "metadata": {
      "needs_background": "light"
     },
     "output_type": "display_data"
    }
   ],
   "source": [
    "# IMPORTING lIBRARIES\n",
    "import pandas as pd\n",
    "import seaborn as sns\n",
    "import matplotlib.pyplot as plt\n",
    "# IMPORTING DATA SET\n",
    "food=pd.read_csv(\"pak_food_data.csv\")\n",
    "#RESIZING\n",
    "plt.figure(figsize=(13,10))\n",
    "#PLOTING\n",
    "sns.barplot(x=\"Item\",y=\"Value_in_%\",hue=\"Year\",color=\"#1fc4de\",data=food )\n",
    "#placing Tittle\n",
    "plt.title(\"Percentage of Pakistan population using at least basic drinking water & basic sanitation services \")\n",
    "# Adding Limit\n",
    "plt.ylim(10)\n",
    "plt.show()"
   ]
  },
  {
   "cell_type": "markdown",
   "id": "683d3307",
   "metadata": {},
   "source": [
    "- Adding palette "
   ]
  },
  {
   "cell_type": "code",
   "execution_count": 47,
   "id": "74ad2d45",
   "metadata": {},
   "outputs": [
    {
     "data": {
      "image/png": "[encoded data removed]",
      "text/plain": [
       "<Figure size 936x720 with 1 Axes>"
      ]
     },
     "metadata": {
      "needs_background": "light"
     },
     "output_type": "display_data"
    }
   ],
   "source": [
    "# IMPORTING lIBRARIES\n",
    "import pandas as pd\n",
    "import seaborn as sns\n",
    "import matplotlib.pyplot as plt\n",
    "# IMPORTING DATA SET\n",
    "food=pd.read_csv(\"pak_food_data.csv\")\n",
    "#RESIZING\n",
    "plt.figure(figsize=(13,10))\n",
    "#Adding Palette\n",
    "sns.barplot(x=\"Item\",y=\"Value_in_%\",hue=\"Year\", palette =\"dark\",data=food )\n",
    "#placing Tittle\n",
    "plt.title(\"Percentage of Pakistan population using at least basic drinking water & basic sanitation services \")\n",
    "# Adding Limit\n",
    "plt.ylim(10)\n",
    "plt.show()"
   ]
  },
  {
   "cell_type": "markdown",
   "id": "6f5c88ce",
   "metadata": {},
   "source": [
    "- Adding Saturation"
   ]
  },
  {
   "cell_type": "code",
   "execution_count": 48,
   "id": "492afe07",
   "metadata": {},
   "outputs": [
    {
     "data": {
      "image/png": "[encoded data removed]",
      "text/plain": [
       "<Figure size 936x720 with 1 Axes>"
      ]
     },
     "metadata": {
      "needs_background": "light"
     },
     "output_type": "display_data"
    }
   ],
   "source": [
    "# IMPORTING lIBRARIES\n",
    "import pandas as pd\n",
    "import seaborn as sns\n",
    "import matplotlib.pyplot as plt\n",
    "# IMPORTING DATA SET\n",
    "food=pd.read_csv(\"pak_food_data.csv\")\n",
    "#RESIZING\n",
    "plt.figure(figsize=(13,10))\n",
    "#Adding Palette\n",
    "sns.barplot(x=\"Item\",y=\"Value_in_%\",hue=\"Year\", palette =\"dark\", saturation=0.5,data=food )\n",
    "#placing Tittle\n",
    "plt.title(\"Percentage of Pakistan population using at least basic drinking water & basic sanitation services \")\n",
    "# Adding Limit\n",
    "plt.ylim(10)\n",
    "plt.show()"
   ]
  },
  {
   "cell_type": "markdown",
   "id": "2bc96eaf",
   "metadata": {},
   "source": [
    "- Edge Colour"
   ]
  },
  {
   "cell_type": "code",
   "execution_count": 49,
   "id": "2fa0dea4",
   "metadata": {},
   "outputs": [
    {
     "data": {
      "image/png": "[encoded data removed]",
      "text/plain": [
       "<Figure size 936x720 with 1 Axes>"
      ]
     },
     "metadata": {
      "needs_background": "light"
     },
     "output_type": "display_data"
    }
   ],
   "source": [
    "# IMPORTING lIBRARIES\n",
    "import pandas as pd\n",
    "import seaborn as sns\n",
    "import matplotlib.pyplot as plt\n",
    "# IMPORTING DATA SET\n",
    "food=pd.read_csv(\"pak_food_data.csv\")\n",
    "#RESIZING\n",
    "plt.figure(figsize=(13,10))\n",
    "#PLOTING\n",
    "sns.barplot(x=\"Item\",y=\"Value_in_%\",hue=\"Year\",edgecolor=\".4\",data=food )\n",
    "#placing Tittle\n",
    "plt.title(\"Percentage of Pakistan population using at least basic drinking water & basic sanitation services \")\n",
    "plt.show()"
   ]
  },
  {
   "cell_type": "markdown",
   "id": "69ca59a2",
   "metadata": {},
   "source": [
    "# Pakistan , India , Brazil Annualy Sugar_cane producer prices "
   ]
  },
  {
   "cell_type": "code",
   "execution_count": 51,
   "id": "c4d0db73",
   "metadata": {},
   "outputs": [
    {
     "data": {
      "text/html": [
       "<div>\n",
       "<style scoped>\n",
       "    .dataframe tbody tr th:only-of-type {\n",
       "        vertical-align: middle;\n",
       "    }\n",
       "\n",
       "    .dataframe tbody tr th {\n",
       "        vertical-align: top;\n",
       "    }\n",
       "\n",
       "    .dataframe thead th {\n",
       "        text-align: right;\n",
       "    }\n",
       "</style>\n",
       "<table border=\"1\" class=\"dataframe\">\n",
       "  <thead>\n",
       "    <tr style=\"text-align: right;\">\n",
       "      <th></th>\n",
       "      <th>Domain Code</th>\n",
       "      <th>Domain</th>\n",
       "      <th>Area Code</th>\n",
       "      <th>Area</th>\n",
       "      <th>Element Code</th>\n",
       "      <th>Element</th>\n",
       "      <th>Item Code</th>\n",
       "      <th>Item</th>\n",
       "      <th>Year Code</th>\n",
       "      <th>Year</th>\n",
       "      <th>Months Code</th>\n",
       "      <th>Months</th>\n",
       "      <th>Unit</th>\n",
       "      <th>Prices_in_USD/tonne</th>\n",
       "      <th>Flag</th>\n",
       "      <th>Flag Description</th>\n",
       "    </tr>\n",
       "  </thead>\n",
       "  <tbody>\n",
       "    <tr>\n",
       "      <th>0</th>\n",
       "      <td>PP</td>\n",
       "      <td>Producer Prices</td>\n",
       "      <td>100</td>\n",
       "      <td>India</td>\n",
       "      <td>5532</td>\n",
       "      <td>Producer Price (USD/tonne)</td>\n",
       "      <td>156</td>\n",
       "      <td>Sugar cane</td>\n",
       "      <td>1995</td>\n",
       "      <td>1995</td>\n",
       "      <td>7021</td>\n",
       "      <td>Annual value</td>\n",
       "      <td>USD</td>\n",
       "      <td>23</td>\n",
       "      <td>NaN</td>\n",
       "      <td>Official data</td>\n",
       "    </tr>\n",
       "    <tr>\n",
       "      <th>1</th>\n",
       "      <td>PP</td>\n",
       "      <td>Producer Prices</td>\n",
       "      <td>21</td>\n",
       "      <td>Brazil</td>\n",
       "      <td>5532</td>\n",
       "      <td>Producer Price (USD/tonne)</td>\n",
       "      <td>156</td>\n",
       "      <td>Sugar cane</td>\n",
       "      <td>1995</td>\n",
       "      <td>1995</td>\n",
       "      <td>7021</td>\n",
       "      <td>Annual value</td>\n",
       "      <td>USD</td>\n",
       "      <td>14</td>\n",
       "      <td>NaN</td>\n",
       "      <td>Official data</td>\n",
       "    </tr>\n",
       "    <tr>\n",
       "      <th>2</th>\n",
       "      <td>PP</td>\n",
       "      <td>Producer Prices</td>\n",
       "      <td>165</td>\n",
       "      <td>Pakistan</td>\n",
       "      <td>5532</td>\n",
       "      <td>Producer Price (USD/tonne)</td>\n",
       "      <td>156</td>\n",
       "      <td>Sugar cane</td>\n",
       "      <td>1995</td>\n",
       "      <td>1995</td>\n",
       "      <td>7021</td>\n",
       "      <td>Annual value</td>\n",
       "      <td>USD</td>\n",
       "      <td>16</td>\n",
       "      <td>NaN</td>\n",
       "      <td>Official data</td>\n",
       "    </tr>\n",
       "    <tr>\n",
       "      <th>3</th>\n",
       "      <td>PP</td>\n",
       "      <td>Producer Prices</td>\n",
       "      <td>165</td>\n",
       "      <td>Pakistan</td>\n",
       "      <td>5532</td>\n",
       "      <td>Producer Price (USD/tonne)</td>\n",
       "      <td>156</td>\n",
       "      <td>Sugar cane</td>\n",
       "      <td>1996</td>\n",
       "      <td>1996</td>\n",
       "      <td>7021</td>\n",
       "      <td>Annual value</td>\n",
       "      <td>USD</td>\n",
       "      <td>15</td>\n",
       "      <td>NaN</td>\n",
       "      <td>Official data</td>\n",
       "    </tr>\n",
       "    <tr>\n",
       "      <th>4</th>\n",
       "      <td>PP</td>\n",
       "      <td>Producer Prices</td>\n",
       "      <td>21</td>\n",
       "      <td>Brazil</td>\n",
       "      <td>5532</td>\n",
       "      <td>Producer Price (USD/tonne)</td>\n",
       "      <td>156</td>\n",
       "      <td>Sugar cane</td>\n",
       "      <td>1996</td>\n",
       "      <td>1996</td>\n",
       "      <td>7021</td>\n",
       "      <td>Annual value</td>\n",
       "      <td>USD</td>\n",
       "      <td>15</td>\n",
       "      <td>NaN</td>\n",
       "      <td>Official data</td>\n",
       "    </tr>\n",
       "  </tbody>\n",
       "</table>\n",
       "</div>"
      ],
      "text/plain": [
       "  Domain Code           Domain  Area Code      Area  Element Code  \\\n",
       "0          PP  Producer Prices        100     India          5532   \n",
       "1          PP  Producer Prices         21    Brazil          5532   \n",
       "2          PP  Producer Prices        165  Pakistan          5532   \n",
       "3          PP  Producer Prices        165  Pakistan          5532   \n",
       "4          PP  Producer Prices         21    Brazil          5532   \n",
       "\n",
       "                      Element  Item Code        Item  Year Code  Year  \\\n",
       "0  Producer Price (USD/tonne)        156  Sugar cane       1995  1995   \n",
       "1  Producer Price (USD/tonne)        156  Sugar cane       1995  1995   \n",
       "2  Producer Price (USD/tonne)        156  Sugar cane       1995  1995   \n",
       "3  Producer Price (USD/tonne)        156  Sugar cane       1996  1996   \n",
       "4  Producer Price (USD/tonne)        156  Sugar cane       1996  1996   \n",
       "\n",
       "   Months Code        Months Unit  Prices_in_USD/tonne  Flag Flag Description  \n",
       "0         7021  Annual value  USD                   23   NaN    Official data  \n",
       "1         7021  Annual value  USD                   14   NaN    Official data  \n",
       "2         7021  Annual value  USD                   16   NaN    Official data  \n",
       "3         7021  Annual value  USD                   15   NaN    Official data  \n",
       "4         7021  Annual value  USD                   15   NaN    Official data  "
      ]
     },
     "execution_count": 51,
     "metadata": {},
     "output_type": "execute_result"
    }
   ],
   "source": [
    "import pandas as pd\n",
    "import seaborn as sns\n",
    "import matplotlib.pyplot as plt\n",
    "sugar_cane=pd.read_csv(\"Sugar Cane.csv\")\n",
    "sugar_cane.head(5)\n"
   ]
  },
  {
   "cell_type": "code",
   "execution_count": 50,
   "id": "9a386a8b",
   "metadata": {},
   "outputs": [
    {
     "data": {
      "text/plain": [
       "(5.0, 24.5)"
      ]
     },
     "execution_count": 50,
     "metadata": {},
     "output_type": "execute_result"
    },
    {
     "data": {
      "image/png": "[encoded data removed]",
      "text/plain": [
       "<Figure size 720x720 with 1 Axes>"
      ]
     },
     "metadata": {
      "needs_background": "light"
     },
     "output_type": "display_data"
    }
   ],
   "source": [
    "from numpy import floor_divide\n",
    "from numpy import floor_divide\n",
    "import pandas as pd\n",
    "import seaborn as sns\n",
    "import matplotlib.pyplot as plt\n",
    "sugar_cane=pd.read_csv(\"Sugar Cane.csv\")\n",
    "plt.figure(figsize=(10,10))\n",
    "sns.barplot(x=\"Year\",y=\"Prices_in_USD/tonne\",hue=\"Area\",data=sugar_cane )\n",
    "plt.title(\"Pakistan , India , Brazil Annualy Sugar_cane producer prices \")\n",
    "plt.xlim(5)"
   ]
  },
  {
   "cell_type": "code",
   "execution_count": 52,
   "id": "c11c3e5f",
   "metadata": {},
   "outputs": [
    {
     "data": {
      "text/html": [
       "<div>\n",
       "<style scoped>\n",
       "    .dataframe tbody tr th:only-of-type {\n",
       "        vertical-align: middle;\n",
       "    }\n",
       "\n",
       "    .dataframe tbody tr th {\n",
       "        vertical-align: top;\n",
       "    }\n",
       "\n",
       "    .dataframe thead th {\n",
       "        text-align: right;\n",
       "    }\n",
       "</style>\n",
       "<table border=\"1\" class=\"dataframe\">\n",
       "  <thead>\n",
       "    <tr style=\"text-align: right;\">\n",
       "      <th></th>\n",
       "      <th>Domain</th>\n",
       "      <th>Area Code</th>\n",
       "      <th>Area</th>\n",
       "      <th>Element Code</th>\n",
       "      <th>Element</th>\n",
       "      <th>Item</th>\n",
       "      <th>Year Code</th>\n",
       "      <th>Year</th>\n",
       "      <th>Months Code</th>\n",
       "      <th>Months</th>\n",
       "      <th>Unit</th>\n",
       "      <th>Prices_in_USD/tonne</th>\n",
       "      <th>Flag Description</th>\n",
       "    </tr>\n",
       "  </thead>\n",
       "  <tbody>\n",
       "    <tr>\n",
       "      <th>0</th>\n",
       "      <td>Producer Prices</td>\n",
       "      <td>100</td>\n",
       "      <td>India</td>\n",
       "      <td>5532</td>\n",
       "      <td>Producer Price (USD/tonne)</td>\n",
       "      <td>Sugar cane</td>\n",
       "      <td>1995</td>\n",
       "      <td>1995</td>\n",
       "      <td>7021</td>\n",
       "      <td>Annual value</td>\n",
       "      <td>USD</td>\n",
       "      <td>23</td>\n",
       "      <td>Official data</td>\n",
       "    </tr>\n",
       "    <tr>\n",
       "      <th>1</th>\n",
       "      <td>Producer Prices</td>\n",
       "      <td>21</td>\n",
       "      <td>Brazil</td>\n",
       "      <td>5532</td>\n",
       "      <td>Producer Price (USD/tonne)</td>\n",
       "      <td>Sugar cane</td>\n",
       "      <td>1995</td>\n",
       "      <td>1995</td>\n",
       "      <td>7021</td>\n",
       "      <td>Annual value</td>\n",
       "      <td>USD</td>\n",
       "      <td>14</td>\n",
       "      <td>Official data</td>\n",
       "    </tr>\n",
       "    <tr>\n",
       "      <th>2</th>\n",
       "      <td>Producer Prices</td>\n",
       "      <td>165</td>\n",
       "      <td>Pakistan</td>\n",
       "      <td>5532</td>\n",
       "      <td>Producer Price (USD/tonne)</td>\n",
       "      <td>Sugar cane</td>\n",
       "      <td>1995</td>\n",
       "      <td>1995</td>\n",
       "      <td>7021</td>\n",
       "      <td>Annual value</td>\n",
       "      <td>USD</td>\n",
       "      <td>16</td>\n",
       "      <td>Official data</td>\n",
       "    </tr>\n",
       "    <tr>\n",
       "      <th>3</th>\n",
       "      <td>Producer Prices</td>\n",
       "      <td>165</td>\n",
       "      <td>Pakistan</td>\n",
       "      <td>5532</td>\n",
       "      <td>Producer Price (USD/tonne)</td>\n",
       "      <td>Sugar cane</td>\n",
       "      <td>1996</td>\n",
       "      <td>1996</td>\n",
       "      <td>7021</td>\n",
       "      <td>Annual value</td>\n",
       "      <td>USD</td>\n",
       "      <td>15</td>\n",
       "      <td>Official data</td>\n",
       "    </tr>\n",
       "    <tr>\n",
       "      <th>4</th>\n",
       "      <td>Producer Prices</td>\n",
       "      <td>21</td>\n",
       "      <td>Brazil</td>\n",
       "      <td>5532</td>\n",
       "      <td>Producer Price (USD/tonne)</td>\n",
       "      <td>Sugar cane</td>\n",
       "      <td>1996</td>\n",
       "      <td>1996</td>\n",
       "      <td>7021</td>\n",
       "      <td>Annual value</td>\n",
       "      <td>USD</td>\n",
       "      <td>15</td>\n",
       "      <td>Official data</td>\n",
       "    </tr>\n",
       "    <tr>\n",
       "      <th>5</th>\n",
       "      <td>Producer Prices</td>\n",
       "      <td>21</td>\n",
       "      <td>Brazil</td>\n",
       "      <td>5532</td>\n",
       "      <td>Producer Price (USD/tonne)</td>\n",
       "      <td>Sugar cane</td>\n",
       "      <td>1997</td>\n",
       "      <td>1997</td>\n",
       "      <td>7021</td>\n",
       "      <td>Annual value</td>\n",
       "      <td>USD</td>\n",
       "      <td>16</td>\n",
       "      <td>Official data</td>\n",
       "    </tr>\n",
       "    <tr>\n",
       "      <th>6</th>\n",
       "      <td>Producer Prices</td>\n",
       "      <td>165</td>\n",
       "      <td>Pakistan</td>\n",
       "      <td>5532</td>\n",
       "      <td>Producer Price (USD/tonne)</td>\n",
       "      <td>Sugar cane</td>\n",
       "      <td>1997</td>\n",
       "      <td>1997</td>\n",
       "      <td>7021</td>\n",
       "      <td>Annual value</td>\n",
       "      <td>USD</td>\n",
       "      <td>15</td>\n",
       "      <td>Official data</td>\n",
       "    </tr>\n",
       "    <tr>\n",
       "      <th>7</th>\n",
       "      <td>Producer Prices</td>\n",
       "      <td>21</td>\n",
       "      <td>Brazil</td>\n",
       "      <td>5532</td>\n",
       "      <td>Producer Price (USD/tonne)</td>\n",
       "      <td>Sugar cane</td>\n",
       "      <td>1998</td>\n",
       "      <td>1998</td>\n",
       "      <td>7021</td>\n",
       "      <td>Annual value</td>\n",
       "      <td>USD</td>\n",
       "      <td>15</td>\n",
       "      <td>Official data</td>\n",
       "    </tr>\n",
       "    <tr>\n",
       "      <th>8</th>\n",
       "      <td>Producer Prices</td>\n",
       "      <td>100</td>\n",
       "      <td>India</td>\n",
       "      <td>5532</td>\n",
       "      <td>Producer Price (USD/tonne)</td>\n",
       "      <td>Sugar cane</td>\n",
       "      <td>1998</td>\n",
       "      <td>1998</td>\n",
       "      <td>7021</td>\n",
       "      <td>Annual value</td>\n",
       "      <td>USD</td>\n",
       "      <td>13</td>\n",
       "      <td>Official data</td>\n",
       "    </tr>\n",
       "    <tr>\n",
       "      <th>9</th>\n",
       "      <td>Producer Prices</td>\n",
       "      <td>100</td>\n",
       "      <td>India</td>\n",
       "      <td>5532</td>\n",
       "      <td>Producer Price (USD/tonne)</td>\n",
       "      <td>Sugar cane</td>\n",
       "      <td>1999</td>\n",
       "      <td>1999</td>\n",
       "      <td>7021</td>\n",
       "      <td>Annual value</td>\n",
       "      <td>USD</td>\n",
       "      <td>13</td>\n",
       "      <td>Official data</td>\n",
       "    </tr>\n",
       "    <tr>\n",
       "      <th>10</th>\n",
       "      <td>Producer Prices</td>\n",
       "      <td>21</td>\n",
       "      <td>Brazil</td>\n",
       "      <td>5532</td>\n",
       "      <td>Producer Price (USD/tonne)</td>\n",
       "      <td>Sugar cane</td>\n",
       "      <td>1999</td>\n",
       "      <td>1999</td>\n",
       "      <td>7021</td>\n",
       "      <td>Annual value</td>\n",
       "      <td>USD</td>\n",
       "      <td>8</td>\n",
       "      <td>Official data</td>\n",
       "    </tr>\n",
       "    <tr>\n",
       "      <th>11</th>\n",
       "      <td>Producer Prices</td>\n",
       "      <td>21</td>\n",
       "      <td>Brazil</td>\n",
       "      <td>5532</td>\n",
       "      <td>Producer Price (USD/tonne)</td>\n",
       "      <td>Sugar cane</td>\n",
       "      <td>2000</td>\n",
       "      <td>2000</td>\n",
       "      <td>7021</td>\n",
       "      <td>Annual value</td>\n",
       "      <td>USD</td>\n",
       "      <td>10</td>\n",
       "      <td>Official data</td>\n",
       "    </tr>\n",
       "    <tr>\n",
       "      <th>12</th>\n",
       "      <td>Producer Prices</td>\n",
       "      <td>100</td>\n",
       "      <td>India</td>\n",
       "      <td>5532</td>\n",
       "      <td>Producer Price (USD/tonne)</td>\n",
       "      <td>Sugar cane</td>\n",
       "      <td>2000</td>\n",
       "      <td>2000</td>\n",
       "      <td>7021</td>\n",
       "      <td>Annual value</td>\n",
       "      <td>USD</td>\n",
       "      <td>13</td>\n",
       "      <td>Official data</td>\n",
       "    </tr>\n",
       "    <tr>\n",
       "      <th>13</th>\n",
       "      <td>Producer Prices</td>\n",
       "      <td>100</td>\n",
       "      <td>India</td>\n",
       "      <td>5532</td>\n",
       "      <td>Producer Price (USD/tonne)</td>\n",
       "      <td>Sugar cane</td>\n",
       "      <td>2001</td>\n",
       "      <td>2001</td>\n",
       "      <td>7021</td>\n",
       "      <td>Annual value</td>\n",
       "      <td>USD</td>\n",
       "      <td>13</td>\n",
       "      <td>Official data</td>\n",
       "    </tr>\n",
       "    <tr>\n",
       "      <th>14</th>\n",
       "      <td>Producer Prices</td>\n",
       "      <td>21</td>\n",
       "      <td>Brazil</td>\n",
       "      <td>5532</td>\n",
       "      <td>Producer Price (USD/tonne)</td>\n",
       "      <td>Sugar cane</td>\n",
       "      <td>2001</td>\n",
       "      <td>2001</td>\n",
       "      <td>7021</td>\n",
       "      <td>Annual value</td>\n",
       "      <td>USD</td>\n",
       "      <td>11</td>\n",
       "      <td>Official data</td>\n",
       "    </tr>\n",
       "    <tr>\n",
       "      <th>15</th>\n",
       "      <td>Producer Prices</td>\n",
       "      <td>21</td>\n",
       "      <td>Brazil</td>\n",
       "      <td>5532</td>\n",
       "      <td>Producer Price (USD/tonne)</td>\n",
       "      <td>Sugar cane</td>\n",
       "      <td>2002</td>\n",
       "      <td>2002</td>\n",
       "      <td>7021</td>\n",
       "      <td>Annual value</td>\n",
       "      <td>USD</td>\n",
       "      <td>9</td>\n",
       "      <td>Official data</td>\n",
       "    </tr>\n",
       "    <tr>\n",
       "      <th>16</th>\n",
       "      <td>Producer Prices</td>\n",
       "      <td>100</td>\n",
       "      <td>India</td>\n",
       "      <td>5532</td>\n",
       "      <td>Producer Price (USD/tonne)</td>\n",
       "      <td>Sugar cane</td>\n",
       "      <td>2002</td>\n",
       "      <td>2002</td>\n",
       "      <td>7021</td>\n",
       "      <td>Annual value</td>\n",
       "      <td>USD</td>\n",
       "      <td>14</td>\n",
       "      <td>Official data</td>\n",
       "    </tr>\n",
       "    <tr>\n",
       "      <th>17</th>\n",
       "      <td>Producer Prices</td>\n",
       "      <td>100</td>\n",
       "      <td>India</td>\n",
       "      <td>5532</td>\n",
       "      <td>Producer Price (USD/tonne)</td>\n",
       "      <td>Sugar cane</td>\n",
       "      <td>2003</td>\n",
       "      <td>2003</td>\n",
       "      <td>7021</td>\n",
       "      <td>Annual value</td>\n",
       "      <td>USD</td>\n",
       "      <td>16</td>\n",
       "      <td>Official data</td>\n",
       "    </tr>\n",
       "    <tr>\n",
       "      <th>18</th>\n",
       "      <td>Producer Prices</td>\n",
       "      <td>21</td>\n",
       "      <td>Brazil</td>\n",
       "      <td>5532</td>\n",
       "      <td>Producer Price (USD/tonne)</td>\n",
       "      <td>Sugar cane</td>\n",
       "      <td>2003</td>\n",
       "      <td>2003</td>\n",
       "      <td>7021</td>\n",
       "      <td>Annual value</td>\n",
       "      <td>USD</td>\n",
       "      <td>10</td>\n",
       "      <td>Official data</td>\n",
       "    </tr>\n",
       "    <tr>\n",
       "      <th>19</th>\n",
       "      <td>Producer Prices</td>\n",
       "      <td>21</td>\n",
       "      <td>Brazil</td>\n",
       "      <td>5532</td>\n",
       "      <td>Producer Price (USD/tonne)</td>\n",
       "      <td>Sugar cane</td>\n",
       "      <td>2004</td>\n",
       "      <td>2004</td>\n",
       "      <td>7021</td>\n",
       "      <td>Annual value</td>\n",
       "      <td>USD</td>\n",
       "      <td>10</td>\n",
       "      <td>Official data</td>\n",
       "    </tr>\n",
       "    <tr>\n",
       "      <th>20</th>\n",
       "      <td>Producer Prices</td>\n",
       "      <td>100</td>\n",
       "      <td>India</td>\n",
       "      <td>5532</td>\n",
       "      <td>Producer Price (USD/tonne)</td>\n",
       "      <td>Sugar cane</td>\n",
       "      <td>2004</td>\n",
       "      <td>2004</td>\n",
       "      <td>7021</td>\n",
       "      <td>Annual value</td>\n",
       "      <td>USD</td>\n",
       "      <td>16</td>\n",
       "      <td>Official data</td>\n",
       "    </tr>\n",
       "    <tr>\n",
       "      <th>21</th>\n",
       "      <td>Producer Prices</td>\n",
       "      <td>100</td>\n",
       "      <td>India</td>\n",
       "      <td>5532</td>\n",
       "      <td>Producer Price (USD/tonne)</td>\n",
       "      <td>Sugar cane</td>\n",
       "      <td>2005</td>\n",
       "      <td>2005</td>\n",
       "      <td>7021</td>\n",
       "      <td>Annual value</td>\n",
       "      <td>USD</td>\n",
       "      <td>17</td>\n",
       "      <td>Official data</td>\n",
       "    </tr>\n",
       "    <tr>\n",
       "      <th>22</th>\n",
       "      <td>Producer Prices</td>\n",
       "      <td>21</td>\n",
       "      <td>Brazil</td>\n",
       "      <td>5532</td>\n",
       "      <td>Producer Price (USD/tonne)</td>\n",
       "      <td>Sugar cane</td>\n",
       "      <td>2005</td>\n",
       "      <td>2005</td>\n",
       "      <td>7021</td>\n",
       "      <td>Annual value</td>\n",
       "      <td>USD</td>\n",
       "      <td>13</td>\n",
       "      <td>Official data</td>\n",
       "    </tr>\n",
       "    <tr>\n",
       "      <th>23</th>\n",
       "      <td>Producer Prices</td>\n",
       "      <td>21</td>\n",
       "      <td>Brazil</td>\n",
       "      <td>5532</td>\n",
       "      <td>Producer Price (USD/tonne)</td>\n",
       "      <td>Sugar cane</td>\n",
       "      <td>2006</td>\n",
       "      <td>2006</td>\n",
       "      <td>7021</td>\n",
       "      <td>Annual value</td>\n",
       "      <td>USD</td>\n",
       "      <td>18</td>\n",
       "      <td>Official data</td>\n",
       "    </tr>\n",
       "    <tr>\n",
       "      <th>24</th>\n",
       "      <td>Producer Prices</td>\n",
       "      <td>100</td>\n",
       "      <td>India</td>\n",
       "      <td>5532</td>\n",
       "      <td>Producer Price (USD/tonne)</td>\n",
       "      <td>Sugar cane</td>\n",
       "      <td>2006</td>\n",
       "      <td>2006</td>\n",
       "      <td>7021</td>\n",
       "      <td>Annual value</td>\n",
       "      <td>USD</td>\n",
       "      <td>18</td>\n",
       "      <td>Official data</td>\n",
       "    </tr>\n",
       "    <tr>\n",
       "      <th>25</th>\n",
       "      <td>Producer Prices</td>\n",
       "      <td>100</td>\n",
       "      <td>India</td>\n",
       "      <td>5532</td>\n",
       "      <td>Producer Price (USD/tonne)</td>\n",
       "      <td>Sugar cane</td>\n",
       "      <td>2007</td>\n",
       "      <td>2007</td>\n",
       "      <td>7021</td>\n",
       "      <td>Annual value</td>\n",
       "      <td>USD</td>\n",
       "      <td>20</td>\n",
       "      <td>Official data</td>\n",
       "    </tr>\n",
       "    <tr>\n",
       "      <th>26</th>\n",
       "      <td>Producer Prices</td>\n",
       "      <td>21</td>\n",
       "      <td>Brazil</td>\n",
       "      <td>5532</td>\n",
       "      <td>Producer Price (USD/tonne)</td>\n",
       "      <td>Sugar cane</td>\n",
       "      <td>2007</td>\n",
       "      <td>2007</td>\n",
       "      <td>7021</td>\n",
       "      <td>Annual value</td>\n",
       "      <td>USD</td>\n",
       "      <td>19</td>\n",
       "      <td>Official data</td>\n",
       "    </tr>\n",
       "    <tr>\n",
       "      <th>27</th>\n",
       "      <td>Producer Prices</td>\n",
       "      <td>21</td>\n",
       "      <td>Brazil</td>\n",
       "      <td>5532</td>\n",
       "      <td>Producer Price (USD/tonne)</td>\n",
       "      <td>Sugar cane</td>\n",
       "      <td>2008</td>\n",
       "      <td>2008</td>\n",
       "      <td>7021</td>\n",
       "      <td>Annual value</td>\n",
       "      <td>USD</td>\n",
       "      <td>17</td>\n",
       "      <td>Official data</td>\n",
       "    </tr>\n",
       "    <tr>\n",
       "      <th>28</th>\n",
       "      <td>Producer Prices</td>\n",
       "      <td>100</td>\n",
       "      <td>India</td>\n",
       "      <td>5532</td>\n",
       "      <td>Producer Price (USD/tonne)</td>\n",
       "      <td>Sugar cane</td>\n",
       "      <td>2008</td>\n",
       "      <td>2008</td>\n",
       "      <td>7021</td>\n",
       "      <td>Annual value</td>\n",
       "      <td>USD</td>\n",
       "      <td>19</td>\n",
       "      <td>Official data</td>\n",
       "    </tr>\n",
       "    <tr>\n",
       "      <th>29</th>\n",
       "      <td>Producer Prices</td>\n",
       "      <td>21</td>\n",
       "      <td>Brazil</td>\n",
       "      <td>5532</td>\n",
       "      <td>Producer Price (USD/tonne)</td>\n",
       "      <td>Sugar cane</td>\n",
       "      <td>2009</td>\n",
       "      <td>2009</td>\n",
       "      <td>7021</td>\n",
       "      <td>Annual value</td>\n",
       "      <td>USD</td>\n",
       "      <td>18</td>\n",
       "      <td>Official data</td>\n",
       "    </tr>\n",
       "    <tr>\n",
       "      <th>30</th>\n",
       "      <td>Producer Prices</td>\n",
       "      <td>21</td>\n",
       "      <td>Brazil</td>\n",
       "      <td>5532</td>\n",
       "      <td>Producer Price (USD/tonne)</td>\n",
       "      <td>Sugar cane</td>\n",
       "      <td>2010</td>\n",
       "      <td>2010</td>\n",
       "      <td>7021</td>\n",
       "      <td>Annual value</td>\n",
       "      <td>USD</td>\n",
       "      <td>24</td>\n",
       "      <td>Official data</td>\n",
       "    </tr>\n",
       "    <tr>\n",
       "      <th>31</th>\n",
       "      <td>Producer Prices</td>\n",
       "      <td>21</td>\n",
       "      <td>Brazil</td>\n",
       "      <td>5532</td>\n",
       "      <td>Producer Price (USD/tonne)</td>\n",
       "      <td>Sugar cane</td>\n",
       "      <td>2011</td>\n",
       "      <td>2011</td>\n",
       "      <td>7021</td>\n",
       "      <td>Annual value</td>\n",
       "      <td>USD</td>\n",
       "      <td>31</td>\n",
       "      <td>Official data</td>\n",
       "    </tr>\n",
       "    <tr>\n",
       "      <th>32</th>\n",
       "      <td>Producer Prices</td>\n",
       "      <td>165</td>\n",
       "      <td>Pakistan</td>\n",
       "      <td>5532</td>\n",
       "      <td>Producer Price (USD/tonne)</td>\n",
       "      <td>Sugar cane</td>\n",
       "      <td>2012</td>\n",
       "      <td>2012</td>\n",
       "      <td>7021</td>\n",
       "      <td>Annual value</td>\n",
       "      <td>USD</td>\n",
       "      <td>37</td>\n",
       "      <td>Official data</td>\n",
       "    </tr>\n",
       "    <tr>\n",
       "      <th>33</th>\n",
       "      <td>Producer Prices</td>\n",
       "      <td>21</td>\n",
       "      <td>Brazil</td>\n",
       "      <td>5532</td>\n",
       "      <td>Producer Price (USD/tonne)</td>\n",
       "      <td>Sugar cane</td>\n",
       "      <td>2012</td>\n",
       "      <td>2012</td>\n",
       "      <td>7021</td>\n",
       "      <td>Annual value</td>\n",
       "      <td>USD</td>\n",
       "      <td>32</td>\n",
       "      <td>Official data</td>\n",
       "    </tr>\n",
       "    <tr>\n",
       "      <th>34</th>\n",
       "      <td>Producer Prices</td>\n",
       "      <td>21</td>\n",
       "      <td>Brazil</td>\n",
       "      <td>5532</td>\n",
       "      <td>Producer Price (USD/tonne)</td>\n",
       "      <td>Sugar cane</td>\n",
       "      <td>2013</td>\n",
       "      <td>2013</td>\n",
       "      <td>7021</td>\n",
       "      <td>Annual value</td>\n",
       "      <td>USD</td>\n",
       "      <td>30</td>\n",
       "      <td>Official data</td>\n",
       "    </tr>\n",
       "    <tr>\n",
       "      <th>35</th>\n",
       "      <td>Producer Prices</td>\n",
       "      <td>165</td>\n",
       "      <td>Pakistan</td>\n",
       "      <td>5532</td>\n",
       "      <td>Producer Price (USD/tonne)</td>\n",
       "      <td>Sugar cane</td>\n",
       "      <td>2013</td>\n",
       "      <td>2013</td>\n",
       "      <td>7021</td>\n",
       "      <td>Annual value</td>\n",
       "      <td>USD</td>\n",
       "      <td>38</td>\n",
       "      <td>Official data</td>\n",
       "    </tr>\n",
       "    <tr>\n",
       "      <th>36</th>\n",
       "      <td>Producer Prices</td>\n",
       "      <td>165</td>\n",
       "      <td>Pakistan</td>\n",
       "      <td>5532</td>\n",
       "      <td>Producer Price (USD/tonne)</td>\n",
       "      <td>Sugar cane</td>\n",
       "      <td>2014</td>\n",
       "      <td>2014</td>\n",
       "      <td>7021</td>\n",
       "      <td>Annual value</td>\n",
       "      <td>USD</td>\n",
       "      <td>30</td>\n",
       "      <td>Official data</td>\n",
       "    </tr>\n",
       "    <tr>\n",
       "      <th>37</th>\n",
       "      <td>Producer Prices</td>\n",
       "      <td>21</td>\n",
       "      <td>Brazil</td>\n",
       "      <td>5532</td>\n",
       "      <td>Producer Price (USD/tonne)</td>\n",
       "      <td>Sugar cane</td>\n",
       "      <td>2014</td>\n",
       "      <td>2014</td>\n",
       "      <td>7021</td>\n",
       "      <td>Annual value</td>\n",
       "      <td>USD</td>\n",
       "      <td>27</td>\n",
       "      <td>Official data</td>\n",
       "    </tr>\n",
       "    <tr>\n",
       "      <th>38</th>\n",
       "      <td>Producer Prices</td>\n",
       "      <td>21</td>\n",
       "      <td>Brazil</td>\n",
       "      <td>5532</td>\n",
       "      <td>Producer Price (USD/tonne)</td>\n",
       "      <td>Sugar cane</td>\n",
       "      <td>2015</td>\n",
       "      <td>2015</td>\n",
       "      <td>7021</td>\n",
       "      <td>Annual value</td>\n",
       "      <td>USD</td>\n",
       "      <td>19</td>\n",
       "      <td>Official data</td>\n",
       "    </tr>\n",
       "    <tr>\n",
       "      <th>39</th>\n",
       "      <td>Producer Prices</td>\n",
       "      <td>165</td>\n",
       "      <td>Pakistan</td>\n",
       "      <td>5532</td>\n",
       "      <td>Producer Price (USD/tonne)</td>\n",
       "      <td>Sugar cane</td>\n",
       "      <td>2015</td>\n",
       "      <td>2015</td>\n",
       "      <td>7021</td>\n",
       "      <td>Annual value</td>\n",
       "      <td>USD</td>\n",
       "      <td>40</td>\n",
       "      <td>Official data</td>\n",
       "    </tr>\n",
       "    <tr>\n",
       "      <th>40</th>\n",
       "      <td>Producer Prices</td>\n",
       "      <td>165</td>\n",
       "      <td>Pakistan</td>\n",
       "      <td>5532</td>\n",
       "      <td>Producer Price (USD/tonne)</td>\n",
       "      <td>Sugar cane</td>\n",
       "      <td>2016</td>\n",
       "      <td>2016</td>\n",
       "      <td>7021</td>\n",
       "      <td>Annual value</td>\n",
       "      <td>USD</td>\n",
       "      <td>39</td>\n",
       "      <td>Official data</td>\n",
       "    </tr>\n",
       "    <tr>\n",
       "      <th>41</th>\n",
       "      <td>Producer Prices</td>\n",
       "      <td>21</td>\n",
       "      <td>Brazil</td>\n",
       "      <td>5532</td>\n",
       "      <td>Producer Price (USD/tonne)</td>\n",
       "      <td>Sugar cane</td>\n",
       "      <td>2016</td>\n",
       "      <td>2016</td>\n",
       "      <td>7021</td>\n",
       "      <td>Annual value</td>\n",
       "      <td>USD</td>\n",
       "      <td>20</td>\n",
       "      <td>Official data</td>\n",
       "    </tr>\n",
       "    <tr>\n",
       "      <th>42</th>\n",
       "      <td>Producer Prices</td>\n",
       "      <td>21</td>\n",
       "      <td>Brazil</td>\n",
       "      <td>5532</td>\n",
       "      <td>Producer Price (USD/tonne)</td>\n",
       "      <td>Sugar cane</td>\n",
       "      <td>2018</td>\n",
       "      <td>2018</td>\n",
       "      <td>7021</td>\n",
       "      <td>Annual value</td>\n",
       "      <td>USD</td>\n",
       "      <td>19</td>\n",
       "      <td>Official data</td>\n",
       "    </tr>\n",
       "    <tr>\n",
       "      <th>43</th>\n",
       "      <td>Producer Prices</td>\n",
       "      <td>21</td>\n",
       "      <td>Brazil</td>\n",
       "      <td>5532</td>\n",
       "      <td>Producer Price (USD/tonne)</td>\n",
       "      <td>Sugar cane</td>\n",
       "      <td>2019</td>\n",
       "      <td>2019</td>\n",
       "      <td>7021</td>\n",
       "      <td>Annual value</td>\n",
       "      <td>USD</td>\n",
       "      <td>18</td>\n",
       "      <td>Official data</td>\n",
       "    </tr>\n",
       "    <tr>\n",
       "      <th>44</th>\n",
       "      <td>Producer Prices</td>\n",
       "      <td>21</td>\n",
       "      <td>Brazil</td>\n",
       "      <td>5532</td>\n",
       "      <td>Producer Price (USD/tonne)</td>\n",
       "      <td>Sugar cane</td>\n",
       "      <td>2020</td>\n",
       "      <td>2020</td>\n",
       "      <td>7021</td>\n",
       "      <td>Annual value</td>\n",
       "      <td>USD</td>\n",
       "      <td>16</td>\n",
       "      <td>Official data</td>\n",
       "    </tr>\n",
       "  </tbody>\n",
       "</table>\n",
       "</div>"
      ],
      "text/plain": [
       "             Domain  Area Code      Area  Element Code  \\\n",
       "0   Producer Prices        100     India          5532   \n",
       "1   Producer Prices         21    Brazil          5532   \n",
       "2   Producer Prices        165  Pakistan          5532   \n",
       "3   Producer Prices        165  Pakistan          5532   \n",
       "4   Producer Prices         21    Brazil          5532   \n",
       "5   Producer Prices         21    Brazil          5532   \n",
       "6   Producer Prices        165  Pakistan          5532   \n",
       "7   Producer Prices         21    Brazil          5532   \n",
       "8   Producer Prices        100     India          5532   \n",
       "9   Producer Prices        100     India          5532   \n",
       "10  Producer Prices         21    Brazil          5532   \n",
       "11  Producer Prices         21    Brazil          5532   \n",
       "12  Producer Prices        100     India          5532   \n",
       "13  Producer Prices        100     India          5532   \n",
       "14  Producer Prices         21    Brazil          5532   \n",
       "15  Producer Prices         21    Brazil          5532   \n",
       "16  Producer Prices        100     India          5532   \n",
       "17  Producer Prices        100     India          5532   \n",
       "18  Producer Prices         21    Brazil          5532   \n",
       "19  Producer Prices         21    Brazil          5532   \n",
       "20  Producer Prices        100     India          5532   \n",
       "21  Producer Prices        100     India          5532   \n",
       "22  Producer Prices         21    Brazil          5532   \n",
       "23  Producer Prices         21    Brazil          5532   \n",
       "24  Producer Prices        100     India          5532   \n",
       "25  Producer Prices        100     India          5532   \n",
       "26  Producer Prices         21    Brazil          5532   \n",
       "27  Producer Prices         21    Brazil          5532   \n",
       "28  Producer Prices        100     India          5532   \n",
       "29  Producer Prices         21    Brazil          5532   \n",
       "30  Producer Prices         21    Brazil          5532   \n",
       "31  Producer Prices         21    Brazil          5532   \n",
       "32  Producer Prices        165  Pakistan          5532   \n",
       "33  Producer Prices         21    Brazil          5532   \n",
       "34  Producer Prices         21    Brazil          5532   \n",
       "35  Producer Prices        165  Pakistan          5532   \n",
       "36  Producer Prices        165  Pakistan          5532   \n",
       "37  Producer Prices         21    Brazil          5532   \n",
       "38  Producer Prices         21    Brazil          5532   \n",
       "39  Producer Prices        165  Pakistan          5532   \n",
       "40  Producer Prices        165  Pakistan          5532   \n",
       "41  Producer Prices         21    Brazil          5532   \n",
       "42  Producer Prices         21    Brazil          5532   \n",
       "43  Producer Prices         21    Brazil          5532   \n",
       "44  Producer Prices         21    Brazil          5532   \n",
       "\n",
       "                       Element        Item  Year Code  Year  Months Code  \\\n",
       "0   Producer Price (USD/tonne)  Sugar cane       1995  1995         7021   \n",
       "1   Producer Price (USD/tonne)  Sugar cane       1995  1995         7021   \n",
       "2   Producer Price (USD/tonne)  Sugar cane       1995  1995         7021   \n",
       "3   Producer Price (USD/tonne)  Sugar cane       1996  1996         7021   \n",
       "4   Producer Price (USD/tonne)  Sugar cane       1996  1996         7021   \n",
       "5   Producer Price (USD/tonne)  Sugar cane       1997  1997         7021   \n",
       "6   Producer Price (USD/tonne)  Sugar cane       1997  1997         7021   \n",
       "7   Producer Price (USD/tonne)  Sugar cane       1998  1998         7021   \n",
       "8   Producer Price (USD/tonne)  Sugar cane       1998  1998         7021   \n",
       "9   Producer Price (USD/tonne)  Sugar cane       1999  1999         7021   \n",
       "10  Producer Price (USD/tonne)  Sugar cane       1999  1999         7021   \n",
       "11  Producer Price (USD/tonne)  Sugar cane       2000  2000         7021   \n",
       "12  Producer Price (USD/tonne)  Sugar cane       2000  2000         7021   \n",
       "13  Producer Price (USD/tonne)  Sugar cane       2001  2001         7021   \n",
       "14  Producer Price (USD/tonne)  Sugar cane       2001  2001         7021   \n",
       "15  Producer Price (USD/tonne)  Sugar cane       2002  2002         7021   \n",
       "16  Producer Price (USD/tonne)  Sugar cane       2002  2002         7021   \n",
       "17  Producer Price (USD/tonne)  Sugar cane       2003  2003         7021   \n",
       "18  Producer Price (USD/tonne)  Sugar cane       2003  2003         7021   \n",
       "19  Producer Price (USD/tonne)  Sugar cane       2004  2004         7021   \n",
       "20  Producer Price (USD/tonne)  Sugar cane       2004  2004         7021   \n",
       "21  Producer Price (USD/tonne)  Sugar cane       2005  2005         7021   \n",
       "22  Producer Price (USD/tonne)  Sugar cane       2005  2005         7021   \n",
       "23  Producer Price (USD/tonne)  Sugar cane       2006  2006         7021   \n",
       "24  Producer Price (USD/tonne)  Sugar cane       2006  2006         7021   \n",
       "25  Producer Price (USD/tonne)  Sugar cane       2007  2007         7021   \n",
       "26  Producer Price (USD/tonne)  Sugar cane       2007  2007         7021   \n",
       "27  Producer Price (USD/tonne)  Sugar cane       2008  2008         7021   \n",
       "28  Producer Price (USD/tonne)  Sugar cane       2008  2008         7021   \n",
       "29  Producer Price (USD/tonne)  Sugar cane       2009  2009         7021   \n",
       "30  Producer Price (USD/tonne)  Sugar cane       2010  2010         7021   \n",
       "31  Producer Price (USD/tonne)  Sugar cane       2011  2011         7021   \n",
       "32  Producer Price (USD/tonne)  Sugar cane       2012  2012         7021   \n",
       "33  Producer Price (USD/tonne)  Sugar cane       2012  2012         7021   \n",
       "34  Producer Price (USD/tonne)  Sugar cane       2013  2013         7021   \n",
       "35  Producer Price (USD/tonne)  Sugar cane       2013  2013         7021   \n",
       "36  Producer Price (USD/tonne)  Sugar cane       2014  2014         7021   \n",
       "37  Producer Price (USD/tonne)  Sugar cane       2014  2014         7021   \n",
       "38  Producer Price (USD/tonne)  Sugar cane       2015  2015         7021   \n",
       "39  Producer Price (USD/tonne)  Sugar cane       2015  2015         7021   \n",
       "40  Producer Price (USD/tonne)  Sugar cane       2016  2016         7021   \n",
       "41  Producer Price (USD/tonne)  Sugar cane       2016  2016         7021   \n",
       "42  Producer Price (USD/tonne)  Sugar cane       2018  2018         7021   \n",
       "43  Producer Price (USD/tonne)  Sugar cane       2019  2019         7021   \n",
       "44  Producer Price (USD/tonne)  Sugar cane       2020  2020         7021   \n",
       "\n",
       "          Months Unit  Prices_in_USD/tonne Flag Description  \n",
       "0   Annual value  USD                   23    Official data  \n",
       "1   Annual value  USD                   14    Official data  \n",
       "2   Annual value  USD                   16    Official data  \n",
       "3   Annual value  USD                   15    Official data  \n",
       "4   Annual value  USD                   15    Official data  \n",
       "5   Annual value  USD                   16    Official data  \n",
       "6   Annual value  USD                   15    Official data  \n",
       "7   Annual value  USD                   15    Official data  \n",
       "8   Annual value  USD                   13    Official data  \n",
       "9   Annual value  USD                   13    Official data  \n",
       "10  Annual value  USD                    8    Official data  \n",
       "11  Annual value  USD                   10    Official data  \n",
       "12  Annual value  USD                   13    Official data  \n",
       "13  Annual value  USD                   13    Official data  \n",
       "14  Annual value  USD                   11    Official data  \n",
       "15  Annual value  USD                    9    Official data  \n",
       "16  Annual value  USD                   14    Official data  \n",
       "17  Annual value  USD                   16    Official data  \n",
       "18  Annual value  USD                   10    Official data  \n",
       "19  Annual value  USD                   10    Official data  \n",
       "20  Annual value  USD                   16    Official data  \n",
       "21  Annual value  USD                   17    Official data  \n",
       "22  Annual value  USD                   13    Official data  \n",
       "23  Annual value  USD                   18    Official data  \n",
       "24  Annual value  USD                   18    Official data  \n",
       "25  Annual value  USD                   20    Official data  \n",
       "26  Annual value  USD                   19    Official data  \n",
       "27  Annual value  USD                   17    Official data  \n",
       "28  Annual value  USD                   19    Official data  \n",
       "29  Annual value  USD                   18    Official data  \n",
       "30  Annual value  USD                   24    Official data  \n",
       "31  Annual value  USD                   31    Official data  \n",
       "32  Annual value  USD                   37    Official data  \n",
       "33  Annual value  USD                   32    Official data  \n",
       "34  Annual value  USD                   30    Official data  \n",
       "35  Annual value  USD                   38    Official data  \n",
       "36  Annual value  USD                   30    Official data  \n",
       "37  Annual value  USD                   27    Official data  \n",
       "38  Annual value  USD                   19    Official data  \n",
       "39  Annual value  USD                   40    Official data  \n",
       "40  Annual value  USD                   39    Official data  \n",
       "41  Annual value  USD                   20    Official data  \n",
       "42  Annual value  USD                   19    Official data  \n",
       "43  Annual value  USD                   18    Official data  \n",
       "44  Annual value  USD                   16    Official data  "
      ]
     },
     "execution_count": 52,
     "metadata": {},
     "output_type": "execute_result"
    }
   ],
   "source": [
    "sugar_cane.drop([\"Item Code\",\"Domain Code\",\"Flag\"],axis=1)"
   ]
  },
  {
   "cell_type": "code",
   "execution_count": 53,
   "id": "15b2db5c",
   "metadata": {},
   "outputs": [
    {
     "data": {
      "text/html": [
       "<div>\n",
       "<style scoped>\n",
       "    .dataframe tbody tr th:only-of-type {\n",
       "        vertical-align: middle;\n",
       "    }\n",
       "\n",
       "    .dataframe tbody tr th {\n",
       "        vertical-align: top;\n",
       "    }\n",
       "\n",
       "    .dataframe thead th {\n",
       "        text-align: right;\n",
       "    }\n",
       "</style>\n",
       "<table border=\"1\" class=\"dataframe\">\n",
       "  <thead>\n",
       "    <tr style=\"text-align: right;\">\n",
       "      <th></th>\n",
       "      <th>Area Code</th>\n",
       "      <th>Element Code</th>\n",
       "      <th>Item Code</th>\n",
       "      <th>Year Code</th>\n",
       "      <th>Year</th>\n",
       "      <th>Months Code</th>\n",
       "      <th>Prices_in_USD/tonne</th>\n",
       "      <th>Flag</th>\n",
       "    </tr>\n",
       "  </thead>\n",
       "  <tbody>\n",
       "    <tr>\n",
       "      <th>count</th>\n",
       "      <td>45.000000</td>\n",
       "      <td>45.0</td>\n",
       "      <td>45.0</td>\n",
       "      <td>45.000000</td>\n",
       "      <td>45.000000</td>\n",
       "      <td>45.0</td>\n",
       "      <td>45.000000</td>\n",
       "      <td>0.0</td>\n",
       "    </tr>\n",
       "    <tr>\n",
       "      <th>mean</th>\n",
       "      <td>67.666667</td>\n",
       "      <td>5532.0</td>\n",
       "      <td>156.0</td>\n",
       "      <td>2005.866667</td>\n",
       "      <td>2005.866667</td>\n",
       "      <td>7021.0</td>\n",
       "      <td>19.200000</td>\n",
       "      <td>NaN</td>\n",
       "    </tr>\n",
       "    <tr>\n",
       "      <th>std</th>\n",
       "      <td>56.964901</td>\n",
       "      <td>0.0</td>\n",
       "      <td>0.0</td>\n",
       "      <td>7.325547</td>\n",
       "      <td>7.325547</td>\n",
       "      <td>0.0</td>\n",
       "      <td>8.346474</td>\n",
       "      <td>NaN</td>\n",
       "    </tr>\n",
       "    <tr>\n",
       "      <th>min</th>\n",
       "      <td>21.000000</td>\n",
       "      <td>5532.0</td>\n",
       "      <td>156.0</td>\n",
       "      <td>1995.000000</td>\n",
       "      <td>1995.000000</td>\n",
       "      <td>7021.0</td>\n",
       "      <td>8.000000</td>\n",
       "      <td>NaN</td>\n",
       "    </tr>\n",
       "    <tr>\n",
       "      <th>25%</th>\n",
       "      <td>21.000000</td>\n",
       "      <td>5532.0</td>\n",
       "      <td>156.0</td>\n",
       "      <td>2000.000000</td>\n",
       "      <td>2000.000000</td>\n",
       "      <td>7021.0</td>\n",
       "      <td>14.000000</td>\n",
       "      <td>NaN</td>\n",
       "    </tr>\n",
       "    <tr>\n",
       "      <th>50%</th>\n",
       "      <td>21.000000</td>\n",
       "      <td>5532.0</td>\n",
       "      <td>156.0</td>\n",
       "      <td>2005.000000</td>\n",
       "      <td>2005.000000</td>\n",
       "      <td>7021.0</td>\n",
       "      <td>17.000000</td>\n",
       "      <td>NaN</td>\n",
       "    </tr>\n",
       "    <tr>\n",
       "      <th>75%</th>\n",
       "      <td>100.000000</td>\n",
       "      <td>5532.0</td>\n",
       "      <td>156.0</td>\n",
       "      <td>2012.000000</td>\n",
       "      <td>2012.000000</td>\n",
       "      <td>7021.0</td>\n",
       "      <td>20.000000</td>\n",
       "      <td>NaN</td>\n",
       "    </tr>\n",
       "    <tr>\n",
       "      <th>max</th>\n",
       "      <td>165.000000</td>\n",
       "      <td>5532.0</td>\n",
       "      <td>156.0</td>\n",
       "      <td>2020.000000</td>\n",
       "      <td>2020.000000</td>\n",
       "      <td>7021.0</td>\n",
       "      <td>40.000000</td>\n",
       "      <td>NaN</td>\n",
       "    </tr>\n",
       "  </tbody>\n",
       "</table>\n",
       "</div>"
      ],
      "text/plain": [
       "        Area Code  Element Code  Item Code    Year Code         Year  \\\n",
       "count   45.000000          45.0       45.0    45.000000    45.000000   \n",
       "mean    67.666667        5532.0      156.0  2005.866667  2005.866667   \n",
       "std     56.964901           0.0        0.0     7.325547     7.325547   \n",
       "min     21.000000        5532.0      156.0  1995.000000  1995.000000   \n",
       "25%     21.000000        5532.0      156.0  2000.000000  2000.000000   \n",
       "50%     21.000000        5532.0      156.0  2005.000000  2005.000000   \n",
       "75%    100.000000        5532.0      156.0  2012.000000  2012.000000   \n",
       "max    165.000000        5532.0      156.0  2020.000000  2020.000000   \n",
       "\n",
       "       Months Code  Prices_in_USD/tonne  Flag  \n",
       "count         45.0            45.000000   0.0  \n",
       "mean        7021.0            19.200000   NaN  \n",
       "std            0.0             8.346474   NaN  \n",
       "min         7021.0             8.000000   NaN  \n",
       "25%         7021.0            14.000000   NaN  \n",
       "50%         7021.0            17.000000   NaN  \n",
       "75%         7021.0            20.000000   NaN  \n",
       "max         7021.0            40.000000   NaN  "
      ]
     },
     "execution_count": 53,
     "metadata": {},
     "output_type": "execute_result"
    }
   ],
   "source": [
    "\n",
    "sugar_cane.describe()"
   ]
  },
  {
   "cell_type": "code",
   "execution_count": 54,
   "id": "4db86e9b",
   "metadata": {},
   "outputs": [
    {
     "name": "stderr",
     "output_type": "stream",
     "text": [
      "C:\\Users\\adi2n\\AppData\\Local\\Temp/ipykernel_11796/2243610427.py:1: FutureWarning: Dropping of nuisance columns in DataFrame reductions (with 'numeric_only=None') is deprecated; in a future version this will raise TypeError.  Select only valid columns before calling the reduction.\n",
      "  sugar_cane.mean()\n"
     ]
    },
    {
     "data": {
      "text/plain": [
       "Area Code                67.666667\n",
       "Element Code           5532.000000\n",
       "Item Code               156.000000\n",
       "Year Code              2005.866667\n",
       "Year                   2005.866667\n",
       "Months Code            7021.000000\n",
       "Prices_in_USD/tonne      19.200000\n",
       "Flag                           NaN\n",
       "dtype: float64"
      ]
     },
     "execution_count": 54,
     "metadata": {},
     "output_type": "execute_result"
    }
   ],
   "source": [
    "sugar_cane.mean()"
   ]
  },
  {
   "cell_type": "code",
   "execution_count": 55,
   "id": "b28eb81e",
   "metadata": {},
   "outputs": [
    {
     "data": {
      "text/html": [
       "<div>\n",
       "<style scoped>\n",
       "    .dataframe tbody tr th:only-of-type {\n",
       "        vertical-align: middle;\n",
       "    }\n",
       "\n",
       "    .dataframe tbody tr th {\n",
       "        vertical-align: top;\n",
       "    }\n",
       "\n",
       "    .dataframe thead th {\n",
       "        text-align: right;\n",
       "    }\n",
       "</style>\n",
       "<table border=\"1\" class=\"dataframe\">\n",
       "  <thead>\n",
       "    <tr style=\"text-align: right;\">\n",
       "      <th></th>\n",
       "      <th></th>\n",
       "      <th>Area Code</th>\n",
       "      <th>Element Code</th>\n",
       "      <th>Item Code</th>\n",
       "      <th>Year Code</th>\n",
       "      <th>Year</th>\n",
       "      <th>Months Code</th>\n",
       "      <th>Flag</th>\n",
       "    </tr>\n",
       "    <tr>\n",
       "      <th>Item</th>\n",
       "      <th>Prices_in_USD/tonne</th>\n",
       "      <th></th>\n",
       "      <th></th>\n",
       "      <th></th>\n",
       "      <th></th>\n",
       "      <th></th>\n",
       "      <th></th>\n",
       "      <th></th>\n",
       "    </tr>\n",
       "  </thead>\n",
       "  <tbody>\n",
       "    <tr>\n",
       "      <th rowspan=\"22\" valign=\"top\">Sugar cane</th>\n",
       "      <th>8</th>\n",
       "      <td>21.00</td>\n",
       "      <td>5532.0</td>\n",
       "      <td>156.0</td>\n",
       "      <td>1999.000000</td>\n",
       "      <td>1999.000000</td>\n",
       "      <td>7021.0</td>\n",
       "      <td>NaN</td>\n",
       "    </tr>\n",
       "    <tr>\n",
       "      <th>9</th>\n",
       "      <td>21.00</td>\n",
       "      <td>5532.0</td>\n",
       "      <td>156.0</td>\n",
       "      <td>2002.000000</td>\n",
       "      <td>2002.000000</td>\n",
       "      <td>7021.0</td>\n",
       "      <td>NaN</td>\n",
       "    </tr>\n",
       "    <tr>\n",
       "      <th>10</th>\n",
       "      <td>21.00</td>\n",
       "      <td>5532.0</td>\n",
       "      <td>156.0</td>\n",
       "      <td>2002.333333</td>\n",
       "      <td>2002.333333</td>\n",
       "      <td>7021.0</td>\n",
       "      <td>NaN</td>\n",
       "    </tr>\n",
       "    <tr>\n",
       "      <th>11</th>\n",
       "      <td>21.00</td>\n",
       "      <td>5532.0</td>\n",
       "      <td>156.0</td>\n",
       "      <td>2001.000000</td>\n",
       "      <td>2001.000000</td>\n",
       "      <td>7021.0</td>\n",
       "      <td>NaN</td>\n",
       "    </tr>\n",
       "    <tr>\n",
       "      <th>13</th>\n",
       "      <td>84.20</td>\n",
       "      <td>5532.0</td>\n",
       "      <td>156.0</td>\n",
       "      <td>2000.600000</td>\n",
       "      <td>2000.600000</td>\n",
       "      <td>7021.0</td>\n",
       "      <td>NaN</td>\n",
       "    </tr>\n",
       "    <tr>\n",
       "      <th>14</th>\n",
       "      <td>60.50</td>\n",
       "      <td>5532.0</td>\n",
       "      <td>156.0</td>\n",
       "      <td>1998.500000</td>\n",
       "      <td>1998.500000</td>\n",
       "      <td>7021.0</td>\n",
       "      <td>NaN</td>\n",
       "    </tr>\n",
       "    <tr>\n",
       "      <th>15</th>\n",
       "      <td>93.00</td>\n",
       "      <td>5532.0</td>\n",
       "      <td>156.0</td>\n",
       "      <td>1996.750000</td>\n",
       "      <td>1996.750000</td>\n",
       "      <td>7021.0</td>\n",
       "      <td>NaN</td>\n",
       "    </tr>\n",
       "    <tr>\n",
       "      <th>16</th>\n",
       "      <td>81.40</td>\n",
       "      <td>5532.0</td>\n",
       "      <td>156.0</td>\n",
       "      <td>2003.800000</td>\n",
       "      <td>2003.800000</td>\n",
       "      <td>7021.0</td>\n",
       "      <td>NaN</td>\n",
       "    </tr>\n",
       "    <tr>\n",
       "      <th>17</th>\n",
       "      <td>60.50</td>\n",
       "      <td>5532.0</td>\n",
       "      <td>156.0</td>\n",
       "      <td>2006.500000</td>\n",
       "      <td>2006.500000</td>\n",
       "      <td>7021.0</td>\n",
       "      <td>NaN</td>\n",
       "    </tr>\n",
       "    <tr>\n",
       "      <th>18</th>\n",
       "      <td>40.75</td>\n",
       "      <td>5532.0</td>\n",
       "      <td>156.0</td>\n",
       "      <td>2010.000000</td>\n",
       "      <td>2010.000000</td>\n",
       "      <td>7021.0</td>\n",
       "      <td>NaN</td>\n",
       "    </tr>\n",
       "    <tr>\n",
       "      <th>19</th>\n",
       "      <td>40.75</td>\n",
       "      <td>5532.0</td>\n",
       "      <td>156.0</td>\n",
       "      <td>2012.000000</td>\n",
       "      <td>2012.000000</td>\n",
       "      <td>7021.0</td>\n",
       "      <td>NaN</td>\n",
       "    </tr>\n",
       "    <tr>\n",
       "      <th>20</th>\n",
       "      <td>60.50</td>\n",
       "      <td>5532.0</td>\n",
       "      <td>156.0</td>\n",
       "      <td>2011.500000</td>\n",
       "      <td>2011.500000</td>\n",
       "      <td>7021.0</td>\n",
       "      <td>NaN</td>\n",
       "    </tr>\n",
       "    <tr>\n",
       "      <th>23</th>\n",
       "      <td>100.00</td>\n",
       "      <td>5532.0</td>\n",
       "      <td>156.0</td>\n",
       "      <td>1995.000000</td>\n",
       "      <td>1995.000000</td>\n",
       "      <td>7021.0</td>\n",
       "      <td>NaN</td>\n",
       "    </tr>\n",
       "    <tr>\n",
       "      <th>24</th>\n",
       "      <td>21.00</td>\n",
       "      <td>5532.0</td>\n",
       "      <td>156.0</td>\n",
       "      <td>2010.000000</td>\n",
       "      <td>2010.000000</td>\n",
       "      <td>7021.0</td>\n",
       "      <td>NaN</td>\n",
       "    </tr>\n",
       "    <tr>\n",
       "      <th>27</th>\n",
       "      <td>21.00</td>\n",
       "      <td>5532.0</td>\n",
       "      <td>156.0</td>\n",
       "      <td>2014.000000</td>\n",
       "      <td>2014.000000</td>\n",
       "      <td>7021.0</td>\n",
       "      <td>NaN</td>\n",
       "    </tr>\n",
       "    <tr>\n",
       "      <th>30</th>\n",
       "      <td>93.00</td>\n",
       "      <td>5532.0</td>\n",
       "      <td>156.0</td>\n",
       "      <td>2013.500000</td>\n",
       "      <td>2013.500000</td>\n",
       "      <td>7021.0</td>\n",
       "      <td>NaN</td>\n",
       "    </tr>\n",
       "    <tr>\n",
       "      <th>31</th>\n",
       "      <td>21.00</td>\n",
       "      <td>5532.0</td>\n",
       "      <td>156.0</td>\n",
       "      <td>2011.000000</td>\n",
       "      <td>2011.000000</td>\n",
       "      <td>7021.0</td>\n",
       "      <td>NaN</td>\n",
       "    </tr>\n",
       "    <tr>\n",
       "      <th>32</th>\n",
       "      <td>21.00</td>\n",
       "      <td>5532.0</td>\n",
       "      <td>156.0</td>\n",
       "      <td>2012.000000</td>\n",
       "      <td>2012.000000</td>\n",
       "      <td>7021.0</td>\n",
       "      <td>NaN</td>\n",
       "    </tr>\n",
       "    <tr>\n",
       "      <th>37</th>\n",
       "      <td>165.00</td>\n",
       "      <td>5532.0</td>\n",
       "      <td>156.0</td>\n",
       "      <td>2012.000000</td>\n",
       "      <td>2012.000000</td>\n",
       "      <td>7021.0</td>\n",
       "      <td>NaN</td>\n",
       "    </tr>\n",
       "    <tr>\n",
       "      <th>38</th>\n",
       "      <td>165.00</td>\n",
       "      <td>5532.0</td>\n",
       "      <td>156.0</td>\n",
       "      <td>2013.000000</td>\n",
       "      <td>2013.000000</td>\n",
       "      <td>7021.0</td>\n",
       "      <td>NaN</td>\n",
       "    </tr>\n",
       "    <tr>\n",
       "      <th>39</th>\n",
       "      <td>165.00</td>\n",
       "      <td>5532.0</td>\n",
       "      <td>156.0</td>\n",
       "      <td>2016.000000</td>\n",
       "      <td>2016.000000</td>\n",
       "      <td>7021.0</td>\n",
       "      <td>NaN</td>\n",
       "    </tr>\n",
       "    <tr>\n",
       "      <th>40</th>\n",
       "      <td>165.00</td>\n",
       "      <td>5532.0</td>\n",
       "      <td>156.0</td>\n",
       "      <td>2015.000000</td>\n",
       "      <td>2015.000000</td>\n",
       "      <td>7021.0</td>\n",
       "      <td>NaN</td>\n",
       "    </tr>\n",
       "  </tbody>\n",
       "</table>\n",
       "</div>"
      ],
      "text/plain": [
       "                                Area Code  Element Code  Item Code  \\\n",
       "Item       Prices_in_USD/tonne                                       \n",
       "Sugar cane 8                        21.00        5532.0      156.0   \n",
       "           9                        21.00        5532.0      156.0   \n",
       "           10                       21.00        5532.0      156.0   \n",
       "           11                       21.00        5532.0      156.0   \n",
       "           13                       84.20        5532.0      156.0   \n",
       "           14                       60.50        5532.0      156.0   \n",
       "           15                       93.00        5532.0      156.0   \n",
       "           16                       81.40        5532.0      156.0   \n",
       "           17                       60.50        5532.0      156.0   \n",
       "           18                       40.75        5532.0      156.0   \n",
       "           19                       40.75        5532.0      156.0   \n",
       "           20                       60.50        5532.0      156.0   \n",
       "           23                      100.00        5532.0      156.0   \n",
       "           24                       21.00        5532.0      156.0   \n",
       "           27                       21.00        5532.0      156.0   \n",
       "           30                       93.00        5532.0      156.0   \n",
       "           31                       21.00        5532.0      156.0   \n",
       "           32                       21.00        5532.0      156.0   \n",
       "           37                      165.00        5532.0      156.0   \n",
       "           38                      165.00        5532.0      156.0   \n",
       "           39                      165.00        5532.0      156.0   \n",
       "           40                      165.00        5532.0      156.0   \n",
       "\n",
       "                                  Year Code         Year  Months Code  Flag  \n",
       "Item       Prices_in_USD/tonne                                               \n",
       "Sugar cane 8                    1999.000000  1999.000000       7021.0   NaN  \n",
       "           9                    2002.000000  2002.000000       7021.0   NaN  \n",
       "           10                   2002.333333  2002.333333       7021.0   NaN  \n",
       "           11                   2001.000000  2001.000000       7021.0   NaN  \n",
       "           13                   2000.600000  2000.600000       7021.0   NaN  \n",
       "           14                   1998.500000  1998.500000       7021.0   NaN  \n",
       "           15                   1996.750000  1996.750000       7021.0   NaN  \n",
       "           16                   2003.800000  2003.800000       7021.0   NaN  \n",
       "           17                   2006.500000  2006.500000       7021.0   NaN  \n",
       "           18                   2010.000000  2010.000000       7021.0   NaN  \n",
       "           19                   2012.000000  2012.000000       7021.0   NaN  \n",
       "           20                   2011.500000  2011.500000       7021.0   NaN  \n",
       "           23                   1995.000000  1995.000000       7021.0   NaN  \n",
       "           24                   2010.000000  2010.000000       7021.0   NaN  \n",
       "           27                   2014.000000  2014.000000       7021.0   NaN  \n",
       "           30                   2013.500000  2013.500000       7021.0   NaN  \n",
       "           31                   2011.000000  2011.000000       7021.0   NaN  \n",
       "           32                   2012.000000  2012.000000       7021.0   NaN  \n",
       "           37                   2012.000000  2012.000000       7021.0   NaN  \n",
       "           38                   2013.000000  2013.000000       7021.0   NaN  \n",
       "           39                   2016.000000  2016.000000       7021.0   NaN  \n",
       "           40                   2015.000000  2015.000000       7021.0   NaN  "
      ]
     },
     "execution_count": 55,
     "metadata": {},
     "output_type": "execute_result"
    }
   ],
   "source": [
    "sugar_cane.groupby([\"Item\",\"Prices_in_USD/tonne\"]).mean()"
   ]
  },
  {
   "cell_type": "code",
   "execution_count": 56,
   "id": "987b3c0d",
   "metadata": {},
   "outputs": [
    {
     "data": {
      "text/plain": [
       "Year\n",
       "1995    3\n",
       "2005    2\n",
       "2016    2\n",
       "2015    2\n",
       "2014    2\n",
       "2013    2\n",
       "2012    2\n",
       "2008    2\n",
       "1996    2\n",
       "2006    2\n",
       "2007    2\n",
       "2004    2\n",
       "2003    2\n",
       "2002    2\n",
       "2001    2\n",
       "2000    2\n",
       "1999    2\n",
       "1998    2\n",
       "1997    2\n",
       "2009    1\n",
       "2010    1\n",
       "2011    1\n",
       "2018    1\n",
       "2019    1\n",
       "2020    1\n",
       "dtype: int64"
      ]
     },
     "execution_count": 56,
     "metadata": {},
     "output_type": "execute_result"
    }
   ],
   "source": [
    "sugar_cane.value_counts([\"Year\"])"
   ]
  },
  {
   "cell_type": "code",
   "execution_count": null,
   "id": "e6add8dd",
   "metadata": {},
   "outputs": [],
   "source": []
  }
 ],
 "metadata": {
  "kernelspec": {
   "display_name": "Python 3",
   "language": "python",
   "name": "python3"
  },
  "language_info": {
   "codemirror_mode": {
    "name": "ipython",
    "version": 3
   },
   "file_extension": ".py",
   "mimetype": "text/x-python",
   "name": "python",
   "nbconvert_exporter": "python",
   "pygments_lexer": "ipython3",
   "version": "3.10.1"
  },
  "widgets": {
   "application/vnd.jupyter.widget-state+json": {
    "state": {},
    "version_major": 2,
    "version_minor": 0
   }
  }
 },
 "nbformat": 4,
 "nbformat_minor": 5
}
